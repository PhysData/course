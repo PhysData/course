{
 "cells": [
  {
   "attachments": {},
   "cell_type": "markdown",
   "metadata": {},
   "source": [
    "# Using data analysis to interpret speed of light measurements"
   ]
  },
  {
   "attachments": {},
   "cell_type": "markdown",
   "metadata": {},
   "source": [
    "In this notebook, we will investigate some of the ways in which the speed of light has been measured throughout history. The speed of light is an incredibly important value as it is the basis of many fields of physics, for example Maxwell’s electromagnetism, and Einstein’s relativity. In this notebook, we will be considering the speed of light in a vacuum, which is almost exactly the same as the speed of light in air (in air, light is 1.0003 times slower). The two main methods we will consider are Foucalt’s method using a simple time of flight technique, and the method in which the frequency and the wavelength of light is measured, and then used to calculate the speed of light using \n",
    "\n",
    "![](../media/pins%206.png)"
   ]
  },
  {
   "cell_type": "code",
   "execution_count": null,
   "metadata": {},
   "outputs": [],
   "source": [
    "import numpy\n",
    "import scipy.stats\n",
    "import pandas\n",
    "import matplotlib.pyplot as plt\n",
    "plt.style.use(\"bmh\")\n",
    "%config InlineBackend.figure_formats=[\"svg\"]"
   ]
  },
  {
   "attachments": {},
   "cell_type": "markdown",
   "metadata": {},
   "source": [
    "The information in this notebook is partially based on the article by R. J. MacKay and R. W. Oldford, *Scientific Method, Statistical Method and the Speed of Light*, Statistical Science, 2000, 15:3, pp. 254–278, and successive measurements of the speed of light by S. Prokhovnik and W. Morris, *A review of speed of light measurements since 1676*, CEN Tech. J. 1993, 7:2, pp. 181–183. \n",
    "\n",
    "Perhaps the most obvious way to measure the speed of light is to simply measure the time taken for light to travel a certain distance, and then use speed = distance/time. This is the basis behind the Fizeau-Foucalt method, which was developed and perfected by Hippolyte Fizeau and Leon Foucalt in the late 19th century and the early 20th century. Fizeau's method involved passing the beam though the (More details about cogwheel apparatus + animation). \n",
    "\n",
    "In 1879, A. Michelson was working as a physics instructor in Annapolis, when he was ordered to investigate the speed of light based off of Foucault’s  most recent measurement. He repeated Foucault’s rotating mirror method, but increased the path length from about 66 feet to 200 feet (roughly 20 metres to 61 metres). He also managed to get his mirror spinning at 256 rotations per second, quite an incredible feat for his time, using a combination of compressed air, tuning forks, and more mirrors. There were of course, plenty of environmental factors to consider, temperature fluctuations, the refractive index of the atmosphere, etc. However Michelson accounted for them all. \n",
    "\n",
    "Below you can see the results that Michelson recorded in the form of a bar graph, lets perform some analysis on this data"
   ]
  },
  {
   "cell_type": "code",
   "execution_count": null,
   "metadata": {},
   "outputs": [],
   "source": [
    "mich = pandas.read_csv(\"https://risk-engineering.org/static/data/michelson-speed-light.csv\")\n",
    "mich.rename(columns={\"velocity of light in air (km/s)\": \"speed\"}, inplace=True)\n",
    "mich.head()"
   ]
  },
  {
   "cell_type": "code",
   "execution_count": null,
   "metadata": {
    "scrolled": true
   },
   "outputs": [
    {
     "data": {
      "image/svg+xml": "<?xml version=\"1.0\" encoding=\"utf-8\" standalone=\"no\"?>\n<!DOCTYPE svg PUBLIC \"-//W3C//DTD SVG 1.1//EN\"\n  \"http://www.w3.org/Graphics/SVG/1.1/DTD/svg11.dtd\">\n<svg xmlns:xlink=\"http://www.w3.org/1999/xlink\" width=\"369.829091pt\" height=\"281.633875pt\" viewBox=\"0 0 369.829091 281.633875\" xmlns=\"http://www.w3.org/2000/svg\" version=\"1.1\">\n <metadata>\n  <rdf:RDF xmlns:dc=\"http://purl.org/dc/elements/1.1/\" xmlns:cc=\"http://creativecommons.org/ns#\" xmlns:rdf=\"http://www.w3.org/1999/02/22-rdf-syntax-ns#\">\n   <cc:Work>\n    <dc:type rdf:resource=\"http://purl.org/dc/dcmitype/StillImage\"/>\n    <dc:date>2022-05-28T09:25:41.952440</dc:date>\n    <dc:format>image/svg+xml</dc:format>\n    <dc:creator>\n     <cc:Agent>\n      <dc:title>Matplotlib v3.5.1, https://matplotlib.org/</dc:title>\n     </cc:Agent>\n    </dc:creator>\n   </cc:Work>\n  </rdf:RDF>\n </metadata>\n <defs>\n  <style type=\"text/css\">*{stroke-linejoin: round; stroke-linecap: butt}</style>\n </defs>\n <g id=\"figure_1\">\n  <g id=\"patch_1\">\n   <path d=\"M 0 281.633875 \nL 369.829091 281.633875 \nL 369.829091 0 \nL 0 0 \nL 0 281.633875 \nz\n\" style=\"fill: none\"/>\n  </g>\n  <g id=\"axes_1\">\n   <g id=\"patch_2\">\n    <path d=\"M 27.829091 240.69075 \nL 362.629091 240.69075 \nL 362.629091 23.25075 \nL 27.829091 23.25075 \nz\n\" style=\"fill: #eeeeee\"/>\n   </g>\n   <g id=\"patch_3\">\n    <path d=\"M 43.047273 240.69075 \nL 66.45986 240.69075 \nL 66.45986 220.968301 \nL 43.047273 220.968301 \nz\n\" clip-path=\"url(#p8ef70551f2)\" style=\"fill: #348abd; opacity: 0.5\"/>\n   </g>\n   <g id=\"patch_4\">\n    <path d=\"M 66.45986 240.69075 \nL 89.872448 240.69075 \nL 89.872448 240.69075 \nL 66.45986 240.69075 \nz\n\" clip-path=\"url(#p8ef70551f2)\" style=\"fill: #348abd; opacity: 0.5\"/>\n   </g>\n   <g id=\"patch_5\">\n    <path d=\"M 89.872448 240.69075 \nL 113.285035 240.69075 \nL 113.285035 211.107077 \nL 89.872448 211.107077 \nz\n\" clip-path=\"url(#p8ef70551f2)\" style=\"fill: #348abd; opacity: 0.5\"/>\n   </g>\n   <g id=\"patch_6\">\n    <path d=\"M 113.285035 240.69075 \nL 136.697622 240.69075 \nL 136.697622 201.245852 \nL 113.285035 201.245852 \nz\n\" clip-path=\"url(#p8ef70551f2)\" style=\"fill: #348abd; opacity: 0.5\"/>\n   </g>\n   <g id=\"patch_7\">\n    <path d=\"M 136.697622 240.69075 \nL 160.11021 240.69075 \nL 160.11021 132.217281 \nL 136.697622 132.217281 \nz\n\" clip-path=\"url(#p8ef70551f2)\" style=\"fill: #348abd; opacity: 0.5\"/>\n   </g>\n   <g id=\"patch_8\">\n    <path d=\"M 160.11021 240.69075 \nL 183.522797 240.69075 \nL 183.522797 73.049934 \nL 160.11021 73.049934 \nz\n\" clip-path=\"url(#p8ef70551f2)\" style=\"fill: #348abd; opacity: 0.5\"/>\n   </g>\n   <g id=\"patch_9\">\n    <path d=\"M 183.522797 240.69075 \nL 206.935385 240.69075 \nL 206.935385 33.605036 \nL 183.522797 33.605036 \nz\n\" clip-path=\"url(#p8ef70551f2)\" style=\"fill: #348abd; opacity: 0.5\"/>\n   </g>\n   <g id=\"patch_10\">\n    <path d=\"M 206.935385 240.69075 \nL 230.347972 240.69075 \nL 230.347972 73.049934 \nL 206.935385 73.049934 \nz\n\" clip-path=\"url(#p8ef70551f2)\" style=\"fill: #348abd; opacity: 0.5\"/>\n   </g>\n   <g id=\"patch_11\">\n    <path d=\"M 230.347972 240.69075 \nL 253.760559 240.69075 \nL 253.760559 171.662179 \nL 230.347972 171.662179 \nz\n\" clip-path=\"url(#p8ef70551f2)\" style=\"fill: #348abd; opacity: 0.5\"/>\n   </g>\n   <g id=\"patch_12\">\n    <path d=\"M 253.760559 240.69075 \nL 277.173147 240.69075 \nL 277.173147 142.078505 \nL 253.760559 142.078505 \nz\n\" clip-path=\"url(#p8ef70551f2)\" style=\"fill: #348abd; opacity: 0.5\"/>\n   </g>\n   <g id=\"patch_13\">\n    <path d=\"M 277.173147 240.69075 \nL 300.585734 240.69075 \nL 300.585734 171.662179 \nL 277.173147 171.662179 \nz\n\" clip-path=\"url(#p8ef70551f2)\" style=\"fill: #348abd; opacity: 0.5\"/>\n   </g>\n   <g id=\"patch_14\">\n    <path d=\"M 300.585734 240.69075 \nL 323.998322 240.69075 \nL 323.998322 240.69075 \nL 300.585734 240.69075 \nz\n\" clip-path=\"url(#p8ef70551f2)\" style=\"fill: #348abd; opacity: 0.5\"/>\n   </g>\n   <g id=\"patch_15\">\n    <path d=\"M 323.998322 240.69075 \nL 347.410909 240.69075 \nL 347.410909 230.829526 \nL 323.998322 230.829526 \nz\n\" clip-path=\"url(#p8ef70551f2)\" style=\"fill: #348abd; opacity: 0.5\"/>\n   </g>\n   <g id=\"matplotlib.axis_1\">\n    <g id=\"xtick_1\">\n     <g id=\"line2d_1\">\n      <path d=\"M 29.52 240.69075 \nL 29.52 23.25075 \n\" clip-path=\"url(#p8ef70551f2)\" style=\"fill: none; stroke-dasharray: 1.85,0.8; stroke-dashoffset: 0; stroke: #b2b2b2; stroke-width: 0.5\"/>\n     </g>\n     <g id=\"line2d_2\">\n      <defs>\n       <path id=\"m4d190fdc45\" d=\"M 0 0 \nL 0 -3.5 \n\" style=\"stroke: #808080; stroke-width: 0.8\"/>\n      </defs>\n      <g>\n       <use xlink:href=\"#m4d190fdc45\" x=\"29.52\" y=\"240.69075\" style=\"fill: #808080; stroke: #808080; stroke-width: 0.8\"/>\n      </g>\n     </g>\n     <g id=\"text_1\">\n      <!-- 299600 -->\n      <g style=\"fill: #808080\" transform=\"translate(7.2 255.35825)scale(0.16 -0.16)\">\n       <defs>\n        <path id=\"LibertinusSans-32\" d=\"M 1421 3539 \nC 1754 3539 2093 3232 2093 2778 \nC 2093 2515 2016 2176 1850 1926 \nC 1395 1242 659 595 346 301 \nC 339 275 333 250 333 218 \nC 333 122 365 19 397 -32 \nC 870 -19 1146 0 1613 0 \nC 2074 0 2266 -13 2720 -32 \nC 2714 32 2701 109 2701 179 \nC 2701 282 2707 378 2733 480 \nC 2374 448 2176 429 1562 429 \nC 1338 429 1216 429 1037 416 \nC 1037 422 1030 435 1030 448 \nC 1030 506 1101 570 1146 621 \nC 1459 922 1760 1210 2182 1779 \nC 2419 2093 2643 2502 2643 2867 \nC 2643 3475 2234 3904 1523 3904 \nC 941 3904 563 3578 422 3386 \nL 557 2944 \nL 640 2938 \nC 730 3130 762 3258 928 3392 \nC 1056 3494 1242 3539 1421 3539 \nz\n\" transform=\"scale(0.015625)\"/>\n        <path id=\"LibertinusSans-39\" d=\"M 2131 2067 \nC 1882 1811 1626 1805 1485 1805 \nC 838 1805 742 2419 742 2733 \nC 742 3437 1005 3667 1312 3667 \nC 1651 3667 2138 3443 2138 2304 \nC 2138 2240 2138 2131 2131 2067 \nz\nM 384 109 \nL 403 -70 \nC 1062 -32 1530 147 1965 589 \nC 2432 1056 2650 1664 2650 2285 \nC 2650 3629 1875 3898 1382 3898 \nC 448 3898 179 3149 179 2688 \nC 179 2381 352 1549 1350 1549 \nC 1606 1549 1965 1690 2118 1882 \nC 2048 1338 1818 883 1510 582 \nC 1184 269 826 154 384 109 \nz\n\" transform=\"scale(0.015625)\"/>\n        <path id=\"LibertinusSans-36\" d=\"M 813 1773 \nC 1062 2029 1318 2035 1459 2035 \nC 2106 2035 2202 1421 2202 1107 \nC 2202 403 1939 173 1632 173 \nC 1293 173 806 397 806 1536 \nC 806 1600 806 1709 813 1773 \nz\nM 2560 3731 \nL 2541 3910 \nC 1882 3872 1414 3693 979 3251 \nC 512 2784 294 2176 294 1555 \nC 294 211 1069 -58 1562 -58 \nC 2496 -58 2765 691 2765 1152 \nC 2765 1459 2592 2291 1594 2291 \nC 1338 2291 979 2150 826 1958 \nC 896 2502 1126 2957 1434 3258 \nC 1760 3571 2118 3686 2560 3731 \nz\n\" transform=\"scale(0.015625)\"/>\n        <path id=\"LibertinusSans-30\" d=\"M 1491 3654 \nC 1600 3654 1702 3616 1773 3552 \nC 1971 3386 2144 2886 2144 2029 \nC 2144 1440 2125 1107 2035 781 \nC 1894 250 1581 186 1466 186 \nC 870 186 800 1280 800 1837 \nC 800 3418 1197 3654 1491 3654 \nz\nM 1459 -64 \nC 1952 -64 2694 480 2694 1978 \nC 2694 2976 2330 3469 2099 3680 \nC 1926 3840 1722 3904 1491 3904 \nC 851 3904 250 3110 250 1850 \nC 250 813 666 -64 1459 -64 \nz\n\" transform=\"scale(0.015625)\"/>\n       </defs>\n       <use xlink:href=\"#LibertinusSans-32\"/>\n       <use xlink:href=\"#LibertinusSans-39\" x=\"46.499985\"/>\n       <use xlink:href=\"#LibertinusSans-39\" x=\"92.999969\"/>\n       <use xlink:href=\"#LibertinusSans-36\" x=\"139.499954\"/>\n       <use xlink:href=\"#LibertinusSans-30\" x=\"185.999939\"/>\n       <use xlink:href=\"#LibertinusSans-30\" x=\"232.499924\"/>\n      </g>\n     </g>\n    </g>\n    <g id=\"xtick_2\">\n     <g id=\"line2d_3\">\n      <path d=\"M 97.156364 240.69075 \nL 97.156364 23.25075 \n\" clip-path=\"url(#p8ef70551f2)\" style=\"fill: none; stroke-dasharray: 1.85,0.8; stroke-dashoffset: 0; stroke: #b2b2b2; stroke-width: 0.5\"/>\n     </g>\n     <g id=\"line2d_4\">\n      <g>\n       <use xlink:href=\"#m4d190fdc45\" x=\"97.156364\" y=\"240.69075\" style=\"fill: #808080; stroke: #808080; stroke-width: 0.8\"/>\n      </g>\n     </g>\n     <g id=\"text_2\">\n      <!-- 299700 -->\n      <g style=\"fill: #808080\" transform=\"translate(74.836364 255.35825)scale(0.16 -0.16)\">\n       <defs>\n        <path id=\"LibertinusSans-37\" d=\"M 2208 3360 \nC 1709 2125 1222 915 794 -45 \nL 813 -83 \nL 1280 -58 \nC 1645 1030 1997 2093 2714 3840 \nL 2605 3904 \nC 2509 3872 2394 3840 2195 3840 \nC 1242 3840 678 3846 403 3885 \nC 416 3789 435 3712 435 3616 \nC 435 3520 416 3398 403 3302 \nC 870 3366 1786 3373 2208 3360 \nz\n\" transform=\"scale(0.015625)\"/>\n       </defs>\n       <use xlink:href=\"#LibertinusSans-32\"/>\n       <use xlink:href=\"#LibertinusSans-39\" x=\"46.499985\"/>\n       <use xlink:href=\"#LibertinusSans-39\" x=\"92.999969\"/>\n       <use xlink:href=\"#LibertinusSans-37\" x=\"139.499954\"/>\n       <use xlink:href=\"#LibertinusSans-30\" x=\"185.999939\"/>\n       <use xlink:href=\"#LibertinusSans-30\" x=\"232.499924\"/>\n      </g>\n     </g>\n    </g>\n    <g id=\"xtick_3\">\n     <g id=\"line2d_5\">\n      <path d=\"M 164.792727 240.69075 \nL 164.792727 23.25075 \n\" clip-path=\"url(#p8ef70551f2)\" style=\"fill: none; stroke-dasharray: 1.85,0.8; stroke-dashoffset: 0; stroke: #b2b2b2; stroke-width: 0.5\"/>\n     </g>\n     <g id=\"line2d_6\">\n      <g>\n       <use xlink:href=\"#m4d190fdc45\" x=\"164.792727\" y=\"240.69075\" style=\"fill: #808080; stroke: #808080; stroke-width: 0.8\"/>\n      </g>\n     </g>\n     <g id=\"text_3\">\n      <!-- 299800 -->\n      <g style=\"fill: #808080\" transform=\"translate(142.472727 255.35825)scale(0.16 -0.16)\">\n       <defs>\n        <path id=\"LibertinusSans-38\" d=\"M 1504 3693 \nC 1920 3693 2074 3411 2074 3110 \nC 2074 2765 1734 2458 1555 2330 \nL 1357 2445 \nC 954 2707 909 2944 909 3142 \nC 909 3443 1120 3693 1504 3693 \nz\nM 2547 3104 \nC 2547 3565 2176 3904 1542 3904 \nC 890 3904 429 3520 429 3027 \nC 429 2669 627 2349 992 2138 \nL 1120 2067 \nC 960 1946 832 1843 672 1702 \nC 410 1472 250 1184 250 934 \nC 250 282 768 -58 1446 -58 \nC 2285 -58 2739 550 2739 1037 \nC 2739 1408 2534 1690 2182 1920 \nL 1792 2176 \nC 2080 2368 2547 2694 2547 3104 \nz\nM 1459 154 \nC 1165 154 749 358 749 934 \nC 749 1126 800 1555 1350 1920 \nL 1645 1734 \nC 2042 1485 2208 1203 2208 902 \nC 2208 282 1754 154 1459 154 \nz\n\" transform=\"scale(0.015625)\"/>\n       </defs>\n       <use xlink:href=\"#LibertinusSans-32\"/>\n       <use xlink:href=\"#LibertinusSans-39\" x=\"46.499985\"/>\n       <use xlink:href=\"#LibertinusSans-39\" x=\"92.999969\"/>\n       <use xlink:href=\"#LibertinusSans-38\" x=\"139.499954\"/>\n       <use xlink:href=\"#LibertinusSans-30\" x=\"185.999939\"/>\n       <use xlink:href=\"#LibertinusSans-30\" x=\"232.499924\"/>\n      </g>\n     </g>\n    </g>\n    <g id=\"xtick_4\">\n     <g id=\"line2d_7\">\n      <path d=\"M 232.429091 240.69075 \nL 232.429091 23.25075 \n\" clip-path=\"url(#p8ef70551f2)\" style=\"fill: none; stroke-dasharray: 1.85,0.8; stroke-dashoffset: 0; stroke: #b2b2b2; stroke-width: 0.5\"/>\n     </g>\n     <g id=\"line2d_8\">\n      <g>\n       <use xlink:href=\"#m4d190fdc45\" x=\"232.429091\" y=\"240.69075\" style=\"fill: #808080; stroke: #808080; stroke-width: 0.8\"/>\n      </g>\n     </g>\n     <g id=\"text_4\">\n      <!-- 299900 -->\n      <g style=\"fill: #808080\" transform=\"translate(210.109091 255.35825)scale(0.16 -0.16)\">\n       <use xlink:href=\"#LibertinusSans-32\"/>\n       <use xlink:href=\"#LibertinusSans-39\" x=\"46.499985\"/>\n       <use xlink:href=\"#LibertinusSans-39\" x=\"92.999969\"/>\n       <use xlink:href=\"#LibertinusSans-39\" x=\"139.499954\"/>\n       <use xlink:href=\"#LibertinusSans-30\" x=\"185.999939\"/>\n       <use xlink:href=\"#LibertinusSans-30\" x=\"232.499924\"/>\n      </g>\n     </g>\n    </g>\n    <g id=\"xtick_5\">\n     <g id=\"line2d_9\">\n      <path d=\"M 300.065455 240.69075 \nL 300.065455 23.25075 \n\" clip-path=\"url(#p8ef70551f2)\" style=\"fill: none; stroke-dasharray: 1.85,0.8; stroke-dashoffset: 0; stroke: #b2b2b2; stroke-width: 0.5\"/>\n     </g>\n     <g id=\"line2d_10\">\n      <g>\n       <use xlink:href=\"#m4d190fdc45\" x=\"300.065455\" y=\"240.69075\" style=\"fill: #808080; stroke: #808080; stroke-width: 0.8\"/>\n      </g>\n     </g>\n     <g id=\"text_5\">\n      <!-- 300000 -->\n      <g style=\"fill: #808080\" transform=\"translate(277.745455 255.35825)scale(0.16 -0.16)\">\n       <defs>\n        <path id=\"LibertinusSans-33\" d=\"M 1338 186 \nC 832 186 762 378 589 749 \nL 493 742 \nL 352 262 \nL 371 243 \nC 538 102 813 -64 1325 -64 \nC 1869 -64 2726 307 2726 1152 \nC 2726 1658 2336 2016 1843 2061 \nL 1843 2093 \nC 2176 2170 2598 2541 2598 3072 \nC 2598 3533 2202 3904 1568 3904 \nC 1075 3904 717 3686 557 3546 \nL 538 3526 \nL 672 3117 \nL 768 3110 \nC 922 3469 1126 3654 1510 3654 \nC 1760 3654 2042 3392 2042 2976 \nC 2042 2694 1946 2490 1798 2349 \nC 1670 2227 1485 2170 1267 2170 \nC 1190 2170 1120 2176 1030 2189 \nL 1030 1907 \nC 1107 1920 1242 1920 1299 1920 \nC 1504 1920 1747 1862 1926 1715 \nC 2093 1574 2176 1350 2176 1101 \nC 2176 326 1568 186 1338 186 \nz\n\" transform=\"scale(0.015625)\"/>\n       </defs>\n       <use xlink:href=\"#LibertinusSans-33\"/>\n       <use xlink:href=\"#LibertinusSans-30\" x=\"46.499985\"/>\n       <use xlink:href=\"#LibertinusSans-30\" x=\"92.999969\"/>\n       <use xlink:href=\"#LibertinusSans-30\" x=\"139.499954\"/>\n       <use xlink:href=\"#LibertinusSans-30\" x=\"185.999939\"/>\n       <use xlink:href=\"#LibertinusSans-30\" x=\"232.499924\"/>\n      </g>\n     </g>\n    </g>\n    <g id=\"text_6\">\n     <!-- Measured speed (km/s) -->\n     <g transform=\"translate(137.781903 271.613875)scale(0.12 -0.12)\">\n      <defs>\n       <path id=\"LibertinusSans-4d\" d=\"M 1235 4237 \nC 1011 2944 659 1178 410 -19 \nC 480 0 544 0 621 0 \nC 691 0 742 0 813 -19 \nC 909 653 1126 2080 1280 3046 \nL 1312 3046 \nC 1792 2029 2246 992 2656 0 \nL 2778 0 \nC 3238 1050 3693 2022 4198 3027 \nL 4218 3021 \nC 4352 2016 4480 1037 4576 -19 \nC 4672 0 4794 0 4890 0 \nC 4986 0 5152 0 5248 -19 \nC 5018 1350 4826 2682 4646 4237 \nL 4486 4237 \nL 2931 1062 \nL 2880 1062 \nC 2374 2112 1914 3136 1446 4237 \nL 1235 4237 \nz\n\" transform=\"scale(0.015625)\"/>\n       <path id=\"LibertinusSans-65\" d=\"M 800 1747 \nC 909 2413 1325 2554 1530 2554 \nC 1779 2554 2067 2317 2067 1837 \nC 2067 1779 2042 1747 1978 1747 \nL 800 1747 \nz\nM 2509 666 \nC 2285 422 1984 314 1632 314 \nC 1408 314 1107 397 934 678 \nC 819 858 781 1114 781 1491 \nL 2522 1491 \nC 2592 1491 2637 1530 2637 1600 \nC 2637 2138 2374 2810 1530 2810 \nC 870 2810 218 2278 218 1338 \nC 218 973 288 614 506 358 \nC 723 90 1088 -64 1523 -64 \nC 1984 -64 2394 173 2637 506 \nL 2509 666 \nz\n\" transform=\"scale(0.015625)\"/>\n       <path id=\"LibertinusSans-61\" d=\"M 1984 1440 \nL 1958 678 \nC 1958 595 1920 550 1869 512 \nC 1690 378 1472 262 1280 262 \nC 992 262 806 454 806 653 \nC 806 941 941 1158 1440 1293 \nL 1984 1440 \nz\nM 1984 307 \nC 2054 51 2246 -64 2483 -64 \nC 2643 -64 2842 -26 2989 134 \nL 2944 288 \nC 2874 262 2816 256 2771 256 \nC 2707 256 2624 269 2579 307 \nC 2515 365 2477 518 2477 806 \nC 2477 992 2496 1702 2496 1773 \nC 2496 2637 1926 2810 1440 2810 \nC 954 2810 659 2573 499 2438 \nL 480 2413 \nL 589 1984 \nL 672 1978 \nC 851 2266 1069 2522 1376 2522 \nC 1606 2522 1990 2490 1990 1766 \nC 1990 1722 1965 1696 1946 1690 \nL 1350 1555 \nC 698 1408 288 1062 288 627 \nC 288 154 614 -64 1088 -64 \nC 1440 -64 1619 19 1958 307 \nL 1984 307 \nz\n\" transform=\"scale(0.015625)\"/>\n       <path id=\"LibertinusSans-73\" d=\"M 320 646 \nL 211 109 \nC 576 -19 934 -64 1178 -64 \nC 2061 -64 2266 461 2266 813 \nC 2266 1338 1850 1542 1395 1651 \nC 1152 1709 800 1830 800 2150 \nC 800 2413 1011 2554 1286 2554 \nC 1619 2554 1824 2291 1971 2118 \nL 2061 2125 \nL 2189 2598 \nL 2176 2618 \nC 1990 2714 1638 2810 1312 2810 \nC 838 2810 346 2560 346 2029 \nC 346 1517 723 1344 1114 1242 \nC 1485 1139 1760 1037 1760 723 \nC 1760 384 1510 192 1171 192 \nC 864 192 595 403 416 653 \nL 320 646 \nz\n\" transform=\"scale(0.015625)\"/>\n       <path id=\"LibertinusSans-75\" d=\"M 2336 589 \nL 2362 570 \nL 2394 0 \nC 2394 -13 2400 -19 2419 -19 \nC 2502 -13 2579 0 2669 0 \nC 2752 0 2874 -6 2957 -19 \nL 2970 0 \nC 2918 275 2861 749 2861 1229 \nL 2861 1594 \nC 2861 2074 2867 2406 2918 2746 \nL 2906 2765 \nC 2829 2752 2682 2746 2605 2746 \nC 2528 2746 2381 2752 2304 2765 \nL 2291 2746 \nC 2336 2374 2349 2080 2349 1594 \nL 2349 966 \nC 2150 634 1786 294 1472 294 \nC 1248 294 1043 365 1043 960 \nL 1043 1594 \nC 1043 2074 1050 2406 1101 2746 \nL 1088 2765 \nC 1011 2752 864 2746 787 2746 \nC 710 2746 563 2752 486 2765 \nL 474 2746 \nC 525 2381 531 2080 531 1594 \nL 531 826 \nC 531 384 736 -64 1370 -64 \nC 1766 -64 2125 262 2336 589 \nz\n\" transform=\"scale(0.015625)\"/>\n       <path id=\"LibertinusSans-72\" d=\"M 1069 2138 \nL 1069 2720 \nC 1069 2765 1056 2784 1030 2784 \nC 883 2752 653 2746 512 2765 \nL 499 2746 \nC 544 2464 557 1984 557 1504 \nL 557 1152 \nC 557 672 544 339 499 0 \nL 512 -19 \nC 589 -6 736 0 813 0 \nC 890 0 1037 -6 1114 -19 \nL 1126 0 \nC 1075 365 1069 666 1069 1152 \nL 1069 1485 \nC 1069 1754 1146 1907 1286 2118 \nC 1376 2259 1523 2342 1645 2342 \nC 1773 2342 1894 2330 1978 2253 \nL 2029 2266 \nL 2157 2739 \nL 2131 2765 \nC 2022 2797 2016 2810 1901 2810 \nC 1555 2810 1370 2611 1088 2125 \nL 1069 2138 \nz\n\" transform=\"scale(0.015625)\"/>\n       <path id=\"LibertinusSans-64\" d=\"M 2310 723 \nC 2074 422 1779 269 1523 269 \nC 1178 269 883 614 883 1414 \nC 883 2374 1389 2554 1702 2554 \nC 2003 2554 2157 2426 2310 2182 \nL 2310 723 \nz\nM 2310 371 \nL 2323 371 \nL 2355 0 \nC 2355 -13 2374 -19 2413 -19 \nC 2496 -13 2541 0 2630 0 \nC 2714 0 2835 -6 2918 -19 \nL 2931 0 \nC 2880 275 2822 749 2822 1229 \nL 2822 3200 \nC 2822 3674 2848 4006 2880 4403 \nC 2880 4448 2861 4467 2822 4467 \nC 2656 4403 2522 4358 2266 4339 \nL 2253 4320 \nC 2298 4045 2310 3571 2310 3085 \nL 2310 2669 \nC 2163 2752 1901 2810 1773 2810 \nC 934 2810 326 2234 326 1363 \nC 326 576 794 -64 1485 -64 \nC 1792 -64 2080 70 2310 371 \nz\n\" transform=\"scale(0.015625)\"/>\n       <path id=\"LibertinusSans-20\" transform=\"scale(0.015625)\"/>\n       <path id=\"LibertinusSans-70\" d=\"M 1037 1882 \nC 1178 2221 1555 2515 1805 2515 \nC 2240 2515 2464 2118 2464 1395 \nC 2464 870 2317 192 1632 192 \nC 1530 192 1261 218 1037 480 \nL 1037 1882 \nz\nM 1037 2253 \nL 1037 2720 \nC 1037 2765 1024 2784 998 2784 \nC 851 2752 621 2746 480 2765 \nL 467 2746 \nC 512 2464 525 1984 525 1504 \nL 525 -205 \nC 525 -685 512 -1146 467 -1485 \nL 480 -1504 \nC 557 -1491 704 -1485 781 -1485 \nC 858 -1485 1005 -1491 1082 -1504 \nL 1094 -1485 \nC 1043 -1120 1037 -691 1037 -205 \nL 1037 77 \nC 1203 -13 1440 -64 1670 -64 \nC 2515 -64 3027 576 3027 1478 \nC 3027 2157 2630 2810 1914 2810 \nC 1664 2810 1344 2682 1050 2234 \nL 1037 2253 \nz\n\" transform=\"scale(0.015625)\"/>\n       <path id=\"LibertinusSans-28\" d=\"M 282 1613 \nC 282 1325 307 -154 1638 -1306 \nL 1786 -1197 \nC 1574 -954 813 -70 813 1613 \nC 813 3296 1581 4179 1786 4410 \nL 1638 4525 \nC 877 3872 282 2803 282 1613 \nz\n\" transform=\"scale(0.015625)\"/>\n       <path id=\"LibertinusSans-6b\" d=\"M 576 1280 \nC 576 800 563 339 518 0 \nL 531 -19 \nC 608 -6 755 0 832 0 \nC 909 0 1056 -6 1133 -19 \nL 1146 0 \nC 1094 365 1088 794 1088 1280 \nL 1088 1344 \nC 1139 1338 1293 1318 1350 1274 \nC 1766 838 1920 608 2355 -19 \nC 2451 -13 2669 0 2778 0 \nC 2880 0 3104 -13 3162 -19 \nL 3174 0 \nC 2694 499 2355 781 1747 1523 \nC 1997 1779 2624 2387 3040 2746 \nL 3027 2765 \nC 2906 2746 2554 2746 2381 2746 \nC 2099 2342 1619 1824 1370 1632 \nC 1286 1568 1171 1542 1088 1536 \nL 1088 3200 \nC 1088 3680 1114 3994 1146 4403 \nC 1146 4448 1126 4467 1088 4467 \nC 922 4403 787 4358 531 4339 \nL 518 4320 \nC 563 4045 576 3571 576 3085 \nL 576 1280 \nz\n\" transform=\"scale(0.015625)\"/>\n       <path id=\"LibertinusSans-6d\" d=\"M 1037 2253 \nL 1037 2720 \nC 1037 2765 1024 2784 998 2784 \nC 851 2752 621 2746 480 2765 \nL 467 2746 \nC 512 2464 525 1984 525 1504 \nL 525 1152 \nC 525 672 518 346 467 0 \nL 480 -19 \nC 557 -6 704 0 781 0 \nC 858 0 1005 -6 1082 -19 \nL 1094 0 \nC 1043 365 1037 666 1037 1152 \nL 1037 1926 \nC 1338 2234 1696 2426 1920 2426 \nC 2163 2426 2342 2285 2342 1856 \nL 2342 1152 \nC 2342 672 2336 346 2285 0 \nL 2298 -19 \nC 2374 -6 2522 0 2598 0 \nC 2675 0 2822 -6 2899 -19 \nL 2912 0 \nC 2861 365 2854 666 2854 1152 \nL 2854 1798 \nC 2854 1888 2854 1965 2848 2042 \nC 3155 2381 3411 2426 3661 2426 \nC 4006 2426 4173 2285 4173 1856 \nL 4173 1152 \nC 4173 672 4166 346 4115 0 \nL 4128 -19 \nC 4205 -6 4352 0 4429 0 \nC 4506 0 4653 -6 4730 -19 \nL 4742 0 \nC 4691 365 4685 666 4685 1152 \nL 4685 1792 \nC 4685 2362 4582 2810 3891 2810 \nC 3546 2810 3174 2688 2810 2304 \nC 2752 2611 2490 2810 2131 2810 \nC 1734 2810 1357 2554 1056 2234 \nL 1037 2253 \nz\n\" transform=\"scale(0.015625)\"/>\n       <path id=\"LibertinusSans-2f\" d=\"M 1875 4134 \nL 1613 4134 \nL 96 -378 \nL 358 -378 \nL 1875 4134 \nz\n\" transform=\"scale(0.015625)\"/>\n       <path id=\"LibertinusSans-29\" d=\"M 1638 1613 \nC 1638 1901 1613 3379 282 4531 \nL 134 4422 \nC 346 4179 1107 3296 1107 1613 \nC 1107 -70 339 -954 134 -1184 \nL 282 -1299 \nC 1043 -646 1638 422 1638 1613 \nz\n\" transform=\"scale(0.015625)\"/>\n      </defs>\n      <use xlink:href=\"#LibertinusSans-4d\"/>\n      <use xlink:href=\"#LibertinusSans-65\" x=\"88.599991\"/>\n      <use xlink:href=\"#LibertinusSans-61\" x=\"133.899979\"/>\n      <use xlink:href=\"#LibertinusSans-73\" x=\"181.999969\"/>\n      <use xlink:href=\"#LibertinusSans-75\" x=\"221.59996\"/>\n      <use xlink:href=\"#LibertinusSans-72\" x=\"275.299957\"/>\n      <use xlink:href=\"#LibertinusSans-65\" x=\"310.799942\"/>\n      <use xlink:href=\"#LibertinusSans-64\" x=\"356.09993\"/>\n      <use xlink:href=\"#LibertinusSans-20\" x=\"409.099915\"/>\n      <use xlink:href=\"#LibertinusSans-73\" x=\"434.099899\"/>\n      <use xlink:href=\"#LibertinusSans-70\" x=\"473.69989\"/>\n      <use xlink:href=\"#LibertinusSans-65\" x=\"525.999878\"/>\n      <use xlink:href=\"#LibertinusSans-65\" x=\"571.299866\"/>\n      <use xlink:href=\"#LibertinusSans-64\" x=\"616.599854\"/>\n      <use xlink:href=\"#LibertinusSans-20\" x=\"669.599838\"/>\n      <use xlink:href=\"#LibertinusSans-28\" x=\"694.599823\"/>\n      <use xlink:href=\"#LibertinusSans-6b\" x=\"724.599808\"/>\n      <use xlink:href=\"#LibertinusSans-6d\" x=\"774.899796\"/>\n      <use xlink:href=\"#LibertinusSans-2f\" x=\"855.599777\"/>\n      <use xlink:href=\"#LibertinusSans-73\" x=\"887.899765\"/>\n      <use xlink:href=\"#LibertinusSans-29\" x=\"927.499756\"/>\n     </g>\n    </g>\n   </g>\n   <g id=\"matplotlib.axis_2\">\n    <g id=\"ytick_1\">\n     <g id=\"line2d_11\">\n      <path d=\"M 27.829091 240.69075 \nL 362.629091 240.69075 \n\" clip-path=\"url(#p8ef70551f2)\" style=\"fill: none; stroke-dasharray: 1.85,0.8; stroke-dashoffset: 0; stroke: #b2b2b2; stroke-width: 0.5\"/>\n     </g>\n     <g id=\"line2d_12\">\n      <defs>\n       <path id=\"md8c8d74236\" d=\"M 0 0 \nL 3.5 0 \n\" style=\"stroke: #808080; stroke-width: 0.8\"/>\n      </defs>\n      <g>\n       <use xlink:href=\"#md8c8d74236\" x=\"27.829091\" y=\"240.69075\" style=\"fill: #808080; stroke: #808080; stroke-width: 0.8\"/>\n      </g>\n     </g>\n     <g id=\"text_7\">\n      <!-- 0 -->\n      <g style=\"fill: #808080\" transform=\"translate(16.889091 246.2745)scale(0.16 -0.16)\">\n       <use xlink:href=\"#LibertinusSans-30\"/>\n      </g>\n     </g>\n    </g>\n    <g id=\"ytick_2\">\n     <g id=\"line2d_13\">\n      <path d=\"M 27.829091 191.384628 \nL 362.629091 191.384628 \n\" clip-path=\"url(#p8ef70551f2)\" style=\"fill: none; stroke-dasharray: 1.85,0.8; stroke-dashoffset: 0; stroke: #b2b2b2; stroke-width: 0.5\"/>\n     </g>\n     <g id=\"line2d_14\">\n      <g>\n       <use xlink:href=\"#md8c8d74236\" x=\"27.829091\" y=\"191.384628\" style=\"fill: #808080; stroke: #808080; stroke-width: 0.8\"/>\n      </g>\n     </g>\n     <g id=\"text_8\">\n      <!-- 5 -->\n      <g style=\"fill: #808080\" transform=\"translate(16.889091 196.968378)scale(0.16 -0.16)\">\n       <defs>\n        <path id=\"LibertinusSans-35\" d=\"M 1293 -64 \nC 2054 -64 2598 499 2598 1254 \nC 2598 1875 2182 2432 1466 2432 \nC 1203 2432 909 2387 768 2336 \nL 902 3469 \nC 1139 3437 1414 3411 1715 3411 \nC 1907 3411 2125 3418 2387 3450 \nL 2490 3885 \nL 2445 3904 \nC 2080 3859 1734 3840 1395 3840 \nC 1158 3840 883 3859 666 3878 \nL 461 1990 \nL 506 1978 \nC 755 2080 998 2176 1299 2176 \nC 1715 2176 2035 1843 2035 1146 \nC 2035 557 1741 192 1306 192 \nC 826 192 742 448 531 832 \nL 442 826 \nL 301 314 \nL 326 294 \nC 486 154 806 -64 1293 -64 \nz\n\" transform=\"scale(0.015625)\"/>\n       </defs>\n       <use xlink:href=\"#LibertinusSans-35\"/>\n      </g>\n     </g>\n    </g>\n    <g id=\"ytick_3\">\n     <g id=\"line2d_15\">\n      <path d=\"M 27.829091 142.078505 \nL 362.629091 142.078505 \n\" clip-path=\"url(#p8ef70551f2)\" style=\"fill: none; stroke-dasharray: 1.85,0.8; stroke-dashoffset: 0; stroke: #b2b2b2; stroke-width: 0.5\"/>\n     </g>\n     <g id=\"line2d_16\">\n      <g>\n       <use xlink:href=\"#md8c8d74236\" x=\"27.829091\" y=\"142.078505\" style=\"fill: #808080; stroke: #808080; stroke-width: 0.8\"/>\n      </g>\n     </g>\n     <g id=\"text_9\">\n      <!-- 10 -->\n      <g style=\"fill: #808080\" transform=\"translate(9.449091 147.662255)scale(0.16 -0.16)\">\n       <defs>\n        <path id=\"LibertinusSans-31\" d=\"M 1830 1210 \nL 1830 2835 \nC 1830 3526 1869 3782 1882 3872 \nC 1882 3904 1862 3904 1837 3904 \nC 1421 3770 934 3520 435 3366 \nL 474 3181 \nC 762 3213 1075 3283 1203 3283 \nC 1318 3283 1318 3027 1318 2797 \nL 1318 1210 \nC 1318 710 1312 365 1267 0 \nL 1274 -19 \nC 1274 -19 1453 0 1568 0 \nC 1696 0 1875 -19 1875 -19 \nL 1888 0 \nC 1843 384 1830 704 1830 1210 \nz\n\" transform=\"scale(0.015625)\"/>\n       </defs>\n       <use xlink:href=\"#LibertinusSans-31\"/>\n       <use xlink:href=\"#LibertinusSans-30\" x=\"46.499985\"/>\n      </g>\n     </g>\n    </g>\n    <g id=\"ytick_4\">\n     <g id=\"line2d_17\">\n      <path d=\"M 27.829091 92.772383 \nL 362.629091 92.772383 \n\" clip-path=\"url(#p8ef70551f2)\" style=\"fill: none; stroke-dasharray: 1.85,0.8; stroke-dashoffset: 0; stroke: #b2b2b2; stroke-width: 0.5\"/>\n     </g>\n     <g id=\"line2d_18\">\n      <g>\n       <use xlink:href=\"#md8c8d74236\" x=\"27.829091\" y=\"92.772383\" style=\"fill: #808080; stroke: #808080; stroke-width: 0.8\"/>\n      </g>\n     </g>\n     <g id=\"text_10\">\n      <!-- 15 -->\n      <g style=\"fill: #808080\" transform=\"translate(9.449091 98.356133)scale(0.16 -0.16)\">\n       <use xlink:href=\"#LibertinusSans-31\"/>\n       <use xlink:href=\"#LibertinusSans-35\" x=\"46.499985\"/>\n      </g>\n     </g>\n    </g>\n    <g id=\"ytick_5\">\n     <g id=\"line2d_19\">\n      <path d=\"M 27.829091 43.46626 \nL 362.629091 43.46626 \n\" clip-path=\"url(#p8ef70551f2)\" style=\"fill: none; stroke-dasharray: 1.85,0.8; stroke-dashoffset: 0; stroke: #b2b2b2; stroke-width: 0.5\"/>\n     </g>\n     <g id=\"line2d_20\">\n      <g>\n       <use xlink:href=\"#md8c8d74236\" x=\"27.829091\" y=\"43.46626\" style=\"fill: #808080; stroke: #808080; stroke-width: 0.8\"/>\n      </g>\n     </g>\n     <g id=\"text_11\">\n      <!-- 20 -->\n      <g style=\"fill: #808080\" transform=\"translate(9.449091 49.05001)scale(0.16 -0.16)\">\n       <use xlink:href=\"#LibertinusSans-32\"/>\n       <use xlink:href=\"#LibertinusSans-30\" x=\"46.499985\"/>\n      </g>\n     </g>\n    </g>\n   </g>\n   <g id=\"patch_16\">\n    <path d=\"M 27.829091 240.69075 \nL 27.829091 23.25075 \n\" style=\"fill: none; stroke: #bcbcbc; stroke-width: 0.8; stroke-linejoin: miter; stroke-linecap: square\"/>\n   </g>\n   <g id=\"patch_17\">\n    <path d=\"M 362.629091 240.69075 \nL 362.629091 23.25075 \n\" style=\"fill: none; stroke: #bcbcbc; stroke-width: 0.8; stroke-linejoin: miter; stroke-linecap: square\"/>\n   </g>\n   <g id=\"patch_18\">\n    <path d=\"M 27.829091 240.69075 \nL 362.629091 240.69075 \n\" style=\"fill: none; stroke: #bcbcbc; stroke-width: 0.8; stroke-linejoin: miter; stroke-linecap: square\"/>\n   </g>\n   <g id=\"patch_19\">\n    <path d=\"M 27.829091 23.25075 \nL 362.629091 23.25075 \n\" style=\"fill: none; stroke: #bcbcbc; stroke-width: 0.8; stroke-linejoin: miter; stroke-linecap: square\"/>\n   </g>\n   <g id=\"text_12\">\n    <!-- Michelson speed of light measurements -->\n    <g transform=\"translate(77.509091 17.25075)scale(0.144 -0.144)\">\n     <defs>\n      <path id=\"LibertinusSans-69\" d=\"M 512 3821 \nC 512 3648 666 3494 838 3494 \nC 1011 3494 1165 3648 1165 3821 \nC 1165 3994 1011 4147 838 4147 \nC 666 4147 512 3994 512 3821 \nz\nM 576 1504 \nL 576 1152 \nC 576 672 563 346 518 0 \nL 531 -19 \nC 608 -6 755 0 832 0 \nC 909 0 1056 -6 1133 -19 \nL 1146 0 \nC 1094 358 1088 666 1088 1152 \nL 1088 1606 \nC 1088 2086 1101 2317 1146 2707 \nC 1146 2765 1133 2771 1088 2771 \nC 941 2752 666 2752 531 2765 \nL 518 2746 \nC 557 2470 576 1984 576 1504 \nz\n\" transform=\"scale(0.015625)\"/>\n      <path id=\"LibertinusSans-63\" d=\"M 1600 2554 \nC 1843 2554 2067 2368 2240 2080 \nL 2323 2086 \nL 2470 2611 \nL 2458 2630 \nC 2259 2733 1926 2810 1606 2810 \nC 941 2810 243 2266 243 1395 \nC 243 499 749 -64 1530 -64 \nC 1914 -64 2214 64 2470 390 \nL 2349 525 \nL 2323 525 \nC 2080 307 1875 256 1638 256 \nC 1171 256 806 678 806 1427 \nC 806 2131 1178 2554 1600 2554 \nz\n\" transform=\"scale(0.015625)\"/>\n      <path id=\"LibertinusSans-68\" d=\"M 1088 2253 \nL 1088 3206 \nC 1088 3680 1114 4006 1146 4403 \nC 1146 4448 1126 4467 1088 4467 \nC 922 4403 787 4358 531 4339 \nL 518 4320 \nC 563 4045 576 3565 576 3078 \nL 576 1152 \nC 576 672 563 358 518 0 \nL 531 -19 \nC 608 -6 755 0 832 0 \nC 909 0 1056 -6 1133 -19 \nL 1146 0 \nC 1094 365 1088 666 1088 1152 \nL 1088 1901 \nC 1414 2285 1786 2426 2016 2426 \nC 2342 2426 2477 2298 2477 1779 \nL 2477 1152 \nC 2477 672 2470 339 2419 0 \nL 2432 -19 \nC 2509 -6 2656 0 2733 0 \nC 2810 0 2957 -6 3034 -19 \nL 3046 0 \nC 2995 365 2989 666 2989 1152 \nC 2989 1357 3002 1594 3002 1798 \nC 3002 2464 2784 2810 2208 2810 \nC 1965 2810 1510 2714 1101 2234 \nL 1088 2253 \nz\n\" transform=\"scale(0.015625)\"/>\n      <path id=\"LibertinusSans-6c\" d=\"M 576 1280 \nC 576 800 563 339 518 0 \nL 531 -19 \nC 608 -6 755 0 832 0 \nC 909 0 1056 -6 1133 -19 \nL 1146 0 \nC 1094 365 1088 794 1088 1280 \nL 1088 3200 \nC 1088 3680 1114 3994 1146 4403 \nC 1146 4448 1126 4467 1088 4467 \nC 922 4403 787 4358 531 4339 \nL 518 4320 \nC 563 4045 576 3571 576 3085 \nL 576 1280 \nz\n\" transform=\"scale(0.015625)\"/>\n      <path id=\"LibertinusSans-6f\" d=\"M 243 1312 \nC 243 544 749 -64 1600 -64 \nC 2445 -64 2957 531 2957 1370 \nC 2957 2240 2490 2810 1626 2810 \nC 787 2810 243 2221 243 1312 \nz\nM 1581 2554 \nC 2259 2554 2394 2029 2394 1254 \nC 2394 640 2086 192 1658 192 \nC 979 192 806 928 806 1421 \nC 806 1978 979 2554 1581 2554 \nz\n\" transform=\"scale(0.015625)\"/>\n      <path id=\"LibertinusSans-6e\" d=\"M 2944 1152 \nC 2944 1357 2957 1594 2957 1798 \nC 2957 2464 2739 2810 2163 2810 \nC 1920 2810 1466 2714 1056 2234 \nL 1043 2253 \nL 1043 2720 \nC 1037 2765 1030 2784 1005 2784 \nC 858 2752 627 2746 486 2765 \nL 474 2746 \nC 518 2464 531 1984 531 1504 \nL 531 1152 \nC 531 672 525 346 474 0 \nL 486 -19 \nC 563 -6 710 0 787 0 \nC 864 0 1011 -6 1088 -19 \nL 1101 0 \nC 1050 365 1043 666 1043 1152 \nL 1043 1901 \nC 1370 2285 1741 2426 1971 2426 \nC 2298 2426 2432 2298 2432 1779 \nL 2432 1152 \nC 2432 672 2419 339 2374 0 \nL 2387 -19 \nC 2464 -6 2611 0 2688 0 \nC 2765 0 2912 -6 2989 -19 \nL 3002 0 \nC 2950 365 2944 666 2944 1152 \nz\n\" transform=\"scale(0.015625)\"/>\n      <path id=\"LibertinusSans-66\" d=\"M 634 2746 \nC 493 2746 346 2746 262 2758 \nC 218 2650 179 2592 122 2496 \nL 154 2451 \nC 269 2458 480 2464 627 2464 \nL 634 2464 \nL 634 1274 \nC 634 794 621 339 570 0 \nL 582 -19 \nC 659 -6 813 0 890 0 \nC 966 0 1120 -6 1197 -19 \nL 1210 0 \nC 1152 365 1146 794 1146 1274 \nL 1146 2464 \nL 1363 2464 \nC 1517 2464 1734 2458 1824 2451 \nC 1843 2554 1862 2618 1901 2714 \nL 1869 2758 \nC 1760 2752 1568 2746 1421 2746 \nL 1146 2746 \nL 1146 2803 \nC 1146 3034 1114 3366 1114 3482 \nC 1114 3834 1338 4077 1709 4077 \nC 1869 4077 2010 3981 2080 3853 \nL 2150 3859 \nC 2195 4032 2259 4243 2330 4384 \nL 2323 4403 \nC 2272 4435 2157 4467 2035 4467 \nC 1632 4467 1222 4275 986 3974 \nC 742 3667 634 3366 634 2995 \nL 634 2746 \nz\n\" transform=\"scale(0.015625)\"/>\n      <path id=\"LibertinusSans-67\" d=\"M 646 -666 \nC 646 -454 838 -218 1062 -96 \nC 1248 -96 1542 -77 1632 -77 \nC 1939 -77 2131 -83 2310 -186 \nC 2496 -294 2560 -480 2560 -646 \nC 2560 -1037 2035 -1242 1485 -1242 \nC 1069 -1242 646 -1101 646 -666 \nz\nM 2496 1824 \nC 2496 2266 2323 2470 2170 2566 \nC 2362 2554 2573 2528 2842 2502 \nL 2861 2522 \nC 2848 2579 2842 2630 2842 2688 \nC 2842 2746 2848 2797 2861 2854 \nL 2842 2874 \nC 2534 2842 2304 2778 1830 2752 \nC 1715 2790 1574 2810 1440 2810 \nC 934 2810 352 2470 352 1837 \nC 352 1357 627 1139 806 1037 \nC 621 909 397 723 397 506 \nC 397 243 550 13 890 -51 \nC 717 -122 512 -243 352 -371 \nC 269 -493 205 -678 205 -794 \nC 205 -1299 755 -1517 1434 -1517 \nC 2432 -1517 3027 -1101 3027 -499 \nC 3027 -218 2938 -19 2758 134 \nC 2515 339 2080 346 1856 346 \nC 1747 346 1491 333 1344 314 \nC 1254 307 1190 301 1158 301 \nC 979 301 787 326 787 602 \nC 787 730 819 838 960 960 \nC 1043 915 1235 870 1434 870 \nC 2099 870 2496 1318 2496 1824 \nz\nM 1997 1818 \nC 1997 1427 1837 1126 1453 1126 \nC 992 1126 851 1427 851 1869 \nC 851 2291 1043 2566 1414 2566 \nC 1830 2566 1997 2272 1997 1818 \nz\n\" transform=\"scale(0.015625)\"/>\n      <path id=\"LibertinusSans-74\" d=\"M 608 2746 \nC 474 2746 339 2746 262 2758 \nC 218 2650 179 2592 122 2496 \nL 154 2451 \nC 262 2458 461 2458 608 2464 \nL 608 1587 \nC 608 1203 589 742 589 550 \nC 589 134 858 -64 1152 -64 \nC 1421 -64 1626 0 1894 173 \nL 1811 326 \nC 1619 262 1472 256 1312 282 \nC 1158 301 1101 454 1101 806 \nC 1101 998 1120 1274 1120 1658 \nL 1120 2464 \nL 1363 2464 \nC 1517 2464 1734 2458 1824 2451 \nC 1843 2554 1862 2618 1901 2714 \nL 1869 2758 \nC 1754 2752 1568 2746 1421 2746 \nL 1120 2746 \nC 1120 3219 1120 3309 1152 3680 \nC 1152 3725 1133 3744 1094 3744 \nC 928 3680 851 3610 646 3584 \nL 634 3565 \nC 621 3341 608 3117 608 2746 \nz\n\" transform=\"scale(0.015625)\"/>\n     </defs>\n     <use xlink:href=\"#LibertinusSans-4d\"/>\n     <use xlink:href=\"#LibertinusSans-69\" x=\"88.599991\"/>\n     <use xlink:href=\"#LibertinusSans-63\" x=\"114.599976\"/>\n     <use xlink:href=\"#LibertinusSans-68\" x=\"157.499969\"/>\n     <use xlink:href=\"#LibertinusSans-65\" x=\"212.399963\"/>\n     <use xlink:href=\"#LibertinusSans-6c\" x=\"257.699951\"/>\n     <use xlink:href=\"#LibertinusSans-73\" x=\"282.899948\"/>\n     <use xlink:href=\"#LibertinusSans-6f\" x=\"322.499939\"/>\n     <use xlink:href=\"#LibertinusSans-6e\" x=\"372.499924\"/>\n     <use xlink:href=\"#LibertinusSans-20\" x=\"426.399918\"/>\n     <use xlink:href=\"#LibertinusSans-73\" x=\"451.399902\"/>\n     <use xlink:href=\"#LibertinusSans-70\" x=\"490.999893\"/>\n     <use xlink:href=\"#LibertinusSans-65\" x=\"543.299881\"/>\n     <use xlink:href=\"#LibertinusSans-65\" x=\"588.599869\"/>\n     <use xlink:href=\"#LibertinusSans-64\" x=\"633.899857\"/>\n     <use xlink:href=\"#LibertinusSans-20\" x=\"686.899841\"/>\n     <use xlink:href=\"#LibertinusSans-6f\" x=\"711.899826\"/>\n     <use xlink:href=\"#LibertinusSans-66\" x=\"761.899811\"/>\n     <use xlink:href=\"#LibertinusSans-20\" x=\"793.299805\"/>\n     <use xlink:href=\"#LibertinusSans-6c\" x=\"818.299789\"/>\n     <use xlink:href=\"#LibertinusSans-69\" x=\"843.499786\"/>\n     <use xlink:href=\"#LibertinusSans-67\" x=\"869.499771\"/>\n     <use xlink:href=\"#LibertinusSans-68\" x=\"919.399765\"/>\n     <use xlink:href=\"#LibertinusSans-74\" x=\"974.299759\"/>\n     <use xlink:href=\"#LibertinusSans-20\" x=\"1008.299744\"/>\n     <use xlink:href=\"#LibertinusSans-6d\" x=\"1033.299728\"/>\n     <use xlink:href=\"#LibertinusSans-65\" x=\"1113.99971\"/>\n     <use xlink:href=\"#LibertinusSans-61\" x=\"1159.299698\"/>\n     <use xlink:href=\"#LibertinusSans-73\" x=\"1207.399689\"/>\n     <use xlink:href=\"#LibertinusSans-75\" x=\"1246.99968\"/>\n     <use xlink:href=\"#LibertinusSans-72\" x=\"1300.699677\"/>\n     <use xlink:href=\"#LibertinusSans-65\" x=\"1336.199661\"/>\n     <use xlink:href=\"#LibertinusSans-6d\" x=\"1381.499649\"/>\n     <use xlink:href=\"#LibertinusSans-65\" x=\"1462.199631\"/>\n     <use xlink:href=\"#LibertinusSans-6e\" x=\"1507.499619\"/>\n     <use xlink:href=\"#LibertinusSans-74\" x=\"1561.399612\"/>\n     <use xlink:href=\"#LibertinusSans-73\" x=\"1595.399597\"/>\n    </g>\n   </g>\n  </g>\n </g>\n <defs>\n  <clipPath id=\"p8ef70551f2\">\n   <rect x=\"27.829091\" y=\"23.25075\" width=\"334.8\" height=\"217.44\"/>\n  </clipPath>\n </defs>\n</svg>\n",
      "text/plain": [
       "<Figure size 432x288 with 1 Axes>"
      ]
     },
     "metadata": {
      "needs_background": "dark"
     },
     "output_type": "display_data"
    }
   ],
   "source": [
    "plt.xlabel(\"Measured speed (km/s)\")\n",
    "plt.title(\"Michelson speed of light measurements\")\n",
    "plt.hist(mich.speed, alpha=0.5);"
   ]
  },
  {
   "cell_type": "markdown",
   "metadata": {},
   "source": [
    "The mean value from Michelson’s measurements is"
   ]
  },
  {
   "cell_type": "code",
   "execution_count": null,
   "metadata": {},
   "outputs": [
    {
     "data": {
      "text/plain": [
       "299852.4"
      ]
     },
     "execution_count": 4,
     "metadata": {},
     "output_type": "execute_result"
    }
   ],
   "source": [
    "mich.speed.mean()"
   ]
  },
  {
   "attachments": {},
   "cell_type": "markdown",
   "metadata": {},
   "source": [
    "Since there is clearly some measurement uncertainty, we would like to report a **95% confidence interval** for the measurements. We can do this using bootstrap resampling, as implemented in the function below. Bootstrap resampling is where we make our sample size bigger by randomly copying samples from the original data set into a new data set, until we reach the size we want. Then we can estimate the mean and confidence interval of the original data set as the mean and confidence interval of the new data set."
   ]
  },
  {
   "cell_type": "code",
   "execution_count": null,
   "metadata": {},
   "outputs": [],
   "source": [
    "def bootstrap_confidence_intervals(data, estimator, percentiles, runs=1000):\n",
    "    replicates = numpy.empty(runs)\n",
    "    for i in range(runs):\n",
    "        replicates[i] = estimator(numpy.random.choice(data, len(data), replace=True))\n",
    "    est = numpy.mean(replicates)\n",
    "    ci = numpy.percentile(replicates, percentiles)\n",
    "    return (est, ci)"
   ]
  },
  {
   "cell_type": "code",
   "execution_count": null,
   "metadata": {},
   "outputs": [
    {
     "data": {
      "text/plain": [
       "(299852.25539999997, array([299837.3975, 299868.8025]))"
      ]
     },
     "execution_count": 6,
     "metadata": {},
     "output_type": "execute_result"
    }
   ],
   "source": [
    "est, ci = bootstrap_confidence_intervals(mich.speed, estimator=numpy.mean, percentiles=[2.5, 97.5])\n",
    "est, ci"
   ]
  },
  {
   "cell_type": "code",
   "execution_count": null,
   "metadata": {},
   "outputs": [
    {
     "data": {
      "text/plain": [
       "(14.857899999944493, 16.54710000002524)"
      ]
     },
     "execution_count": 7,
     "metadata": {},
     "output_type": "execute_result"
    }
   ],
   "source": [
    "est - ci[0], ci[1] - est"
   ]
  },
  {
   "attachments": {},
   "cell_type": "markdown",
   "metadata": {},
   "source": [
    "The first value returned is the bootstrapped estimate of the mean, and the second is the 95% confidence interval. Given that the confidence interval is roughly symmetrical, we could report this measurement as\n",
    "\n",
    "    299853 ± 16 km/s (95% CI) \n",
    "\n",
    "or as \n",
    "\n",
    "    2998523 [299837, 299869] km/s (95% CI). \n",
    "\n",
    "Note that a ± notation without the \"(95% CI)\" for the margin of error is ambiguous, as is soley an interval, because some scientific communities use one or two standard deviations instead of a confidence interval. \n",
    "\n",
    "After accounting for his uncertainties, Michelson’s final measurement for the speed of light in a vacuum was reported as 299944 ± 51 km/s. Despite this, he vehemently stated his measurement was actually correct to approximately ± 150 km/s, in fact the difference between his result and todays accepted value is 148 km/s."
   ]
  },
  {
   "attachments": {},
   "cell_type": "markdown",
   "metadata": {},
   "source": [
    "The second method we will consider is a type of interferometry using modulated light. Here, the intensity of the light is varied with time in a sinusoidal manner, thus if we choose the frequency of the light sensibly, we can obtain a measurable wavelength. If two identical sources are the same distance from a detector, they will arrive in phase. If they are a distance Δx apart, then the peaks in one intensity measurement will not necessarily coincide with the peaks in the second.  There is a phase difference between the peaks of the intensity waveforms. The only time they will be in phase is if the distance difference is an integer number of the modulation wavelength of the light. Thus if we can use the detector to measure the phase difference, we have the wavelength as \n",
    "\n",
    "![](../media/pins%204.png)\n"
   ]
  },
  {
   "attachments": {},
   "cell_type": "markdown",
   "metadata": {},
   "source": [
    "![](../media/pins%201.png)"
   ]
  },
  {
   "attachments": {},
   "cell_type": "markdown",
   "metadata": {},
   "source": [
    "This means, knowing the modulation frequency, we can work out the speed of light using\n",
    "\n",
    "![](../media/pins%205.png)\n",
    "\n",
    "Put together, the apparatus looks something like this: (+animation)"
   ]
  },
  {
   "attachments": {},
   "cell_type": "markdown",
   "metadata": {},
   "source": [
    "![](../media/pins%202.png)"
   ]
  },
  {
   "attachments": {},
   "cell_type": "markdown",
   "metadata": {},
   "source": [
    "Data from Discovery skills\n",
    "\n",
    "Analysis of this data\n",
    "\n",
    "Criticism of this method (compare to Essen-Gordon-Smith result)"
   ]
  },
  {
   "attachments": {},
   "cell_type": "markdown",
   "metadata": {},
   "source": [
    "There are of course, other methods used in the past to measure the speed of light, for example the first recorded estimate was made by Ole Christensen Romer in 1676, who used the change in orbital period of Jupiter’s moon Io due to the changing distance between Jupiter and the Earth. When the Earth is approaching Jupiter, the period is shorter, and when receeding, longer. Thus the speed of light can be estimated as the change in period also depends on the time taken for light to reach the Earth."
   ]
  },
  {
   "attachments": {},
   "cell_type": "markdown",
   "metadata": {},
   "source": [
    "![](../media/pins%203.png)"
   ]
  },
  {
   "attachments": {},
   "cell_type": "markdown",
   "metadata": {},
   "source": [
    "In the modern era, the limiting factor in measuring the speed of light became not the uncertainty of experiments, for example in 1972 using laser interferometry, the speed of light was measured as 299792456.2±1.1 m/s. This small remaining uncertainty was caused by the definition of the metre. In order to get around this, the meeting of the General Conference on Weights and Measures (CGPM) redefined the metre as \"the length of the path traveled by light in vacuum during a time interval of 1/299792458 of a second.\" This permanently fixed the speed of light to be exactly 299792458 m/s, so now, further experiments don’t change the definition of the speed of light, but rather the definition of the metre."
   ]
  }
 ],
 "metadata": {
  "anaconda-cloud": {},
  "kernelspec": {
   "display_name": "Python 3",
   "language": "python",
   "name": "python3"
  },
  "language_info": {
   "codemirror_mode": {
    "name": "ipython",
    "version": 3
   },
   "file_extension": ".py",
   "mimetype": "text/x-python",
   "name": "python",
   "nbconvert_exporter": "python",
   "pygments_lexer": "ipython3",
   "version": "3.9.6 (tags/v3.9.6:db3ff76, Jun 28 2021, 15:26:21) [MSC v.1929 64 bit (AMD64)]"
  },
  "vscode": {
   "interpreter": {
    "hash": "6708fe8d517425b1237656da5c662f6036934e51d3da3fde11f86d4b89844509"
   }
  }
 },
 "nbformat": 4,
 "nbformat_minor": 1
}
