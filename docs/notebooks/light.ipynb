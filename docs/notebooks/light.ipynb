{
 "cells": [
  {
   "attachments": {},
   "cell_type": "markdown",
   "metadata": {},
   "source": [
    "# Using data analysis to interpret speed of light measurements\n",
    "\n",
    "[![Open in Colab](https://colab.research.google.com/assets/colab-badge.svg)](https://colab.research.google.com/github/PhysData/course/blob/main/docs/notebooks/light.ipynb)\n",
    "\n",
    "If you're running this in Colab, make sure to save a copy of the notebook in Google Drive to save your changes."
   ]
  },
  {
   "attachments": {},
   "cell_type": "markdown",
   "metadata": {},
   "source": [
    "#### Introduction"
   ]
  },
  {
   "attachments": {},
   "cell_type": "markdown",
   "metadata": {},
   "source": [
    "In this notebook, we will investigate some of the ways in which the speed of light has been measured throughout history. The speed of light is an incredibly important value as it is the basis of many fields of physics, for example Maxwell’s electromagnetism, and Einstein’s relativity. In this notebook, we will be considering the speed of light in a vacuum, which is almost exactly the same as the speed of light in air (in air, light is 1.0003 times slower). The two main methods we will consider are Foucault’s method using a simple time of flight technique, and the method in which the frequency and the wavelength of light is measured, and then used to calculate the speed of light using the equation:\n",
    "\n",
    "$c=f\\lambda$."
   ]
  },
  {
   "cell_type": "code",
   "execution_count": null,
   "metadata": {},
   "outputs": [],
   "source": [
    "# If you're running this notebook, uncomment the code in this cell to install the required packages.\n",
    "# ! pip install numpy\n",
    "# ! pip install pandas\n",
    "# ! pip install matplotlib"
   ]
  },
  {
   "cell_type": "code",
   "execution_count": 9,
   "metadata": {},
   "outputs": [],
   "source": [
    "import numpy\n",
    "import pandas\n",
    "import matplotlib.pyplot as plt\n",
    "plt.style.use(\"bmh\")\n",
    "%config InlineBackend.figure_formats=[\"svg\"]"
   ]
  },
  {
   "attachments": {},
   "cell_type": "markdown",
   "metadata": {},
   "source": [
    "#### Method 1: Fizeau-Foucault"
   ]
  },
  {
   "attachments": {},
   "cell_type": "markdown",
   "metadata": {},
   "source": [
    "Perhaps the most obvious way to measure the speed of light is to simply measure the time taken for light to travel a certain distance, and then use speed = distance divided by time. This is the basis behind the Fizeau-Foucault method, which was developed and perfected by Hippolyte Fizeau and Leon Foucault in the late 19th century and the early 20th century. Fizeau's method involved passing the beam through a cogwheel and back off a mirror. If the rate of rotation is high enough, the beam will pass through one gap in the cogwheel on the way there and another on the way back. Once this rotation speed is known, as well as the distance between the wheel and mirror, and the number of teeth on the wheel, these can be used to calculate the speed of light. \n",
    "\n",
    "<div>\n",
    "<img src=\"../media/pins7.png\" width=\"500\"/>\n",
    "</div>\n",
    "\n",
    "Later, Foucault used a rotating mirror instead of a rotating cogwheel, so that by the time the light had hit the fixed mirror and returned back to the rotating one, it had rotated a small angle, which could then be measured by detecting the change in the lights path from where it was initially emitted. Then, knowing the rotation rate of the mirror and the distance the light has travelled, the speed of light can be determined.\n",
    "\n",
    "![](../media/pinsgif.gif)\n",
    "\n",
    "In 1879, A. Michelson was working as a physics instructor in Annapolis, when he was ordered to investigate the speed of light based off of Foucault’s  most recent measurement. He repeated Foucault’s rotating mirror method, but increased the path length from about 66 feet to 200 feet (roughly 20 metres to 61 metres). He also managed to get his mirror spinning at 256 rotations per second, quite an incredible feat for his time, using a combination of compressed air, tuning forks, and more mirrors. There were of course, plenty of environmental factors to consider, temperature fluctuations, the refractive index of the atmosphere, etc. However Michelson accounted all of them.\n",
    "\n",
    "The raw data can be found here: https://www.randomservices.org/random/data/Michelson.html\n",
    "\n",
    "Below you can see the results that Michelson recorded in the form of a bar graph, lets perform some analysis on this data."
   ]
  },
  {
   "cell_type": "code",
   "execution_count": 10,
   "metadata": {},
   "outputs": [],
   "source": [
    "mich = pandas.read_csv(\"https://risk-engineering.org/static/data/michelson-speed-light.csv\")\n",
    "mich.rename(columns={\"velocity of light in air (km/s)\": \"speed\"}, inplace=True)"
   ]
  },
  {
   "cell_type": "code",
   "execution_count": 11,
   "metadata": {
    "scrolled": true
   },
   "outputs": [
    {
     "data": {
      "image/svg+xml": "<?xml version=\"1.0\" encoding=\"utf-8\" standalone=\"no\"?>\n<!DOCTYPE svg PUBLIC \"-//W3C//DTD SVG 1.1//EN\"\n  \"http://www.w3.org/Graphics/SVG/1.1/DTD/svg11.dtd\">\n<svg xmlns:xlink=\"http://www.w3.org/1999/xlink\" width=\"388.803864pt\" height=\"324.31pt\" viewBox=\"0 0 388.803864 324.31\" xmlns=\"http://www.w3.org/2000/svg\" version=\"1.1\">\n <metadata>\n  <rdf:RDF xmlns:dc=\"http://purl.org/dc/elements/1.1/\" xmlns:cc=\"http://creativecommons.org/ns#\" xmlns:rdf=\"http://www.w3.org/1999/02/22-rdf-syntax-ns#\">\n   <cc:Work>\n    <dc:type rdf:resource=\"http://purl.org/dc/dcmitype/StillImage\"/>\n    <dc:date>2023-02-17T14:51:01.722023</dc:date>\n    <dc:format>image/svg+xml</dc:format>\n    <dc:creator>\n     <cc:Agent>\n      <dc:title>Matplotlib v3.7.0, https://matplotlib.org/</dc:title>\n     </cc:Agent>\n    </dc:creator>\n   </cc:Work>\n  </rdf:RDF>\n </metadata>\n <defs>\n  <style type=\"text/css\">*{stroke-linejoin: round; stroke-linecap: butt}</style>\n </defs>\n <g id=\"figure_1\">\n  <g id=\"patch_1\">\n   <path d=\"M 0 324.31 \nL 388.803864 324.31 \nL 388.803864 0 \nL 0 0 \nz\n\" style=\"fill: #ffffff\"/>\n  </g>\n  <g id=\"axes_1\">\n   <g id=\"patch_2\">\n    <path d=\"M 24.483864 290.25375 \nL 381.603864 290.25375 \nL 381.603864 24.14175 \nL 24.483864 24.14175 \nz\n\" style=\"fill: #eeeeee\"/>\n   </g>\n   <g id=\"patch_3\">\n    <path d=\"M 40.716591 290.25375 \nL 73.182045 290.25375 \nL 73.182045 271.480417 \nL 40.716591 271.480417 \nz\n\" clip-path=\"url(#pb20d64b084)\" style=\"fill: #348abd; opacity: 0.5\"/>\n   </g>\n   <g id=\"patch_4\">\n    <path d=\"M 73.182045 290.25375 \nL 105.6475 290.25375 \nL 105.6475 290.25375 \nL 73.182045 290.25375 \nz\n\" clip-path=\"url(#pb20d64b084)\" style=\"fill: #348abd; opacity: 0.5\"/>\n   </g>\n   <g id=\"patch_5\">\n    <path d=\"M 105.6475 290.25375 \nL 138.112955 290.25375 \nL 138.112955 224.547083 \nL 105.6475 224.547083 \nz\n\" clip-path=\"url(#pb20d64b084)\" style=\"fill: #348abd; opacity: 0.5\"/>\n   </g>\n   <g id=\"patch_6\">\n    <path d=\"M 138.112955 290.25375 \nL 170.578409 290.25375 \nL 170.578409 187.000417 \nL 138.112955 187.000417 \nz\n\" clip-path=\"url(#pb20d64b084)\" style=\"fill: #348abd; opacity: 0.5\"/>\n   </g>\n   <g id=\"patch_7\">\n    <path d=\"M 170.578409 290.25375 \nL 203.043864 290.25375 \nL 203.043864 36.81375 \nL 170.578409 36.81375 \nz\n\" clip-path=\"url(#pb20d64b084)\" style=\"fill: #348abd; opacity: 0.5\"/>\n   </g>\n   <g id=\"patch_8\">\n    <path d=\"M 203.043864 290.25375 \nL 235.509318 290.25375 \nL 235.509318 55.587083 \nL 203.043864 55.587083 \nz\n\" clip-path=\"url(#pb20d64b084)\" style=\"fill: #348abd; opacity: 0.5\"/>\n   </g>\n   <g id=\"patch_9\">\n    <path d=\"M 235.509318 290.25375 \nL 267.974773 290.25375 \nL 267.974773 196.387083 \nL 235.509318 196.387083 \nz\n\" clip-path=\"url(#pb20d64b084)\" style=\"fill: #348abd; opacity: 0.5\"/>\n   </g>\n   <g id=\"patch_10\">\n    <path d=\"M 267.974773 290.25375 \nL 300.440227 290.25375 \nL 300.440227 187.000417 \nL 267.974773 187.000417 \nz\n\" clip-path=\"url(#pb20d64b084)\" style=\"fill: #348abd; opacity: 0.5\"/>\n   </g>\n   <g id=\"patch_11\">\n    <path d=\"M 300.440227 290.25375 \nL 332.905682 290.25375 \nL 332.905682 233.93375 \nL 300.440227 233.93375 \nz\n\" clip-path=\"url(#pb20d64b084)\" style=\"fill: #348abd; opacity: 0.5\"/>\n   </g>\n   <g id=\"patch_12\">\n    <path d=\"M 332.905682 290.25375 \nL 365.371136 290.25375 \nL 365.371136 280.867083 \nL 332.905682 280.867083 \nz\n\" clip-path=\"url(#pb20d64b084)\" style=\"fill: #348abd; opacity: 0.5\"/>\n   </g>\n   <g id=\"matplotlib.axis_1\">\n    <g id=\"xtick_1\">\n     <g id=\"line2d_1\">\n      <path d=\"M 26.2875 290.25375 \nL 26.2875 24.14175 \n\" clip-path=\"url(#pb20d64b084)\" style=\"fill: none; stroke-dasharray: 1.85,0.8; stroke-dashoffset: 0; stroke: #b2b2b2; stroke-width: 0.5\"/>\n     </g>\n     <g id=\"line2d_2\">\n      <defs>\n       <path id=\"m0a086b4f25\" d=\"M 0 0 \nL 0 -3.5 \n\" style=\"stroke: #000000; stroke-width: 0.8\"/>\n      </defs>\n      <g>\n       <use xlink:href=\"#m0a086b4f25\" x=\"26.2875\" y=\"290.25375\" style=\"stroke: #000000; stroke-width: 0.8\"/>\n      </g>\n     </g>\n     <g id=\"text_1\">\n      <!-- 299600 -->\n      <g transform=\"translate(7.2 301.352187) scale(0.1 -0.1)\">\n       <defs>\n        <path id=\"DejaVuSans-32\" d=\"M 1228 531 \nL 3431 531 \nL 3431 0 \nL 469 0 \nL 469 531 \nQ 828 903 1448 1529 \nQ 2069 2156 2228 2338 \nQ 2531 2678 2651 2914 \nQ 2772 3150 2772 3378 \nQ 2772 3750 2511 3984 \nQ 2250 4219 1831 4219 \nQ 1534 4219 1204 4116 \nQ 875 4013 500 3803 \nL 500 4441 \nQ 881 4594 1212 4672 \nQ 1544 4750 1819 4750 \nQ 2544 4750 2975 4387 \nQ 3406 4025 3406 3419 \nQ 3406 3131 3298 2873 \nQ 3191 2616 2906 2266 \nQ 2828 2175 2409 1742 \nQ 1991 1309 1228 531 \nz\n\" transform=\"scale(0.015625)\"/>\n        <path id=\"DejaVuSans-39\" d=\"M 703 97 \nL 703 672 \nQ 941 559 1184 500 \nQ 1428 441 1663 441 \nQ 2288 441 2617 861 \nQ 2947 1281 2994 2138 \nQ 2813 1869 2534 1725 \nQ 2256 1581 1919 1581 \nQ 1219 1581 811 2004 \nQ 403 2428 403 3163 \nQ 403 3881 828 4315 \nQ 1253 4750 1959 4750 \nQ 2769 4750 3195 4129 \nQ 3622 3509 3622 2328 \nQ 3622 1225 3098 567 \nQ 2575 -91 1691 -91 \nQ 1453 -91 1209 -44 \nQ 966 3 703 97 \nz\nM 1959 2075 \nQ 2384 2075 2632 2365 \nQ 2881 2656 2881 3163 \nQ 2881 3666 2632 3958 \nQ 2384 4250 1959 4250 \nQ 1534 4250 1286 3958 \nQ 1038 3666 1038 3163 \nQ 1038 2656 1286 2365 \nQ 1534 2075 1959 2075 \nz\n\" transform=\"scale(0.015625)\"/>\n        <path id=\"DejaVuSans-36\" d=\"M 2113 2584 \nQ 1688 2584 1439 2293 \nQ 1191 2003 1191 1497 \nQ 1191 994 1439 701 \nQ 1688 409 2113 409 \nQ 2538 409 2786 701 \nQ 3034 994 3034 1497 \nQ 3034 2003 2786 2293 \nQ 2538 2584 2113 2584 \nz\nM 3366 4563 \nL 3366 3988 \nQ 3128 4100 2886 4159 \nQ 2644 4219 2406 4219 \nQ 1781 4219 1451 3797 \nQ 1122 3375 1075 2522 \nQ 1259 2794 1537 2939 \nQ 1816 3084 2150 3084 \nQ 2853 3084 3261 2657 \nQ 3669 2231 3669 1497 \nQ 3669 778 3244 343 \nQ 2819 -91 2113 -91 \nQ 1303 -91 875 529 \nQ 447 1150 447 2328 \nQ 447 3434 972 4092 \nQ 1497 4750 2381 4750 \nQ 2619 4750 2861 4703 \nQ 3103 4656 3366 4563 \nz\n\" transform=\"scale(0.015625)\"/>\n        <path id=\"DejaVuSans-30\" d=\"M 2034 4250 \nQ 1547 4250 1301 3770 \nQ 1056 3291 1056 2328 \nQ 1056 1369 1301 889 \nQ 1547 409 2034 409 \nQ 2525 409 2770 889 \nQ 3016 1369 3016 2328 \nQ 3016 3291 2770 3770 \nQ 2525 4250 2034 4250 \nz\nM 2034 4750 \nQ 2819 4750 3233 4129 \nQ 3647 3509 3647 2328 \nQ 3647 1150 3233 529 \nQ 2819 -91 2034 -91 \nQ 1250 -91 836 529 \nQ 422 1150 422 2328 \nQ 422 3509 836 4129 \nQ 1250 4750 2034 4750 \nz\n\" transform=\"scale(0.015625)\"/>\n       </defs>\n       <use xlink:href=\"#DejaVuSans-32\"/>\n       <use xlink:href=\"#DejaVuSans-39\" x=\"63.623047\"/>\n       <use xlink:href=\"#DejaVuSans-39\" x=\"127.246094\"/>\n       <use xlink:href=\"#DejaVuSans-36\" x=\"190.869141\"/>\n       <use xlink:href=\"#DejaVuSans-30\" x=\"254.492188\"/>\n       <use xlink:href=\"#DejaVuSans-30\" x=\"318.115234\"/>\n      </g>\n     </g>\n    </g>\n    <g id=\"xtick_2\">\n     <g id=\"line2d_3\">\n      <path d=\"M 98.432955 290.25375 \nL 98.432955 24.14175 \n\" clip-path=\"url(#pb20d64b084)\" style=\"fill: none; stroke-dasharray: 1.85,0.8; stroke-dashoffset: 0; stroke: #b2b2b2; stroke-width: 0.5\"/>\n     </g>\n     <g id=\"line2d_4\">\n      <g>\n       <use xlink:href=\"#m0a086b4f25\" x=\"98.432955\" y=\"290.25375\" style=\"stroke: #000000; stroke-width: 0.8\"/>\n      </g>\n     </g>\n     <g id=\"text_2\">\n      <!-- 299700 -->\n      <g transform=\"translate(79.345455 301.352187) scale(0.1 -0.1)\">\n       <defs>\n        <path id=\"DejaVuSans-37\" d=\"M 525 4666 \nL 3525 4666 \nL 3525 4397 \nL 1831 0 \nL 1172 0 \nL 2766 4134 \nL 525 4134 \nL 525 4666 \nz\n\" transform=\"scale(0.015625)\"/>\n       </defs>\n       <use xlink:href=\"#DejaVuSans-32\"/>\n       <use xlink:href=\"#DejaVuSans-39\" x=\"63.623047\"/>\n       <use xlink:href=\"#DejaVuSans-39\" x=\"127.246094\"/>\n       <use xlink:href=\"#DejaVuSans-37\" x=\"190.869141\"/>\n       <use xlink:href=\"#DejaVuSans-30\" x=\"254.492188\"/>\n       <use xlink:href=\"#DejaVuSans-30\" x=\"318.115234\"/>\n      </g>\n     </g>\n    </g>\n    <g id=\"xtick_3\">\n     <g id=\"line2d_5\">\n      <path d=\"M 170.578409 290.25375 \nL 170.578409 24.14175 \n\" clip-path=\"url(#pb20d64b084)\" style=\"fill: none; stroke-dasharray: 1.85,0.8; stroke-dashoffset: 0; stroke: #b2b2b2; stroke-width: 0.5\"/>\n     </g>\n     <g id=\"line2d_6\">\n      <g>\n       <use xlink:href=\"#m0a086b4f25\" x=\"170.578409\" y=\"290.25375\" style=\"stroke: #000000; stroke-width: 0.8\"/>\n      </g>\n     </g>\n     <g id=\"text_3\">\n      <!-- 299800 -->\n      <g transform=\"translate(151.490909 301.352187) scale(0.1 -0.1)\">\n       <defs>\n        <path id=\"DejaVuSans-38\" d=\"M 2034 2216 \nQ 1584 2216 1326 1975 \nQ 1069 1734 1069 1313 \nQ 1069 891 1326 650 \nQ 1584 409 2034 409 \nQ 2484 409 2743 651 \nQ 3003 894 3003 1313 \nQ 3003 1734 2745 1975 \nQ 2488 2216 2034 2216 \nz\nM 1403 2484 \nQ 997 2584 770 2862 \nQ 544 3141 544 3541 \nQ 544 4100 942 4425 \nQ 1341 4750 2034 4750 \nQ 2731 4750 3128 4425 \nQ 3525 4100 3525 3541 \nQ 3525 3141 3298 2862 \nQ 3072 2584 2669 2484 \nQ 3125 2378 3379 2068 \nQ 3634 1759 3634 1313 \nQ 3634 634 3220 271 \nQ 2806 -91 2034 -91 \nQ 1263 -91 848 271 \nQ 434 634 434 1313 \nQ 434 1759 690 2068 \nQ 947 2378 1403 2484 \nz\nM 1172 3481 \nQ 1172 3119 1398 2916 \nQ 1625 2713 2034 2713 \nQ 2441 2713 2670 2916 \nQ 2900 3119 2900 3481 \nQ 2900 3844 2670 4047 \nQ 2441 4250 2034 4250 \nQ 1625 4250 1398 4047 \nQ 1172 3844 1172 3481 \nz\n\" transform=\"scale(0.015625)\"/>\n       </defs>\n       <use xlink:href=\"#DejaVuSans-32\"/>\n       <use xlink:href=\"#DejaVuSans-39\" x=\"63.623047\"/>\n       <use xlink:href=\"#DejaVuSans-39\" x=\"127.246094\"/>\n       <use xlink:href=\"#DejaVuSans-38\" x=\"190.869141\"/>\n       <use xlink:href=\"#DejaVuSans-30\" x=\"254.492188\"/>\n       <use xlink:href=\"#DejaVuSans-30\" x=\"318.115234\"/>\n      </g>\n     </g>\n    </g>\n    <g id=\"xtick_4\">\n     <g id=\"line2d_7\">\n      <path d=\"M 242.723864 290.25375 \nL 242.723864 24.14175 \n\" clip-path=\"url(#pb20d64b084)\" style=\"fill: none; stroke-dasharray: 1.85,0.8; stroke-dashoffset: 0; stroke: #b2b2b2; stroke-width: 0.5\"/>\n     </g>\n     <g id=\"line2d_8\">\n      <g>\n       <use xlink:href=\"#m0a086b4f25\" x=\"242.723864\" y=\"290.25375\" style=\"stroke: #000000; stroke-width: 0.8\"/>\n      </g>\n     </g>\n     <g id=\"text_4\">\n      <!-- 299900 -->\n      <g transform=\"translate(223.636364 301.352187) scale(0.1 -0.1)\">\n       <use xlink:href=\"#DejaVuSans-32\"/>\n       <use xlink:href=\"#DejaVuSans-39\" x=\"63.623047\"/>\n       <use xlink:href=\"#DejaVuSans-39\" x=\"127.246094\"/>\n       <use xlink:href=\"#DejaVuSans-39\" x=\"190.869141\"/>\n       <use xlink:href=\"#DejaVuSans-30\" x=\"254.492188\"/>\n       <use xlink:href=\"#DejaVuSans-30\" x=\"318.115234\"/>\n      </g>\n     </g>\n    </g>\n    <g id=\"xtick_5\">\n     <g id=\"line2d_9\">\n      <path d=\"M 314.869318 290.25375 \nL 314.869318 24.14175 \n\" clip-path=\"url(#pb20d64b084)\" style=\"fill: none; stroke-dasharray: 1.85,0.8; stroke-dashoffset: 0; stroke: #b2b2b2; stroke-width: 0.5\"/>\n     </g>\n     <g id=\"line2d_10\">\n      <g>\n       <use xlink:href=\"#m0a086b4f25\" x=\"314.869318\" y=\"290.25375\" style=\"stroke: #000000; stroke-width: 0.8\"/>\n      </g>\n     </g>\n     <g id=\"text_5\">\n      <!-- 300000 -->\n      <g transform=\"translate(295.781818 301.352187) scale(0.1 -0.1)\">\n       <defs>\n        <path id=\"DejaVuSans-33\" d=\"M 2597 2516 \nQ 3050 2419 3304 2112 \nQ 3559 1806 3559 1356 \nQ 3559 666 3084 287 \nQ 2609 -91 1734 -91 \nQ 1441 -91 1130 -33 \nQ 819 25 488 141 \nL 488 750 \nQ 750 597 1062 519 \nQ 1375 441 1716 441 \nQ 2309 441 2620 675 \nQ 2931 909 2931 1356 \nQ 2931 1769 2642 2001 \nQ 2353 2234 1838 2234 \nL 1294 2234 \nL 1294 2753 \nL 1863 2753 \nQ 2328 2753 2575 2939 \nQ 2822 3125 2822 3475 \nQ 2822 3834 2567 4026 \nQ 2313 4219 1838 4219 \nQ 1578 4219 1281 4162 \nQ 984 4106 628 3988 \nL 628 4550 \nQ 988 4650 1302 4700 \nQ 1616 4750 1894 4750 \nQ 2613 4750 3031 4423 \nQ 3450 4097 3450 3541 \nQ 3450 3153 3228 2886 \nQ 3006 2619 2597 2516 \nz\n\" transform=\"scale(0.015625)\"/>\n       </defs>\n       <use xlink:href=\"#DejaVuSans-33\"/>\n       <use xlink:href=\"#DejaVuSans-30\" x=\"63.623047\"/>\n       <use xlink:href=\"#DejaVuSans-30\" x=\"127.246094\"/>\n       <use xlink:href=\"#DejaVuSans-30\" x=\"190.869141\"/>\n       <use xlink:href=\"#DejaVuSans-30\" x=\"254.492188\"/>\n       <use xlink:href=\"#DejaVuSans-30\" x=\"318.115234\"/>\n      </g>\n     </g>\n    </g>\n    <g id=\"text_6\">\n     <!-- Measured speed (km/s) -->\n     <g transform=\"translate(144.381364 315.030312) scale(0.1 -0.1)\">\n      <defs>\n       <path id=\"DejaVuSans-4d\" d=\"M 628 4666 \nL 1569 4666 \nL 2759 1491 \nL 3956 4666 \nL 4897 4666 \nL 4897 0 \nL 4281 0 \nL 4281 4097 \nL 3078 897 \nL 2444 897 \nL 1241 4097 \nL 1241 0 \nL 628 0 \nL 628 4666 \nz\n\" transform=\"scale(0.015625)\"/>\n       <path id=\"DejaVuSans-65\" d=\"M 3597 1894 \nL 3597 1613 \nL 953 1613 \nQ 991 1019 1311 708 \nQ 1631 397 2203 397 \nQ 2534 397 2845 478 \nQ 3156 559 3463 722 \nL 3463 178 \nQ 3153 47 2828 -22 \nQ 2503 -91 2169 -91 \nQ 1331 -91 842 396 \nQ 353 884 353 1716 \nQ 353 2575 817 3079 \nQ 1281 3584 2069 3584 \nQ 2775 3584 3186 3129 \nQ 3597 2675 3597 1894 \nz\nM 3022 2063 \nQ 3016 2534 2758 2815 \nQ 2500 3097 2075 3097 \nQ 1594 3097 1305 2825 \nQ 1016 2553 972 2059 \nL 3022 2063 \nz\n\" transform=\"scale(0.015625)\"/>\n       <path id=\"DejaVuSans-61\" d=\"M 2194 1759 \nQ 1497 1759 1228 1600 \nQ 959 1441 959 1056 \nQ 959 750 1161 570 \nQ 1363 391 1709 391 \nQ 2188 391 2477 730 \nQ 2766 1069 2766 1631 \nL 2766 1759 \nL 2194 1759 \nz\nM 3341 1997 \nL 3341 0 \nL 2766 0 \nL 2766 531 \nQ 2569 213 2275 61 \nQ 1981 -91 1556 -91 \nQ 1019 -91 701 211 \nQ 384 513 384 1019 \nQ 384 1609 779 1909 \nQ 1175 2209 1959 2209 \nL 2766 2209 \nL 2766 2266 \nQ 2766 2663 2505 2880 \nQ 2244 3097 1772 3097 \nQ 1472 3097 1187 3025 \nQ 903 2953 641 2809 \nL 641 3341 \nQ 956 3463 1253 3523 \nQ 1550 3584 1831 3584 \nQ 2591 3584 2966 3190 \nQ 3341 2797 3341 1997 \nz\n\" transform=\"scale(0.015625)\"/>\n       <path id=\"DejaVuSans-73\" d=\"M 2834 3397 \nL 2834 2853 \nQ 2591 2978 2328 3040 \nQ 2066 3103 1784 3103 \nQ 1356 3103 1142 2972 \nQ 928 2841 928 2578 \nQ 928 2378 1081 2264 \nQ 1234 2150 1697 2047 \nL 1894 2003 \nQ 2506 1872 2764 1633 \nQ 3022 1394 3022 966 \nQ 3022 478 2636 193 \nQ 2250 -91 1575 -91 \nQ 1294 -91 989 -36 \nQ 684 19 347 128 \nL 347 722 \nQ 666 556 975 473 \nQ 1284 391 1588 391 \nQ 1994 391 2212 530 \nQ 2431 669 2431 922 \nQ 2431 1156 2273 1281 \nQ 2116 1406 1581 1522 \nL 1381 1569 \nQ 847 1681 609 1914 \nQ 372 2147 372 2553 \nQ 372 3047 722 3315 \nQ 1072 3584 1716 3584 \nQ 2034 3584 2315 3537 \nQ 2597 3491 2834 3397 \nz\n\" transform=\"scale(0.015625)\"/>\n       <path id=\"DejaVuSans-75\" d=\"M 544 1381 \nL 544 3500 \nL 1119 3500 \nL 1119 1403 \nQ 1119 906 1312 657 \nQ 1506 409 1894 409 \nQ 2359 409 2629 706 \nQ 2900 1003 2900 1516 \nL 2900 3500 \nL 3475 3500 \nL 3475 0 \nL 2900 0 \nL 2900 538 \nQ 2691 219 2414 64 \nQ 2138 -91 1772 -91 \nQ 1169 -91 856 284 \nQ 544 659 544 1381 \nz\nM 1991 3584 \nL 1991 3584 \nz\n\" transform=\"scale(0.015625)\"/>\n       <path id=\"DejaVuSans-72\" d=\"M 2631 2963 \nQ 2534 3019 2420 3045 \nQ 2306 3072 2169 3072 \nQ 1681 3072 1420 2755 \nQ 1159 2438 1159 1844 \nL 1159 0 \nL 581 0 \nL 581 3500 \nL 1159 3500 \nL 1159 2956 \nQ 1341 3275 1631 3429 \nQ 1922 3584 2338 3584 \nQ 2397 3584 2469 3576 \nQ 2541 3569 2628 3553 \nL 2631 2963 \nz\n\" transform=\"scale(0.015625)\"/>\n       <path id=\"DejaVuSans-64\" d=\"M 2906 2969 \nL 2906 4863 \nL 3481 4863 \nL 3481 0 \nL 2906 0 \nL 2906 525 \nQ 2725 213 2448 61 \nQ 2172 -91 1784 -91 \nQ 1150 -91 751 415 \nQ 353 922 353 1747 \nQ 353 2572 751 3078 \nQ 1150 3584 1784 3584 \nQ 2172 3584 2448 3432 \nQ 2725 3281 2906 2969 \nz\nM 947 1747 \nQ 947 1113 1208 752 \nQ 1469 391 1925 391 \nQ 2381 391 2643 752 \nQ 2906 1113 2906 1747 \nQ 2906 2381 2643 2742 \nQ 2381 3103 1925 3103 \nQ 1469 3103 1208 2742 \nQ 947 2381 947 1747 \nz\n\" transform=\"scale(0.015625)\"/>\n       <path id=\"DejaVuSans-20\" transform=\"scale(0.015625)\"/>\n       <path id=\"DejaVuSans-70\" d=\"M 1159 525 \nL 1159 -1331 \nL 581 -1331 \nL 581 3500 \nL 1159 3500 \nL 1159 2969 \nQ 1341 3281 1617 3432 \nQ 1894 3584 2278 3584 \nQ 2916 3584 3314 3078 \nQ 3713 2572 3713 1747 \nQ 3713 922 3314 415 \nQ 2916 -91 2278 -91 \nQ 1894 -91 1617 61 \nQ 1341 213 1159 525 \nz\nM 3116 1747 \nQ 3116 2381 2855 2742 \nQ 2594 3103 2138 3103 \nQ 1681 3103 1420 2742 \nQ 1159 2381 1159 1747 \nQ 1159 1113 1420 752 \nQ 1681 391 2138 391 \nQ 2594 391 2855 752 \nQ 3116 1113 3116 1747 \nz\n\" transform=\"scale(0.015625)\"/>\n       <path id=\"DejaVuSans-28\" d=\"M 1984 4856 \nQ 1566 4138 1362 3434 \nQ 1159 2731 1159 2009 \nQ 1159 1288 1364 580 \nQ 1569 -128 1984 -844 \nL 1484 -844 \nQ 1016 -109 783 600 \nQ 550 1309 550 2009 \nQ 550 2706 781 3412 \nQ 1013 4119 1484 4856 \nL 1984 4856 \nz\n\" transform=\"scale(0.015625)\"/>\n       <path id=\"DejaVuSans-6b\" d=\"M 581 4863 \nL 1159 4863 \nL 1159 1991 \nL 2875 3500 \nL 3609 3500 \nL 1753 1863 \nL 3688 0 \nL 2938 0 \nL 1159 1709 \nL 1159 0 \nL 581 0 \nL 581 4863 \nz\n\" transform=\"scale(0.015625)\"/>\n       <path id=\"DejaVuSans-6d\" d=\"M 3328 2828 \nQ 3544 3216 3844 3400 \nQ 4144 3584 4550 3584 \nQ 5097 3584 5394 3201 \nQ 5691 2819 5691 2113 \nL 5691 0 \nL 5113 0 \nL 5113 2094 \nQ 5113 2597 4934 2840 \nQ 4756 3084 4391 3084 \nQ 3944 3084 3684 2787 \nQ 3425 2491 3425 1978 \nL 3425 0 \nL 2847 0 \nL 2847 2094 \nQ 2847 2600 2669 2842 \nQ 2491 3084 2119 3084 \nQ 1678 3084 1418 2786 \nQ 1159 2488 1159 1978 \nL 1159 0 \nL 581 0 \nL 581 3500 \nL 1159 3500 \nL 1159 2956 \nQ 1356 3278 1631 3431 \nQ 1906 3584 2284 3584 \nQ 2666 3584 2933 3390 \nQ 3200 3197 3328 2828 \nz\n\" transform=\"scale(0.015625)\"/>\n       <path id=\"DejaVuSans-2f\" d=\"M 1625 4666 \nL 2156 4666 \nL 531 -594 \nL 0 -594 \nL 1625 4666 \nz\n\" transform=\"scale(0.015625)\"/>\n       <path id=\"DejaVuSans-29\" d=\"M 513 4856 \nL 1013 4856 \nQ 1481 4119 1714 3412 \nQ 1947 2706 1947 2009 \nQ 1947 1309 1714 600 \nQ 1481 -109 1013 -844 \nL 513 -844 \nQ 928 -128 1133 580 \nQ 1338 1288 1338 2009 \nQ 1338 2731 1133 3434 \nQ 928 4138 513 4856 \nz\n\" transform=\"scale(0.015625)\"/>\n      </defs>\n      <use xlink:href=\"#DejaVuSans-4d\"/>\n      <use xlink:href=\"#DejaVuSans-65\" x=\"86.279297\"/>\n      <use xlink:href=\"#DejaVuSans-61\" x=\"147.802734\"/>\n      <use xlink:href=\"#DejaVuSans-73\" x=\"209.082031\"/>\n      <use xlink:href=\"#DejaVuSans-75\" x=\"261.181641\"/>\n      <use xlink:href=\"#DejaVuSans-72\" x=\"324.560547\"/>\n      <use xlink:href=\"#DejaVuSans-65\" x=\"363.423828\"/>\n      <use xlink:href=\"#DejaVuSans-64\" x=\"424.947266\"/>\n      <use xlink:href=\"#DejaVuSans-20\" x=\"488.423828\"/>\n      <use xlink:href=\"#DejaVuSans-73\" x=\"520.210938\"/>\n      <use xlink:href=\"#DejaVuSans-70\" x=\"572.310547\"/>\n      <use xlink:href=\"#DejaVuSans-65\" x=\"635.787109\"/>\n      <use xlink:href=\"#DejaVuSans-65\" x=\"697.310547\"/>\n      <use xlink:href=\"#DejaVuSans-64\" x=\"758.833984\"/>\n      <use xlink:href=\"#DejaVuSans-20\" x=\"822.310547\"/>\n      <use xlink:href=\"#DejaVuSans-28\" x=\"854.097656\"/>\n      <use xlink:href=\"#DejaVuSans-6b\" x=\"893.111328\"/>\n      <use xlink:href=\"#DejaVuSans-6d\" x=\"951.021484\"/>\n      <use xlink:href=\"#DejaVuSans-2f\" x=\"1048.433594\"/>\n      <use xlink:href=\"#DejaVuSans-73\" x=\"1082.125\"/>\n      <use xlink:href=\"#DejaVuSans-29\" x=\"1134.224609\"/>\n     </g>\n    </g>\n   </g>\n   <g id=\"matplotlib.axis_2\">\n    <g id=\"ytick_1\">\n     <g id=\"line2d_11\">\n      <path d=\"M 24.483864 290.25375 \nL 381.603864 290.25375 \n\" clip-path=\"url(#pb20d64b084)\" style=\"fill: none; stroke-dasharray: 1.85,0.8; stroke-dashoffset: 0; stroke: #b2b2b2; stroke-width: 0.5\"/>\n     </g>\n     <g id=\"line2d_12\">\n      <defs>\n       <path id=\"m5aaa24ccaf\" d=\"M 0 0 \nL 3.5 0 \n\" style=\"stroke: #000000; stroke-width: 0.8\"/>\n      </defs>\n      <g>\n       <use xlink:href=\"#m5aaa24ccaf\" x=\"24.483864\" y=\"290.25375\" style=\"stroke: #000000; stroke-width: 0.8\"/>\n      </g>\n     </g>\n     <g id=\"text_7\">\n      <!-- 0 -->\n      <g transform=\"translate(14.621364 294.052969) scale(0.1 -0.1)\">\n       <use xlink:href=\"#DejaVuSans-30\"/>\n      </g>\n     </g>\n    </g>\n    <g id=\"ytick_2\">\n     <g id=\"line2d_13\">\n      <path d=\"M 24.483864 243.320417 \nL 381.603864 243.320417 \n\" clip-path=\"url(#pb20d64b084)\" style=\"fill: none; stroke-dasharray: 1.85,0.8; stroke-dashoffset: 0; stroke: #b2b2b2; stroke-width: 0.5\"/>\n     </g>\n     <g id=\"line2d_14\">\n      <g>\n       <use xlink:href=\"#m5aaa24ccaf\" x=\"24.483864\" y=\"243.320417\" style=\"stroke: #000000; stroke-width: 0.8\"/>\n      </g>\n     </g>\n     <g id=\"text_8\">\n      <!-- 5 -->\n      <g transform=\"translate(14.621364 247.119635) scale(0.1 -0.1)\">\n       <defs>\n        <path id=\"DejaVuSans-35\" d=\"M 691 4666 \nL 3169 4666 \nL 3169 4134 \nL 1269 4134 \nL 1269 2991 \nQ 1406 3038 1543 3061 \nQ 1681 3084 1819 3084 \nQ 2600 3084 3056 2656 \nQ 3513 2228 3513 1497 \nQ 3513 744 3044 326 \nQ 2575 -91 1722 -91 \nQ 1428 -91 1123 -41 \nQ 819 9 494 109 \nL 494 744 \nQ 775 591 1075 516 \nQ 1375 441 1709 441 \nQ 2250 441 2565 725 \nQ 2881 1009 2881 1497 \nQ 2881 1984 2565 2268 \nQ 2250 2553 1709 2553 \nQ 1456 2553 1204 2497 \nQ 953 2441 691 2322 \nL 691 4666 \nz\n\" transform=\"scale(0.015625)\"/>\n       </defs>\n       <use xlink:href=\"#DejaVuSans-35\"/>\n      </g>\n     </g>\n    </g>\n    <g id=\"ytick_3\">\n     <g id=\"line2d_15\">\n      <path d=\"M 24.483864 196.387083 \nL 381.603864 196.387083 \n\" clip-path=\"url(#pb20d64b084)\" style=\"fill: none; stroke-dasharray: 1.85,0.8; stroke-dashoffset: 0; stroke: #b2b2b2; stroke-width: 0.5\"/>\n     </g>\n     <g id=\"line2d_16\">\n      <g>\n       <use xlink:href=\"#m5aaa24ccaf\" x=\"24.483864\" y=\"196.387083\" style=\"stroke: #000000; stroke-width: 0.8\"/>\n      </g>\n     </g>\n     <g id=\"text_9\">\n      <!-- 10 -->\n      <g transform=\"translate(8.258864 200.186302) scale(0.1 -0.1)\">\n       <defs>\n        <path id=\"DejaVuSans-31\" d=\"M 794 531 \nL 1825 531 \nL 1825 4091 \nL 703 3866 \nL 703 4441 \nL 1819 4666 \nL 2450 4666 \nL 2450 531 \nL 3481 531 \nL 3481 0 \nL 794 0 \nL 794 531 \nz\n\" transform=\"scale(0.015625)\"/>\n       </defs>\n       <use xlink:href=\"#DejaVuSans-31\"/>\n       <use xlink:href=\"#DejaVuSans-30\" x=\"63.623047\"/>\n      </g>\n     </g>\n    </g>\n    <g id=\"ytick_4\">\n     <g id=\"line2d_17\">\n      <path d=\"M 24.483864 149.45375 \nL 381.603864 149.45375 \n\" clip-path=\"url(#pb20d64b084)\" style=\"fill: none; stroke-dasharray: 1.85,0.8; stroke-dashoffset: 0; stroke: #b2b2b2; stroke-width: 0.5\"/>\n     </g>\n     <g id=\"line2d_18\">\n      <g>\n       <use xlink:href=\"#m5aaa24ccaf\" x=\"24.483864\" y=\"149.45375\" style=\"stroke: #000000; stroke-width: 0.8\"/>\n      </g>\n     </g>\n     <g id=\"text_10\">\n      <!-- 15 -->\n      <g transform=\"translate(8.258864 153.252969) scale(0.1 -0.1)\">\n       <use xlink:href=\"#DejaVuSans-31\"/>\n       <use xlink:href=\"#DejaVuSans-35\" x=\"63.623047\"/>\n      </g>\n     </g>\n    </g>\n    <g id=\"ytick_5\">\n     <g id=\"line2d_19\">\n      <path d=\"M 24.483864 102.520417 \nL 381.603864 102.520417 \n\" clip-path=\"url(#pb20d64b084)\" style=\"fill: none; stroke-dasharray: 1.85,0.8; stroke-dashoffset: 0; stroke: #b2b2b2; stroke-width: 0.5\"/>\n     </g>\n     <g id=\"line2d_20\">\n      <g>\n       <use xlink:href=\"#m5aaa24ccaf\" x=\"24.483864\" y=\"102.520417\" style=\"stroke: #000000; stroke-width: 0.8\"/>\n      </g>\n     </g>\n     <g id=\"text_11\">\n      <!-- 20 -->\n      <g transform=\"translate(8.258864 106.319635) scale(0.1 -0.1)\">\n       <use xlink:href=\"#DejaVuSans-32\"/>\n       <use xlink:href=\"#DejaVuSans-30\" x=\"63.623047\"/>\n      </g>\n     </g>\n    </g>\n    <g id=\"ytick_6\">\n     <g id=\"line2d_21\">\n      <path d=\"M 24.483864 55.587083 \nL 381.603864 55.587083 \n\" clip-path=\"url(#pb20d64b084)\" style=\"fill: none; stroke-dasharray: 1.85,0.8; stroke-dashoffset: 0; stroke: #b2b2b2; stroke-width: 0.5\"/>\n     </g>\n     <g id=\"line2d_22\">\n      <g>\n       <use xlink:href=\"#m5aaa24ccaf\" x=\"24.483864\" y=\"55.587083\" style=\"stroke: #000000; stroke-width: 0.8\"/>\n      </g>\n     </g>\n     <g id=\"text_12\">\n      <!-- 25 -->\n      <g transform=\"translate(8.258864 59.386302) scale(0.1 -0.1)\">\n       <use xlink:href=\"#DejaVuSans-32\"/>\n       <use xlink:href=\"#DejaVuSans-35\" x=\"63.623047\"/>\n      </g>\n     </g>\n    </g>\n   </g>\n   <g id=\"patch_13\">\n    <path d=\"M 24.483864 290.25375 \nL 24.483864 24.14175 \n\" style=\"fill: none; stroke: #bcbcbc; stroke-width: 0.8; stroke-linejoin: miter; stroke-linecap: square\"/>\n   </g>\n   <g id=\"patch_14\">\n    <path d=\"M 381.603864 290.25375 \nL 381.603864 24.14175 \n\" style=\"fill: none; stroke: #bcbcbc; stroke-width: 0.8; stroke-linejoin: miter; stroke-linecap: square\"/>\n   </g>\n   <g id=\"patch_15\">\n    <path d=\"M 24.483864 290.25375 \nL 381.603864 290.25375 \n\" style=\"fill: none; stroke: #bcbcbc; stroke-width: 0.8; stroke-linejoin: miter; stroke-linecap: square\"/>\n   </g>\n   <g id=\"patch_16\">\n    <path d=\"M 24.483864 24.14175 \nL 381.603864 24.14175 \n\" style=\"fill: none; stroke: #bcbcbc; stroke-width: 0.8; stroke-linejoin: miter; stroke-linecap: square\"/>\n   </g>\n   <g id=\"text_13\">\n    <!-- Michelson speed of light measurements -->\n    <g transform=\"translate(59.379114 18.14175) scale(0.144 -0.144)\">\n     <defs>\n      <path id=\"DejaVuSans-69\" d=\"M 603 3500 \nL 1178 3500 \nL 1178 0 \nL 603 0 \nL 603 3500 \nz\nM 603 4863 \nL 1178 4863 \nL 1178 4134 \nL 603 4134 \nL 603 4863 \nz\n\" transform=\"scale(0.015625)\"/>\n      <path id=\"DejaVuSans-63\" d=\"M 3122 3366 \nL 3122 2828 \nQ 2878 2963 2633 3030 \nQ 2388 3097 2138 3097 \nQ 1578 3097 1268 2742 \nQ 959 2388 959 1747 \nQ 959 1106 1268 751 \nQ 1578 397 2138 397 \nQ 2388 397 2633 464 \nQ 2878 531 3122 666 \nL 3122 134 \nQ 2881 22 2623 -34 \nQ 2366 -91 2075 -91 \nQ 1284 -91 818 406 \nQ 353 903 353 1747 \nQ 353 2603 823 3093 \nQ 1294 3584 2113 3584 \nQ 2378 3584 2631 3529 \nQ 2884 3475 3122 3366 \nz\n\" transform=\"scale(0.015625)\"/>\n      <path id=\"DejaVuSans-68\" d=\"M 3513 2113 \nL 3513 0 \nL 2938 0 \nL 2938 2094 \nQ 2938 2591 2744 2837 \nQ 2550 3084 2163 3084 \nQ 1697 3084 1428 2787 \nQ 1159 2491 1159 1978 \nL 1159 0 \nL 581 0 \nL 581 4863 \nL 1159 4863 \nL 1159 2956 \nQ 1366 3272 1645 3428 \nQ 1925 3584 2291 3584 \nQ 2894 3584 3203 3211 \nQ 3513 2838 3513 2113 \nz\n\" transform=\"scale(0.015625)\"/>\n      <path id=\"DejaVuSans-6c\" d=\"M 603 4863 \nL 1178 4863 \nL 1178 0 \nL 603 0 \nL 603 4863 \nz\n\" transform=\"scale(0.015625)\"/>\n      <path id=\"DejaVuSans-6f\" d=\"M 1959 3097 \nQ 1497 3097 1228 2736 \nQ 959 2375 959 1747 \nQ 959 1119 1226 758 \nQ 1494 397 1959 397 \nQ 2419 397 2687 759 \nQ 2956 1122 2956 1747 \nQ 2956 2369 2687 2733 \nQ 2419 3097 1959 3097 \nz\nM 1959 3584 \nQ 2709 3584 3137 3096 \nQ 3566 2609 3566 1747 \nQ 3566 888 3137 398 \nQ 2709 -91 1959 -91 \nQ 1206 -91 779 398 \nQ 353 888 353 1747 \nQ 353 2609 779 3096 \nQ 1206 3584 1959 3584 \nz\n\" transform=\"scale(0.015625)\"/>\n      <path id=\"DejaVuSans-6e\" d=\"M 3513 2113 \nL 3513 0 \nL 2938 0 \nL 2938 2094 \nQ 2938 2591 2744 2837 \nQ 2550 3084 2163 3084 \nQ 1697 3084 1428 2787 \nQ 1159 2491 1159 1978 \nL 1159 0 \nL 581 0 \nL 581 3500 \nL 1159 3500 \nL 1159 2956 \nQ 1366 3272 1645 3428 \nQ 1925 3584 2291 3584 \nQ 2894 3584 3203 3211 \nQ 3513 2838 3513 2113 \nz\n\" transform=\"scale(0.015625)\"/>\n      <path id=\"DejaVuSans-66\" d=\"M 2375 4863 \nL 2375 4384 \nL 1825 4384 \nQ 1516 4384 1395 4259 \nQ 1275 4134 1275 3809 \nL 1275 3500 \nL 2222 3500 \nL 2222 3053 \nL 1275 3053 \nL 1275 0 \nL 697 0 \nL 697 3053 \nL 147 3053 \nL 147 3500 \nL 697 3500 \nL 697 3744 \nQ 697 4328 969 4595 \nQ 1241 4863 1831 4863 \nL 2375 4863 \nz\n\" transform=\"scale(0.015625)\"/>\n      <path id=\"DejaVuSans-67\" d=\"M 2906 1791 \nQ 2906 2416 2648 2759 \nQ 2391 3103 1925 3103 \nQ 1463 3103 1205 2759 \nQ 947 2416 947 1791 \nQ 947 1169 1205 825 \nQ 1463 481 1925 481 \nQ 2391 481 2648 825 \nQ 2906 1169 2906 1791 \nz\nM 3481 434 \nQ 3481 -459 3084 -895 \nQ 2688 -1331 1869 -1331 \nQ 1566 -1331 1297 -1286 \nQ 1028 -1241 775 -1147 \nL 775 -588 \nQ 1028 -725 1275 -790 \nQ 1522 -856 1778 -856 \nQ 2344 -856 2625 -561 \nQ 2906 -266 2906 331 \nL 2906 616 \nQ 2728 306 2450 153 \nQ 2172 0 1784 0 \nQ 1141 0 747 490 \nQ 353 981 353 1791 \nQ 353 2603 747 3093 \nQ 1141 3584 1784 3584 \nQ 2172 3584 2450 3431 \nQ 2728 3278 2906 2969 \nL 2906 3500 \nL 3481 3500 \nL 3481 434 \nz\n\" transform=\"scale(0.015625)\"/>\n      <path id=\"DejaVuSans-74\" d=\"M 1172 4494 \nL 1172 3500 \nL 2356 3500 \nL 2356 3053 \nL 1172 3053 \nL 1172 1153 \nQ 1172 725 1289 603 \nQ 1406 481 1766 481 \nL 2356 481 \nL 2356 0 \nL 1766 0 \nQ 1100 0 847 248 \nQ 594 497 594 1153 \nL 594 3053 \nL 172 3053 \nL 172 3500 \nL 594 3500 \nL 594 4494 \nL 1172 4494 \nz\n\" transform=\"scale(0.015625)\"/>\n     </defs>\n     <use xlink:href=\"#DejaVuSans-4d\"/>\n     <use xlink:href=\"#DejaVuSans-69\" x=\"86.279297\"/>\n     <use xlink:href=\"#DejaVuSans-63\" x=\"114.0625\"/>\n     <use xlink:href=\"#DejaVuSans-68\" x=\"169.042969\"/>\n     <use xlink:href=\"#DejaVuSans-65\" x=\"232.421875\"/>\n     <use xlink:href=\"#DejaVuSans-6c\" x=\"293.945312\"/>\n     <use xlink:href=\"#DejaVuSans-73\" x=\"321.728516\"/>\n     <use xlink:href=\"#DejaVuSans-6f\" x=\"373.828125\"/>\n     <use xlink:href=\"#DejaVuSans-6e\" x=\"435.009766\"/>\n     <use xlink:href=\"#DejaVuSans-20\" x=\"498.388672\"/>\n     <use xlink:href=\"#DejaVuSans-73\" x=\"530.175781\"/>\n     <use xlink:href=\"#DejaVuSans-70\" x=\"582.275391\"/>\n     <use xlink:href=\"#DejaVuSans-65\" x=\"645.751953\"/>\n     <use xlink:href=\"#DejaVuSans-65\" x=\"707.275391\"/>\n     <use xlink:href=\"#DejaVuSans-64\" x=\"768.798828\"/>\n     <use xlink:href=\"#DejaVuSans-20\" x=\"832.275391\"/>\n     <use xlink:href=\"#DejaVuSans-6f\" x=\"864.0625\"/>\n     <use xlink:href=\"#DejaVuSans-66\" x=\"925.244141\"/>\n     <use xlink:href=\"#DejaVuSans-20\" x=\"960.449219\"/>\n     <use xlink:href=\"#DejaVuSans-6c\" x=\"992.236328\"/>\n     <use xlink:href=\"#DejaVuSans-69\" x=\"1020.019531\"/>\n     <use xlink:href=\"#DejaVuSans-67\" x=\"1047.802734\"/>\n     <use xlink:href=\"#DejaVuSans-68\" x=\"1111.279297\"/>\n     <use xlink:href=\"#DejaVuSans-74\" x=\"1174.658203\"/>\n     <use xlink:href=\"#DejaVuSans-20\" x=\"1213.867188\"/>\n     <use xlink:href=\"#DejaVuSans-6d\" x=\"1245.654297\"/>\n     <use xlink:href=\"#DejaVuSans-65\" x=\"1343.066406\"/>\n     <use xlink:href=\"#DejaVuSans-61\" x=\"1404.589844\"/>\n     <use xlink:href=\"#DejaVuSans-73\" x=\"1465.869141\"/>\n     <use xlink:href=\"#DejaVuSans-75\" x=\"1517.96875\"/>\n     <use xlink:href=\"#DejaVuSans-72\" x=\"1581.347656\"/>\n     <use xlink:href=\"#DejaVuSans-65\" x=\"1620.210938\"/>\n     <use xlink:href=\"#DejaVuSans-6d\" x=\"1681.734375\"/>\n     <use xlink:href=\"#DejaVuSans-65\" x=\"1779.146484\"/>\n     <use xlink:href=\"#DejaVuSans-6e\" x=\"1840.669922\"/>\n     <use xlink:href=\"#DejaVuSans-74\" x=\"1904.048828\"/>\n     <use xlink:href=\"#DejaVuSans-73\" x=\"1943.257812\"/>\n    </g>\n   </g>\n  </g>\n </g>\n <defs>\n  <clipPath id=\"pb20d64b084\">\n   <rect x=\"24.483864\" y=\"24.14175\" width=\"357.12\" height=\"266.112\"/>\n  </clipPath>\n </defs>\n</svg>\n",
      "text/plain": [
       "<Figure size 640x480 with 1 Axes>"
      ]
     },
     "metadata": {},
     "output_type": "display_data"
    }
   ],
   "source": [
    "plt.xlabel(\"Measured speed (km/s)\")\n",
    "plt.title(\"Michelson speed of light measurements\")\n",
    "plt.hist(mich.speed, alpha=0.5);"
   ]
  },
  {
   "cell_type": "markdown",
   "metadata": {},
   "source": [
    "The mean value from Michelson’s measurements is"
   ]
  },
  {
   "cell_type": "code",
   "execution_count": 12,
   "metadata": {},
   "outputs": [
    {
     "data": {
      "text/plain": [
       "299852.4"
      ]
     },
     "execution_count": 12,
     "metadata": {},
     "output_type": "execute_result"
    }
   ],
   "source": [
    "mich.speed.mean()"
   ]
  },
  {
   "attachments": {},
   "cell_type": "markdown",
   "metadata": {},
   "source": [
    "Since there is clearly some measurement uncertainty, we would like to report a **95% confidence interval** for the measurements. We can do this using bootstrap resampling, as implemented in the function below. \n",
    "\n",
    "Bootstrap resampling is where we make our sample size bigger by randomly copying samples from the original data set into a new data set, until we reach the size we want. The process is quite simple, and follows these steps:\n",
    "\n",
    "    Choose the size of the sample.\n",
    "    While the size of the sample is less than the chosen size:\n",
    "        Randomly select an observation from the dataset\n",
    "        Add it to the sample\n",
    "\n",
    " Then we can estimate the mean and confidence interval of the original data set as the mean and confidence interval of the new data set. This procedure is quite useful in statistics, for example it can be used to estimate the skill of a machine learning model."
   ]
  },
  {
   "cell_type": "code",
   "execution_count": 13,
   "metadata": {},
   "outputs": [],
   "source": [
    "def bootstrap_confidence_intervals(data, estimator, percentiles, runs=1000):\n",
    "    replicates = numpy.empty(runs)\n",
    "    for i in range(runs):\n",
    "        replicates[i] = estimator(numpy.random.choice(data, len(data), replace=True))\n",
    "    est = numpy.mean(replicates)\n",
    "    ci = numpy.percentile(replicates, percentiles)\n",
    "    return (est, ci)"
   ]
  },
  {
   "cell_type": "code",
   "execution_count": 14,
   "metadata": {},
   "outputs": [
    {
     "data": {
      "text/plain": [
       "(15.853699999977835, 15.456300000078045)"
      ]
     },
     "execution_count": 14,
     "metadata": {},
     "output_type": "execute_result"
    }
   ],
   "source": [
    "est, ci = bootstrap_confidence_intervals(mich.speed, estimator=numpy.mean, percentiles=[2.5, 97.5])\n",
    "est\n",
    "ci\n",
    "est - ci[0], ci[1] - est"
   ]
  },
  {
   "attachments": {},
   "cell_type": "markdown",
   "metadata": {},
   "source": [
    "The first value you see is the bootstrapped estimate of the mean, which we can see is almost exactly the same as the original mean, the second and third is the 95% confidence interval displayed in two different ways. Given that the confidence interval is roughly symmetrical, we could report this measurement as\n",
    "\n",
    "    299853 ± 16 km/s (95% CI) \n",
    "\n",
    "or as \n",
    "\n",
    "    2998523 [299837, 299869] km/s (95% CI). \n",
    "\n",
    "Note that a ± notation without the \"(95% CI)\" for the margin of error is ambiguous, as is soley an interval, because some scientific communities use one or two standard deviations instead of a confidence interval. \n",
    "\n",
    "After accounting for his uncertainties, Michelson’s final measurement for the speed of light in a vacuum was reported as 299944 ± 51 km/s. Despite this, he vehemently stated his measurement was actually correct to approximately ± 150 km/s, in fact the difference between his result and todays accepted value is 148 km/s. Getting this close to todays accepted value with as small as an uncertainty as he did was very impressive given the technology of the time."
   ]
  },
  {
   "attachments": {},
   "cell_type": "markdown",
   "metadata": {},
   "source": [
    "#### Method 2: Interferometry"
   ]
  },
  {
   "attachments": {},
   "cell_type": "markdown",
   "metadata": {},
   "source": [
    "The second method is a much more modern one, although Michelson himself pioneered one of the key inventions used, the interferometer. Here, we will consider is a type of interferometry using modulated light. Here, the intensity of the light is varied with time in a sinusoidal manner, thus if we choose the frequency of the light sensibly, we can obtain a measurable wavelength. If two identical sources are the same distance from a detector, they will arrive in phase. If they are a distance Δx apart, then the peaks in one intensity measurement will not necessarily coincide with the peaks in the second.  There is a phase difference between the peaks of the intensity waveforms. The only time they will be in phase is if the distance difference is an integer number of the modulation wavelength of the light. Thus if we can use the detector to measure the phase difference, we have the wavelength as \n",
    "\n",
    "$\\theta=2\\pi\\frac{\\Delta{x}}{\\lambda_{mod}}$."
   ]
  },
  {
   "attachments": {},
   "cell_type": "markdown",
   "metadata": {},
   "source": [
    "![](../media/pins1.png)"
   ]
  },
  {
   "attachments": {},
   "cell_type": "markdown",
   "metadata": {},
   "source": [
    "This means, knowing the modulation frequency, we can work out the speed of light using\n",
    "\n",
    "$c=f_{mod}\\lambda_{mod}$.\n",
    "\n",
    "Put together, the apparatus looks something like this:"
   ]
  },
  {
   "attachments": {},
   "cell_type": "markdown",
   "metadata": {},
   "source": [
    "<div>\n",
    "<img src=\"../media/pins2.png\" width=\"500\"/>\n",
    "</div>"
   ]
  },
  {
   "attachments": {},
   "cell_type": "markdown",
   "metadata": {},
   "source": [
    "When the laser is turned on, the oscilloscope will display the original waveform as well as the waveform recieved at the APD module. From this, the time delay (in nanoseconds) can be measured from the phase difference between these two waves (x-axis). The data has been recorded for various optical path lengths (in cm), changed by moving the mirror along the optical rail."
   ]
  },
  {
   "cell_type": "code",
   "execution_count": 15,
   "metadata": {},
   "outputs": [],
   "source": [
    "time_delay = numpy.array([3.3, 3.9, 4.7, 5.1, 6.0, 6.5, 7.2, 7.8, 8.6, 9.1, 10.0, 11.6])\n",
    "path_length = numpy.array([20, 40, 60, 80, 100, 120, 140, 160, 180, 200, 220, 240])\n",
    "a,b = numpy.polyfit(path_length,time_delay,1)"
   ]
  },
  {
   "attachments": {},
   "cell_type": "markdown",
   "metadata": {},
   "source": [
    "Looking at errors, the uncertainty in path length was half a cm, however since the laser travels the length twice, it must be doubled to 1 cm. For the time delay, half of the smallest division on the time axis was 0.25 ns, so an overall uncertainty of 0.5 ns as the measurement involves measuring the difference between one waveform and the other. Plotting path length against time delay we get the following plot."
   ]
  },
  {
   "cell_type": "code",
   "execution_count": 16,
   "metadata": {},
   "outputs": [
    {
     "data": {
      "image/svg+xml": "<?xml version=\"1.0\" encoding=\"utf-8\" standalone=\"no\"?>\n<!DOCTYPE svg PUBLIC \"-//W3C//DTD SVG 1.1//EN\"\n  \"http://www.w3.org/Graphics/SVG/1.1/DTD/svg11.dtd\">\n<svg xmlns:xlink=\"http://www.w3.org/1999/xlink\" width=\"551.728202pt\" height=\"279.958pt\" viewBox=\"0 0 551.728202 279.958\" xmlns=\"http://www.w3.org/2000/svg\" version=\"1.1\">\n <metadata>\n  <rdf:RDF xmlns:dc=\"http://purl.org/dc/elements/1.1/\" xmlns:cc=\"http://creativecommons.org/ns#\" xmlns:rdf=\"http://www.w3.org/1999/02/22-rdf-syntax-ns#\">\n   <cc:Work>\n    <dc:type rdf:resource=\"http://purl.org/dc/dcmitype/StillImage\"/>\n    <dc:date>2023-02-17T14:51:02.207772</dc:date>\n    <dc:format>image/svg+xml</dc:format>\n    <dc:creator>\n     <cc:Agent>\n      <dc:title>Matplotlib v3.7.0, https://matplotlib.org/</dc:title>\n     </cc:Agent>\n    </dc:creator>\n   </cc:Work>\n  </rdf:RDF>\n </metadata>\n <defs>\n  <style type=\"text/css\">*{stroke-linejoin: round; stroke-linecap: butt}</style>\n </defs>\n <g id=\"figure_1\">\n  <g id=\"patch_1\">\n   <path d=\"M 0 279.958 \nL 551.728202 279.958 \nL 551.728202 0 \nL 0 0 \nz\n\" style=\"fill: #ffffff\"/>\n  </g>\n  <g id=\"axes_1\">\n   <g id=\"patch_2\">\n    <path d=\"M 37.103125 245.90175 \nL 539.303125 245.90175 \nL 539.303125 24.14175 \nL 37.103125 24.14175 \nz\n\" style=\"fill: #eeeeee\"/>\n   </g>\n   <g id=\"matplotlib.axis_1\">\n    <g id=\"xtick_1\">\n     <g id=\"line2d_1\">\n      <path d=\"M 123.68224 245.90175 \nL 123.68224 24.14175 \n\" clip-path=\"url(#p0c500f69d9)\" style=\"fill: none; stroke-dasharray: 1.85,0.8; stroke-dashoffset: 0; stroke: #b2b2b2; stroke-width: 0.5\"/>\n     </g>\n     <g id=\"line2d_2\">\n      <defs>\n       <path id=\"m55bed409db\" d=\"M 0 0 \nL 0 -3.5 \n\" style=\"stroke: #000000; stroke-width: 0.8\"/>\n      </defs>\n      <g>\n       <use xlink:href=\"#m55bed409db\" x=\"123.68224\" y=\"245.90175\" style=\"stroke: #000000; stroke-width: 0.8\"/>\n      </g>\n     </g>\n     <g id=\"text_1\">\n      <!-- 50 -->\n      <g transform=\"translate(117.31974 257.000188) scale(0.1 -0.1)\">\n       <defs>\n        <path id=\"DejaVuSans-35\" d=\"M 691 4666 \nL 3169 4666 \nL 3169 4134 \nL 1269 4134 \nL 1269 2991 \nQ 1406 3038 1543 3061 \nQ 1681 3084 1819 3084 \nQ 2600 3084 3056 2656 \nQ 3513 2228 3513 1497 \nQ 3513 744 3044 326 \nQ 2575 -91 1722 -91 \nQ 1428 -91 1123 -41 \nQ 819 9 494 109 \nL 494 744 \nQ 775 591 1075 516 \nQ 1375 441 1709 441 \nQ 2250 441 2565 725 \nQ 2881 1009 2881 1497 \nQ 2881 1984 2565 2268 \nQ 2250 2553 1709 2553 \nQ 1456 2553 1204 2497 \nQ 953 2441 691 2322 \nL 691 4666 \nz\n\" transform=\"scale(0.015625)\"/>\n        <path id=\"DejaVuSans-30\" d=\"M 2034 4250 \nQ 1547 4250 1301 3770 \nQ 1056 3291 1056 2328 \nQ 1056 1369 1301 889 \nQ 1547 409 2034 409 \nQ 2525 409 2770 889 \nQ 3016 1369 3016 2328 \nQ 3016 3291 2770 3770 \nQ 2525 4250 2034 4250 \nz\nM 2034 4750 \nQ 2819 4750 3233 4129 \nQ 3647 3509 3647 2328 \nQ 3647 1150 3233 529 \nQ 2819 -91 2034 -91 \nQ 1250 -91 836 529 \nQ 422 1150 422 2328 \nQ 422 3509 836 4129 \nQ 1250 4750 2034 4750 \nz\n\" transform=\"scale(0.015625)\"/>\n       </defs>\n       <use xlink:href=\"#DejaVuSans-35\"/>\n       <use xlink:href=\"#DejaVuSans-30\" x=\"63.623047\"/>\n      </g>\n     </g>\n    </g>\n    <g id=\"xtick_2\">\n     <g id=\"line2d_3\">\n      <path d=\"M 226.507793 245.90175 \nL 226.507793 24.14175 \n\" clip-path=\"url(#p0c500f69d9)\" style=\"fill: none; stroke-dasharray: 1.85,0.8; stroke-dashoffset: 0; stroke: #b2b2b2; stroke-width: 0.5\"/>\n     </g>\n     <g id=\"line2d_4\">\n      <g>\n       <use xlink:href=\"#m55bed409db\" x=\"226.507793\" y=\"245.90175\" style=\"stroke: #000000; stroke-width: 0.8\"/>\n      </g>\n     </g>\n     <g id=\"text_2\">\n      <!-- 100 -->\n      <g transform=\"translate(216.964043 257.000188) scale(0.1 -0.1)\">\n       <defs>\n        <path id=\"DejaVuSans-31\" d=\"M 794 531 \nL 1825 531 \nL 1825 4091 \nL 703 3866 \nL 703 4441 \nL 1819 4666 \nL 2450 4666 \nL 2450 531 \nL 3481 531 \nL 3481 0 \nL 794 0 \nL 794 531 \nz\n\" transform=\"scale(0.015625)\"/>\n       </defs>\n       <use xlink:href=\"#DejaVuSans-31\"/>\n       <use xlink:href=\"#DejaVuSans-30\" x=\"63.623047\"/>\n       <use xlink:href=\"#DejaVuSans-30\" x=\"127.246094\"/>\n      </g>\n     </g>\n    </g>\n    <g id=\"xtick_3\">\n     <g id=\"line2d_5\">\n      <path d=\"M 329.333346 245.90175 \nL 329.333346 24.14175 \n\" clip-path=\"url(#p0c500f69d9)\" style=\"fill: none; stroke-dasharray: 1.85,0.8; stroke-dashoffset: 0; stroke: #b2b2b2; stroke-width: 0.5\"/>\n     </g>\n     <g id=\"line2d_6\">\n      <g>\n       <use xlink:href=\"#m55bed409db\" x=\"329.333346\" y=\"245.90175\" style=\"stroke: #000000; stroke-width: 0.8\"/>\n      </g>\n     </g>\n     <g id=\"text_3\">\n      <!-- 150 -->\n      <g transform=\"translate(319.789596 257.000188) scale(0.1 -0.1)\">\n       <use xlink:href=\"#DejaVuSans-31\"/>\n       <use xlink:href=\"#DejaVuSans-35\" x=\"63.623047\"/>\n       <use xlink:href=\"#DejaVuSans-30\" x=\"127.246094\"/>\n      </g>\n     </g>\n    </g>\n    <g id=\"xtick_4\">\n     <g id=\"line2d_7\">\n      <path d=\"M 432.158899 245.90175 \nL 432.158899 24.14175 \n\" clip-path=\"url(#p0c500f69d9)\" style=\"fill: none; stroke-dasharray: 1.85,0.8; stroke-dashoffset: 0; stroke: #b2b2b2; stroke-width: 0.5\"/>\n     </g>\n     <g id=\"line2d_8\">\n      <g>\n       <use xlink:href=\"#m55bed409db\" x=\"432.158899\" y=\"245.90175\" style=\"stroke: #000000; stroke-width: 0.8\"/>\n      </g>\n     </g>\n     <g id=\"text_4\">\n      <!-- 200 -->\n      <g transform=\"translate(422.615149 257.000188) scale(0.1 -0.1)\">\n       <defs>\n        <path id=\"DejaVuSans-32\" d=\"M 1228 531 \nL 3431 531 \nL 3431 0 \nL 469 0 \nL 469 531 \nQ 828 903 1448 1529 \nQ 2069 2156 2228 2338 \nQ 2531 2678 2651 2914 \nQ 2772 3150 2772 3378 \nQ 2772 3750 2511 3984 \nQ 2250 4219 1831 4219 \nQ 1534 4219 1204 4116 \nQ 875 4013 500 3803 \nL 500 4441 \nQ 881 4594 1212 4672 \nQ 1544 4750 1819 4750 \nQ 2544 4750 2975 4387 \nQ 3406 4025 3406 3419 \nQ 3406 3131 3298 2873 \nQ 3191 2616 2906 2266 \nQ 2828 2175 2409 1742 \nQ 1991 1309 1228 531 \nz\n\" transform=\"scale(0.015625)\"/>\n       </defs>\n       <use xlink:href=\"#DejaVuSans-32\"/>\n       <use xlink:href=\"#DejaVuSans-30\" x=\"63.623047\"/>\n       <use xlink:href=\"#DejaVuSans-30\" x=\"127.246094\"/>\n      </g>\n     </g>\n    </g>\n    <g id=\"xtick_5\">\n     <g id=\"line2d_9\">\n      <path d=\"M 534.984452 245.90175 \nL 534.984452 24.14175 \n\" clip-path=\"url(#p0c500f69d9)\" style=\"fill: none; stroke-dasharray: 1.85,0.8; stroke-dashoffset: 0; stroke: #b2b2b2; stroke-width: 0.5\"/>\n     </g>\n     <g id=\"line2d_10\">\n      <g>\n       <use xlink:href=\"#m55bed409db\" x=\"534.984452\" y=\"245.90175\" style=\"stroke: #000000; stroke-width: 0.8\"/>\n      </g>\n     </g>\n     <g id=\"text_5\">\n      <!-- 250 -->\n      <g transform=\"translate(525.440702 257.000188) scale(0.1 -0.1)\">\n       <use xlink:href=\"#DejaVuSans-32\"/>\n       <use xlink:href=\"#DejaVuSans-35\" x=\"63.623047\"/>\n       <use xlink:href=\"#DejaVuSans-30\" x=\"127.246094\"/>\n      </g>\n     </g>\n    </g>\n    <g id=\"text_6\">\n     <!-- optical path length (in cm) -->\n     <g transform=\"translate(221.678125 270.678313) scale(0.1 -0.1)\">\n      <defs>\n       <path id=\"DejaVuSans-6f\" d=\"M 1959 3097 \nQ 1497 3097 1228 2736 \nQ 959 2375 959 1747 \nQ 959 1119 1226 758 \nQ 1494 397 1959 397 \nQ 2419 397 2687 759 \nQ 2956 1122 2956 1747 \nQ 2956 2369 2687 2733 \nQ 2419 3097 1959 3097 \nz\nM 1959 3584 \nQ 2709 3584 3137 3096 \nQ 3566 2609 3566 1747 \nQ 3566 888 3137 398 \nQ 2709 -91 1959 -91 \nQ 1206 -91 779 398 \nQ 353 888 353 1747 \nQ 353 2609 779 3096 \nQ 1206 3584 1959 3584 \nz\n\" transform=\"scale(0.015625)\"/>\n       <path id=\"DejaVuSans-70\" d=\"M 1159 525 \nL 1159 -1331 \nL 581 -1331 \nL 581 3500 \nL 1159 3500 \nL 1159 2969 \nQ 1341 3281 1617 3432 \nQ 1894 3584 2278 3584 \nQ 2916 3584 3314 3078 \nQ 3713 2572 3713 1747 \nQ 3713 922 3314 415 \nQ 2916 -91 2278 -91 \nQ 1894 -91 1617 61 \nQ 1341 213 1159 525 \nz\nM 3116 1747 \nQ 3116 2381 2855 2742 \nQ 2594 3103 2138 3103 \nQ 1681 3103 1420 2742 \nQ 1159 2381 1159 1747 \nQ 1159 1113 1420 752 \nQ 1681 391 2138 391 \nQ 2594 391 2855 752 \nQ 3116 1113 3116 1747 \nz\n\" transform=\"scale(0.015625)\"/>\n       <path id=\"DejaVuSans-74\" d=\"M 1172 4494 \nL 1172 3500 \nL 2356 3500 \nL 2356 3053 \nL 1172 3053 \nL 1172 1153 \nQ 1172 725 1289 603 \nQ 1406 481 1766 481 \nL 2356 481 \nL 2356 0 \nL 1766 0 \nQ 1100 0 847 248 \nQ 594 497 594 1153 \nL 594 3053 \nL 172 3053 \nL 172 3500 \nL 594 3500 \nL 594 4494 \nL 1172 4494 \nz\n\" transform=\"scale(0.015625)\"/>\n       <path id=\"DejaVuSans-69\" d=\"M 603 3500 \nL 1178 3500 \nL 1178 0 \nL 603 0 \nL 603 3500 \nz\nM 603 4863 \nL 1178 4863 \nL 1178 4134 \nL 603 4134 \nL 603 4863 \nz\n\" transform=\"scale(0.015625)\"/>\n       <path id=\"DejaVuSans-63\" d=\"M 3122 3366 \nL 3122 2828 \nQ 2878 2963 2633 3030 \nQ 2388 3097 2138 3097 \nQ 1578 3097 1268 2742 \nQ 959 2388 959 1747 \nQ 959 1106 1268 751 \nQ 1578 397 2138 397 \nQ 2388 397 2633 464 \nQ 2878 531 3122 666 \nL 3122 134 \nQ 2881 22 2623 -34 \nQ 2366 -91 2075 -91 \nQ 1284 -91 818 406 \nQ 353 903 353 1747 \nQ 353 2603 823 3093 \nQ 1294 3584 2113 3584 \nQ 2378 3584 2631 3529 \nQ 2884 3475 3122 3366 \nz\n\" transform=\"scale(0.015625)\"/>\n       <path id=\"DejaVuSans-61\" d=\"M 2194 1759 \nQ 1497 1759 1228 1600 \nQ 959 1441 959 1056 \nQ 959 750 1161 570 \nQ 1363 391 1709 391 \nQ 2188 391 2477 730 \nQ 2766 1069 2766 1631 \nL 2766 1759 \nL 2194 1759 \nz\nM 3341 1997 \nL 3341 0 \nL 2766 0 \nL 2766 531 \nQ 2569 213 2275 61 \nQ 1981 -91 1556 -91 \nQ 1019 -91 701 211 \nQ 384 513 384 1019 \nQ 384 1609 779 1909 \nQ 1175 2209 1959 2209 \nL 2766 2209 \nL 2766 2266 \nQ 2766 2663 2505 2880 \nQ 2244 3097 1772 3097 \nQ 1472 3097 1187 3025 \nQ 903 2953 641 2809 \nL 641 3341 \nQ 956 3463 1253 3523 \nQ 1550 3584 1831 3584 \nQ 2591 3584 2966 3190 \nQ 3341 2797 3341 1997 \nz\n\" transform=\"scale(0.015625)\"/>\n       <path id=\"DejaVuSans-6c\" d=\"M 603 4863 \nL 1178 4863 \nL 1178 0 \nL 603 0 \nL 603 4863 \nz\n\" transform=\"scale(0.015625)\"/>\n       <path id=\"DejaVuSans-20\" transform=\"scale(0.015625)\"/>\n       <path id=\"DejaVuSans-68\" d=\"M 3513 2113 \nL 3513 0 \nL 2938 0 \nL 2938 2094 \nQ 2938 2591 2744 2837 \nQ 2550 3084 2163 3084 \nQ 1697 3084 1428 2787 \nQ 1159 2491 1159 1978 \nL 1159 0 \nL 581 0 \nL 581 4863 \nL 1159 4863 \nL 1159 2956 \nQ 1366 3272 1645 3428 \nQ 1925 3584 2291 3584 \nQ 2894 3584 3203 3211 \nQ 3513 2838 3513 2113 \nz\n\" transform=\"scale(0.015625)\"/>\n       <path id=\"DejaVuSans-65\" d=\"M 3597 1894 \nL 3597 1613 \nL 953 1613 \nQ 991 1019 1311 708 \nQ 1631 397 2203 397 \nQ 2534 397 2845 478 \nQ 3156 559 3463 722 \nL 3463 178 \nQ 3153 47 2828 -22 \nQ 2503 -91 2169 -91 \nQ 1331 -91 842 396 \nQ 353 884 353 1716 \nQ 353 2575 817 3079 \nQ 1281 3584 2069 3584 \nQ 2775 3584 3186 3129 \nQ 3597 2675 3597 1894 \nz\nM 3022 2063 \nQ 3016 2534 2758 2815 \nQ 2500 3097 2075 3097 \nQ 1594 3097 1305 2825 \nQ 1016 2553 972 2059 \nL 3022 2063 \nz\n\" transform=\"scale(0.015625)\"/>\n       <path id=\"DejaVuSans-6e\" d=\"M 3513 2113 \nL 3513 0 \nL 2938 0 \nL 2938 2094 \nQ 2938 2591 2744 2837 \nQ 2550 3084 2163 3084 \nQ 1697 3084 1428 2787 \nQ 1159 2491 1159 1978 \nL 1159 0 \nL 581 0 \nL 581 3500 \nL 1159 3500 \nL 1159 2956 \nQ 1366 3272 1645 3428 \nQ 1925 3584 2291 3584 \nQ 2894 3584 3203 3211 \nQ 3513 2838 3513 2113 \nz\n\" transform=\"scale(0.015625)\"/>\n       <path id=\"DejaVuSans-67\" d=\"M 2906 1791 \nQ 2906 2416 2648 2759 \nQ 2391 3103 1925 3103 \nQ 1463 3103 1205 2759 \nQ 947 2416 947 1791 \nQ 947 1169 1205 825 \nQ 1463 481 1925 481 \nQ 2391 481 2648 825 \nQ 2906 1169 2906 1791 \nz\nM 3481 434 \nQ 3481 -459 3084 -895 \nQ 2688 -1331 1869 -1331 \nQ 1566 -1331 1297 -1286 \nQ 1028 -1241 775 -1147 \nL 775 -588 \nQ 1028 -725 1275 -790 \nQ 1522 -856 1778 -856 \nQ 2344 -856 2625 -561 \nQ 2906 -266 2906 331 \nL 2906 616 \nQ 2728 306 2450 153 \nQ 2172 0 1784 0 \nQ 1141 0 747 490 \nQ 353 981 353 1791 \nQ 353 2603 747 3093 \nQ 1141 3584 1784 3584 \nQ 2172 3584 2450 3431 \nQ 2728 3278 2906 2969 \nL 2906 3500 \nL 3481 3500 \nL 3481 434 \nz\n\" transform=\"scale(0.015625)\"/>\n       <path id=\"DejaVuSans-28\" d=\"M 1984 4856 \nQ 1566 4138 1362 3434 \nQ 1159 2731 1159 2009 \nQ 1159 1288 1364 580 \nQ 1569 -128 1984 -844 \nL 1484 -844 \nQ 1016 -109 783 600 \nQ 550 1309 550 2009 \nQ 550 2706 781 3412 \nQ 1013 4119 1484 4856 \nL 1984 4856 \nz\n\" transform=\"scale(0.015625)\"/>\n       <path id=\"DejaVuSans-6d\" d=\"M 3328 2828 \nQ 3544 3216 3844 3400 \nQ 4144 3584 4550 3584 \nQ 5097 3584 5394 3201 \nQ 5691 2819 5691 2113 \nL 5691 0 \nL 5113 0 \nL 5113 2094 \nQ 5113 2597 4934 2840 \nQ 4756 3084 4391 3084 \nQ 3944 3084 3684 2787 \nQ 3425 2491 3425 1978 \nL 3425 0 \nL 2847 0 \nL 2847 2094 \nQ 2847 2600 2669 2842 \nQ 2491 3084 2119 3084 \nQ 1678 3084 1418 2786 \nQ 1159 2488 1159 1978 \nL 1159 0 \nL 581 0 \nL 581 3500 \nL 1159 3500 \nL 1159 2956 \nQ 1356 3278 1631 3431 \nQ 1906 3584 2284 3584 \nQ 2666 3584 2933 3390 \nQ 3200 3197 3328 2828 \nz\n\" transform=\"scale(0.015625)\"/>\n       <path id=\"DejaVuSans-29\" d=\"M 513 4856 \nL 1013 4856 \nQ 1481 4119 1714 3412 \nQ 1947 2706 1947 2009 \nQ 1947 1309 1714 600 \nQ 1481 -109 1013 -844 \nL 513 -844 \nQ 928 -128 1133 580 \nQ 1338 1288 1338 2009 \nQ 1338 2731 1133 3434 \nQ 928 4138 513 4856 \nz\n\" transform=\"scale(0.015625)\"/>\n      </defs>\n      <use xlink:href=\"#DejaVuSans-6f\"/>\n      <use xlink:href=\"#DejaVuSans-70\" x=\"61.181641\"/>\n      <use xlink:href=\"#DejaVuSans-74\" x=\"124.658203\"/>\n      <use xlink:href=\"#DejaVuSans-69\" x=\"163.867188\"/>\n      <use xlink:href=\"#DejaVuSans-63\" x=\"191.650391\"/>\n      <use xlink:href=\"#DejaVuSans-61\" x=\"246.630859\"/>\n      <use xlink:href=\"#DejaVuSans-6c\" x=\"307.910156\"/>\n      <use xlink:href=\"#DejaVuSans-20\" x=\"335.693359\"/>\n      <use xlink:href=\"#DejaVuSans-70\" x=\"367.480469\"/>\n      <use xlink:href=\"#DejaVuSans-61\" x=\"430.957031\"/>\n      <use xlink:href=\"#DejaVuSans-74\" x=\"492.236328\"/>\n      <use xlink:href=\"#DejaVuSans-68\" x=\"531.445312\"/>\n      <use xlink:href=\"#DejaVuSans-20\" x=\"594.824219\"/>\n      <use xlink:href=\"#DejaVuSans-6c\" x=\"626.611328\"/>\n      <use xlink:href=\"#DejaVuSans-65\" x=\"654.394531\"/>\n      <use xlink:href=\"#DejaVuSans-6e\" x=\"715.917969\"/>\n      <use xlink:href=\"#DejaVuSans-67\" x=\"779.296875\"/>\n      <use xlink:href=\"#DejaVuSans-74\" x=\"842.773438\"/>\n      <use xlink:href=\"#DejaVuSans-68\" x=\"881.982422\"/>\n      <use xlink:href=\"#DejaVuSans-20\" x=\"945.361328\"/>\n      <use xlink:href=\"#DejaVuSans-28\" x=\"977.148438\"/>\n      <use xlink:href=\"#DejaVuSans-69\" x=\"1016.162109\"/>\n      <use xlink:href=\"#DejaVuSans-6e\" x=\"1043.945312\"/>\n      <use xlink:href=\"#DejaVuSans-20\" x=\"1107.324219\"/>\n      <use xlink:href=\"#DejaVuSans-63\" x=\"1139.111328\"/>\n      <use xlink:href=\"#DejaVuSans-6d\" x=\"1194.091797\"/>\n      <use xlink:href=\"#DejaVuSans-29\" x=\"1291.503906\"/>\n     </g>\n    </g>\n   </g>\n   <g id=\"matplotlib.axis_2\">\n    <g id=\"ytick_1\">\n     <g id=\"line2d_11\">\n      <path d=\"M 37.103125 209.808847 \nL 539.303125 209.808847 \n\" clip-path=\"url(#p0c500f69d9)\" style=\"fill: none; stroke-dasharray: 1.85,0.8; stroke-dashoffset: 0; stroke: #b2b2b2; stroke-width: 0.5\"/>\n     </g>\n     <g id=\"line2d_12\">\n      <defs>\n       <path id=\"m10f3430ee2\" d=\"M 0 0 \nL 3.5 0 \n\" style=\"stroke: #000000; stroke-width: 0.8\"/>\n      </defs>\n      <g>\n       <use xlink:href=\"#m10f3430ee2\" x=\"37.103125\" y=\"209.808847\" style=\"stroke: #000000; stroke-width: 0.8\"/>\n      </g>\n     </g>\n     <g id=\"text_7\">\n      <!-- 4 -->\n      <g transform=\"translate(27.240625 213.608066) scale(0.1 -0.1)\">\n       <defs>\n        <path id=\"DejaVuSans-34\" d=\"M 2419 4116 \nL 825 1625 \nL 2419 1625 \nL 2419 4116 \nz\nM 2253 4666 \nL 3047 4666 \nL 3047 1625 \nL 3713 1625 \nL 3713 1100 \nL 3047 1100 \nL 3047 0 \nL 2419 0 \nL 2419 1100 \nL 313 1100 \nL 313 1709 \nL 2253 4666 \nz\n\" transform=\"scale(0.015625)\"/>\n       </defs>\n       <use xlink:href=\"#DejaVuSans-34\"/>\n      </g>\n     </g>\n    </g>\n    <g id=\"ytick_2\">\n     <g id=\"line2d_13\">\n      <path d=\"M 37.103125 166.454008 \nL 539.303125 166.454008 \n\" clip-path=\"url(#p0c500f69d9)\" style=\"fill: none; stroke-dasharray: 1.85,0.8; stroke-dashoffset: 0; stroke: #b2b2b2; stroke-width: 0.5\"/>\n     </g>\n     <g id=\"line2d_14\">\n      <g>\n       <use xlink:href=\"#m10f3430ee2\" x=\"37.103125\" y=\"166.454008\" style=\"stroke: #000000; stroke-width: 0.8\"/>\n      </g>\n     </g>\n     <g id=\"text_8\">\n      <!-- 6 -->\n      <g transform=\"translate(27.240625 170.253227) scale(0.1 -0.1)\">\n       <defs>\n        <path id=\"DejaVuSans-36\" d=\"M 2113 2584 \nQ 1688 2584 1439 2293 \nQ 1191 2003 1191 1497 \nQ 1191 994 1439 701 \nQ 1688 409 2113 409 \nQ 2538 409 2786 701 \nQ 3034 994 3034 1497 \nQ 3034 2003 2786 2293 \nQ 2538 2584 2113 2584 \nz\nM 3366 4563 \nL 3366 3988 \nQ 3128 4100 2886 4159 \nQ 2644 4219 2406 4219 \nQ 1781 4219 1451 3797 \nQ 1122 3375 1075 2522 \nQ 1259 2794 1537 2939 \nQ 1816 3084 2150 3084 \nQ 2853 3084 3261 2657 \nQ 3669 2231 3669 1497 \nQ 3669 778 3244 343 \nQ 2819 -91 2113 -91 \nQ 1303 -91 875 529 \nQ 447 1150 447 2328 \nQ 447 3434 972 4092 \nQ 1497 4750 2381 4750 \nQ 2619 4750 2861 4703 \nQ 3103 4656 3366 4563 \nz\n\" transform=\"scale(0.015625)\"/>\n       </defs>\n       <use xlink:href=\"#DejaVuSans-36\"/>\n      </g>\n     </g>\n    </g>\n    <g id=\"ytick_3\">\n     <g id=\"line2d_15\">\n      <path d=\"M 37.103125 123.099169 \nL 539.303125 123.099169 \n\" clip-path=\"url(#p0c500f69d9)\" style=\"fill: none; stroke-dasharray: 1.85,0.8; stroke-dashoffset: 0; stroke: #b2b2b2; stroke-width: 0.5\"/>\n     </g>\n     <g id=\"line2d_16\">\n      <g>\n       <use xlink:href=\"#m10f3430ee2\" x=\"37.103125\" y=\"123.099169\" style=\"stroke: #000000; stroke-width: 0.8\"/>\n      </g>\n     </g>\n     <g id=\"text_9\">\n      <!-- 8 -->\n      <g transform=\"translate(27.240625 126.898388) scale(0.1 -0.1)\">\n       <defs>\n        <path id=\"DejaVuSans-38\" d=\"M 2034 2216 \nQ 1584 2216 1326 1975 \nQ 1069 1734 1069 1313 \nQ 1069 891 1326 650 \nQ 1584 409 2034 409 \nQ 2484 409 2743 651 \nQ 3003 894 3003 1313 \nQ 3003 1734 2745 1975 \nQ 2488 2216 2034 2216 \nz\nM 1403 2484 \nQ 997 2584 770 2862 \nQ 544 3141 544 3541 \nQ 544 4100 942 4425 \nQ 1341 4750 2034 4750 \nQ 2731 4750 3128 4425 \nQ 3525 4100 3525 3541 \nQ 3525 3141 3298 2862 \nQ 3072 2584 2669 2484 \nQ 3125 2378 3379 2068 \nQ 3634 1759 3634 1313 \nQ 3634 634 3220 271 \nQ 2806 -91 2034 -91 \nQ 1263 -91 848 271 \nQ 434 634 434 1313 \nQ 434 1759 690 2068 \nQ 947 2378 1403 2484 \nz\nM 1172 3481 \nQ 1172 3119 1398 2916 \nQ 1625 2713 2034 2713 \nQ 2441 2713 2670 2916 \nQ 2900 3119 2900 3481 \nQ 2900 3844 2670 4047 \nQ 2441 4250 2034 4250 \nQ 1625 4250 1398 4047 \nQ 1172 3844 1172 3481 \nz\n\" transform=\"scale(0.015625)\"/>\n       </defs>\n       <use xlink:href=\"#DejaVuSans-38\"/>\n      </g>\n     </g>\n    </g>\n    <g id=\"ytick_4\">\n     <g id=\"line2d_17\">\n      <path d=\"M 37.103125 79.744331 \nL 539.303125 79.744331 \n\" clip-path=\"url(#p0c500f69d9)\" style=\"fill: none; stroke-dasharray: 1.85,0.8; stroke-dashoffset: 0; stroke: #b2b2b2; stroke-width: 0.5\"/>\n     </g>\n     <g id=\"line2d_18\">\n      <g>\n       <use xlink:href=\"#m10f3430ee2\" x=\"37.103125\" y=\"79.744331\" style=\"stroke: #000000; stroke-width: 0.8\"/>\n      </g>\n     </g>\n     <g id=\"text_10\">\n      <!-- 10 -->\n      <g transform=\"translate(20.878125 83.543549) scale(0.1 -0.1)\">\n       <use xlink:href=\"#DejaVuSans-31\"/>\n       <use xlink:href=\"#DejaVuSans-30\" x=\"63.623047\"/>\n      </g>\n     </g>\n    </g>\n    <g id=\"ytick_5\">\n     <g id=\"line2d_19\">\n      <path d=\"M 37.103125 36.389492 \nL 539.303125 36.389492 \n\" clip-path=\"url(#p0c500f69d9)\" style=\"fill: none; stroke-dasharray: 1.85,0.8; stroke-dashoffset: 0; stroke: #b2b2b2; stroke-width: 0.5\"/>\n     </g>\n     <g id=\"line2d_20\">\n      <g>\n       <use xlink:href=\"#m10f3430ee2\" x=\"37.103125\" y=\"36.389492\" style=\"stroke: #000000; stroke-width: 0.8\"/>\n      </g>\n     </g>\n     <g id=\"text_11\">\n      <!-- 12 -->\n      <g transform=\"translate(20.878125 40.188711) scale(0.1 -0.1)\">\n       <use xlink:href=\"#DejaVuSans-31\"/>\n       <use xlink:href=\"#DejaVuSans-32\" x=\"63.623047\"/>\n      </g>\n     </g>\n    </g>\n    <g id=\"text_12\">\n     <!-- time delay (in ns) -->\n     <g transform=\"translate(14.798438 178.981125) rotate(-90) scale(0.1 -0.1)\">\n      <defs>\n       <path id=\"DejaVuSans-64\" d=\"M 2906 2969 \nL 2906 4863 \nL 3481 4863 \nL 3481 0 \nL 2906 0 \nL 2906 525 \nQ 2725 213 2448 61 \nQ 2172 -91 1784 -91 \nQ 1150 -91 751 415 \nQ 353 922 353 1747 \nQ 353 2572 751 3078 \nQ 1150 3584 1784 3584 \nQ 2172 3584 2448 3432 \nQ 2725 3281 2906 2969 \nz\nM 947 1747 \nQ 947 1113 1208 752 \nQ 1469 391 1925 391 \nQ 2381 391 2643 752 \nQ 2906 1113 2906 1747 \nQ 2906 2381 2643 2742 \nQ 2381 3103 1925 3103 \nQ 1469 3103 1208 2742 \nQ 947 2381 947 1747 \nz\n\" transform=\"scale(0.015625)\"/>\n       <path id=\"DejaVuSans-79\" d=\"M 2059 -325 \nQ 1816 -950 1584 -1140 \nQ 1353 -1331 966 -1331 \nL 506 -1331 \nL 506 -850 \nL 844 -850 \nQ 1081 -850 1212 -737 \nQ 1344 -625 1503 -206 \nL 1606 56 \nL 191 3500 \nL 800 3500 \nL 1894 763 \nL 2988 3500 \nL 3597 3500 \nL 2059 -325 \nz\n\" transform=\"scale(0.015625)\"/>\n       <path id=\"DejaVuSans-73\" d=\"M 2834 3397 \nL 2834 2853 \nQ 2591 2978 2328 3040 \nQ 2066 3103 1784 3103 \nQ 1356 3103 1142 2972 \nQ 928 2841 928 2578 \nQ 928 2378 1081 2264 \nQ 1234 2150 1697 2047 \nL 1894 2003 \nQ 2506 1872 2764 1633 \nQ 3022 1394 3022 966 \nQ 3022 478 2636 193 \nQ 2250 -91 1575 -91 \nQ 1294 -91 989 -36 \nQ 684 19 347 128 \nL 347 722 \nQ 666 556 975 473 \nQ 1284 391 1588 391 \nQ 1994 391 2212 530 \nQ 2431 669 2431 922 \nQ 2431 1156 2273 1281 \nQ 2116 1406 1581 1522 \nL 1381 1569 \nQ 847 1681 609 1914 \nQ 372 2147 372 2553 \nQ 372 3047 722 3315 \nQ 1072 3584 1716 3584 \nQ 2034 3584 2315 3537 \nQ 2597 3491 2834 3397 \nz\n\" transform=\"scale(0.015625)\"/>\n      </defs>\n      <use xlink:href=\"#DejaVuSans-74\"/>\n      <use xlink:href=\"#DejaVuSans-69\" x=\"39.208984\"/>\n      <use xlink:href=\"#DejaVuSans-6d\" x=\"66.992188\"/>\n      <use xlink:href=\"#DejaVuSans-65\" x=\"164.404297\"/>\n      <use xlink:href=\"#DejaVuSans-20\" x=\"225.927734\"/>\n      <use xlink:href=\"#DejaVuSans-64\" x=\"257.714844\"/>\n      <use xlink:href=\"#DejaVuSans-65\" x=\"321.191406\"/>\n      <use xlink:href=\"#DejaVuSans-6c\" x=\"382.714844\"/>\n      <use xlink:href=\"#DejaVuSans-61\" x=\"410.498047\"/>\n      <use xlink:href=\"#DejaVuSans-79\" x=\"471.777344\"/>\n      <use xlink:href=\"#DejaVuSans-20\" x=\"530.957031\"/>\n      <use xlink:href=\"#DejaVuSans-28\" x=\"562.744141\"/>\n      <use xlink:href=\"#DejaVuSans-69\" x=\"601.757812\"/>\n      <use xlink:href=\"#DejaVuSans-6e\" x=\"629.541016\"/>\n      <use xlink:href=\"#DejaVuSans-20\" x=\"692.919922\"/>\n      <use xlink:href=\"#DejaVuSans-6e\" x=\"724.707031\"/>\n      <use xlink:href=\"#DejaVuSans-73\" x=\"788.085938\"/>\n      <use xlink:href=\"#DejaVuSans-29\" x=\"840.185547\"/>\n     </g>\n    </g>\n   </g>\n   <g id=\"LineCollection_1\">\n    <path d=\"M 59.930398 224.98304 \nL 64.04342 224.98304 \n\" clip-path=\"url(#p0c500f69d9)\" style=\"fill: none; stroke: #000000\"/>\n    <path d=\"M 101.060619 211.976589 \nL 105.173641 211.976589 \n\" clip-path=\"url(#p0c500f69d9)\" style=\"fill: none; stroke: #000000\"/>\n    <path d=\"M 142.19084 194.634653 \nL 146.303862 194.634653 \n\" clip-path=\"url(#p0c500f69d9)\" style=\"fill: none; stroke: #000000\"/>\n    <path d=\"M 183.321061 185.963685 \nL 187.434083 185.963685 \n\" clip-path=\"url(#p0c500f69d9)\" style=\"fill: none; stroke: #000000\"/>\n    <path d=\"M 224.451282 166.454008 \nL 228.564304 166.454008 \n\" clip-path=\"url(#p0c500f69d9)\" style=\"fill: none; stroke: #000000\"/>\n    <path d=\"M 265.581503 155.615298 \nL 269.694525 155.615298 \n\" clip-path=\"url(#p0c500f69d9)\" style=\"fill: none; stroke: #000000\"/>\n    <path d=\"M 306.711725 140.441105 \nL 310.824747 140.441105 \n\" clip-path=\"url(#p0c500f69d9)\" style=\"fill: none; stroke: #000000\"/>\n    <path d=\"M 347.841946 127.434653 \nL 351.954968 127.434653 \n\" clip-path=\"url(#p0c500f69d9)\" style=\"fill: none; stroke: #000000\"/>\n    <path d=\"M 388.972167 110.092718 \nL 393.085189 110.092718 \n\" clip-path=\"url(#p0c500f69d9)\" style=\"fill: none; stroke: #000000\"/>\n    <path d=\"M 430.102388 99.254008 \nL 434.21541 99.254008 \n\" clip-path=\"url(#p0c500f69d9)\" style=\"fill: none; stroke: #000000\"/>\n    <path d=\"M 471.232609 79.744331 \nL 475.345631 79.744331 \n\" clip-path=\"url(#p0c500f69d9)\" style=\"fill: none; stroke: #000000\"/>\n    <path d=\"M 512.36283 45.06046 \nL 516.475852 45.06046 \n\" clip-path=\"url(#p0c500f69d9)\" style=\"fill: none; stroke: #000000\"/>\n   </g>\n   <g id=\"LineCollection_2\">\n    <path d=\"M 61.986909 235.82175 \nL 61.986909 214.144331 \n\" clip-path=\"url(#p0c500f69d9)\" style=\"fill: none; stroke: #000000\"/>\n    <path d=\"M 103.11713 222.815298 \nL 103.11713 201.137879 \n\" clip-path=\"url(#p0c500f69d9)\" style=\"fill: none; stroke: #000000\"/>\n    <path d=\"M 144.247351 205.473363 \nL 144.247351 183.795944 \n\" clip-path=\"url(#p0c500f69d9)\" style=\"fill: none; stroke: #000000\"/>\n    <path d=\"M 185.377572 196.802395 \nL 185.377572 175.124976 \n\" clip-path=\"url(#p0c500f69d9)\" style=\"fill: none; stroke: #000000\"/>\n    <path d=\"M 226.507793 177.292718 \nL 226.507793 155.615298 \n\" clip-path=\"url(#p0c500f69d9)\" style=\"fill: none; stroke: #000000\"/>\n    <path d=\"M 267.638014 166.454008 \nL 267.638014 144.776589 \n\" clip-path=\"url(#p0c500f69d9)\" style=\"fill: none; stroke: #000000\"/>\n    <path d=\"M 308.768236 151.279815 \nL 308.768236 129.602395 \n\" clip-path=\"url(#p0c500f69d9)\" style=\"fill: none; stroke: #000000\"/>\n    <path d=\"M 349.898457 138.273363 \nL 349.898457 116.595944 \n\" clip-path=\"url(#p0c500f69d9)\" style=\"fill: none; stroke: #000000\"/>\n    <path d=\"M 391.028678 120.931427 \nL 391.028678 99.254008 \n\" clip-path=\"url(#p0c500f69d9)\" style=\"fill: none; stroke: #000000\"/>\n    <path d=\"M 432.158899 110.092718 \nL 432.158899 88.415298 \n\" clip-path=\"url(#p0c500f69d9)\" style=\"fill: none; stroke: #000000\"/>\n    <path d=\"M 473.28912 90.58304 \nL 473.28912 68.905621 \n\" clip-path=\"url(#p0c500f69d9)\" style=\"fill: none; stroke: #000000\"/>\n    <path d=\"M 514.419341 55.899169 \nL 514.419341 34.22175 \n\" clip-path=\"url(#p0c500f69d9)\" style=\"fill: none; stroke: #000000\"/>\n   </g>\n   <g id=\"line2d_21\">\n    <path d=\"M 61.986909 228.762693 \nL 103.11713 213.558181 \nL 144.247351 198.35367 \nL 185.377572 183.149158 \nL 226.507793 167.944646 \nL 267.638014 152.740135 \nL 308.768236 137.535623 \nL 349.898457 122.331112 \nL 391.028678 107.1266 \nL 432.158899 91.922088 \nL 473.28912 76.717577 \nL 514.419341 61.513065 \n\" clip-path=\"url(#p0c500f69d9)\" style=\"fill: none; stroke: #348abd; stroke-width: 2; stroke-linecap: square\"/>\n   </g>\n   <g id=\"line2d_22\">\n    <defs>\n     <path id=\"m1c4402926b\" d=\"M 0 1.5 \nC 0.397805 1.5 0.77937 1.341951 1.06066 1.06066 \nC 1.341951 0.77937 1.5 0.397805 1.5 0 \nC 1.5 -0.397805 1.341951 -0.77937 1.06066 -1.06066 \nC 0.77937 -1.341951 0.397805 -1.5 0 -1.5 \nC -0.397805 -1.5 -0.77937 -1.341951 -1.06066 -1.06066 \nC -1.341951 -0.77937 -1.5 -0.397805 -1.5 0 \nC -1.5 0.397805 -1.341951 0.77937 -1.06066 1.06066 \nC -0.77937 1.341951 -0.397805 1.5 0 1.5 \nz\n\" style=\"stroke: #000000\"/>\n    </defs>\n    <g clip-path=\"url(#p0c500f69d9)\">\n     <use xlink:href=\"#m1c4402926b\" x=\"61.986909\" y=\"224.98304\" style=\"stroke: #000000\"/>\n     <use xlink:href=\"#m1c4402926b\" x=\"103.11713\" y=\"211.976589\" style=\"stroke: #000000\"/>\n     <use xlink:href=\"#m1c4402926b\" x=\"144.247351\" y=\"194.634653\" style=\"stroke: #000000\"/>\n     <use xlink:href=\"#m1c4402926b\" x=\"185.377572\" y=\"185.963685\" style=\"stroke: #000000\"/>\n     <use xlink:href=\"#m1c4402926b\" x=\"226.507793\" y=\"166.454008\" style=\"stroke: #000000\"/>\n     <use xlink:href=\"#m1c4402926b\" x=\"267.638014\" y=\"155.615298\" style=\"stroke: #000000\"/>\n     <use xlink:href=\"#m1c4402926b\" x=\"308.768236\" y=\"140.441105\" style=\"stroke: #000000\"/>\n     <use xlink:href=\"#m1c4402926b\" x=\"349.898457\" y=\"127.434653\" style=\"stroke: #000000\"/>\n     <use xlink:href=\"#m1c4402926b\" x=\"391.028678\" y=\"110.092718\" style=\"stroke: #000000\"/>\n     <use xlink:href=\"#m1c4402926b\" x=\"432.158899\" y=\"99.254008\" style=\"stroke: #000000\"/>\n     <use xlink:href=\"#m1c4402926b\" x=\"473.28912\" y=\"79.744331\" style=\"stroke: #000000\"/>\n     <use xlink:href=\"#m1c4402926b\" x=\"514.419341\" y=\"45.06046\" style=\"stroke: #000000\"/>\n    </g>\n   </g>\n   <g id=\"patch_3\">\n    <path d=\"M 37.103125 245.90175 \nL 37.103125 24.14175 \n\" style=\"fill: none; stroke: #bcbcbc; stroke-width: 0.8; stroke-linejoin: miter; stroke-linecap: square\"/>\n   </g>\n   <g id=\"patch_4\">\n    <path d=\"M 539.303125 245.90175 \nL 539.303125 24.14175 \n\" style=\"fill: none; stroke: #bcbcbc; stroke-width: 0.8; stroke-linejoin: miter; stroke-linecap: square\"/>\n   </g>\n   <g id=\"patch_5\">\n    <path d=\"M 37.103125 245.90175 \nL 539.303125 245.90175 \n\" style=\"fill: none; stroke: #bcbcbc; stroke-width: 0.8; stroke-linejoin: miter; stroke-linecap: square\"/>\n   </g>\n   <g id=\"patch_6\">\n    <path d=\"M 37.103125 24.14175 \nL 539.303125 24.14175 \n\" style=\"fill: none; stroke: #bcbcbc; stroke-width: 0.8; stroke-linejoin: miter; stroke-linecap: square\"/>\n   </g>\n   <g id=\"text_13\">\n    <!-- Interferometry speed of light measurements -->\n    <g transform=\"translate(127.867 18.14175) scale(0.144 -0.144)\">\n     <defs>\n      <path id=\"DejaVuSans-49\" d=\"M 628 4666 \nL 1259 4666 \nL 1259 0 \nL 628 0 \nL 628 4666 \nz\n\" transform=\"scale(0.015625)\"/>\n      <path id=\"DejaVuSans-72\" d=\"M 2631 2963 \nQ 2534 3019 2420 3045 \nQ 2306 3072 2169 3072 \nQ 1681 3072 1420 2755 \nQ 1159 2438 1159 1844 \nL 1159 0 \nL 581 0 \nL 581 3500 \nL 1159 3500 \nL 1159 2956 \nQ 1341 3275 1631 3429 \nQ 1922 3584 2338 3584 \nQ 2397 3584 2469 3576 \nQ 2541 3569 2628 3553 \nL 2631 2963 \nz\n\" transform=\"scale(0.015625)\"/>\n      <path id=\"DejaVuSans-66\" d=\"M 2375 4863 \nL 2375 4384 \nL 1825 4384 \nQ 1516 4384 1395 4259 \nQ 1275 4134 1275 3809 \nL 1275 3500 \nL 2222 3500 \nL 2222 3053 \nL 1275 3053 \nL 1275 0 \nL 697 0 \nL 697 3053 \nL 147 3053 \nL 147 3500 \nL 697 3500 \nL 697 3744 \nQ 697 4328 969 4595 \nQ 1241 4863 1831 4863 \nL 2375 4863 \nz\n\" transform=\"scale(0.015625)\"/>\n      <path id=\"DejaVuSans-75\" d=\"M 544 1381 \nL 544 3500 \nL 1119 3500 \nL 1119 1403 \nQ 1119 906 1312 657 \nQ 1506 409 1894 409 \nQ 2359 409 2629 706 \nQ 2900 1003 2900 1516 \nL 2900 3500 \nL 3475 3500 \nL 3475 0 \nL 2900 0 \nL 2900 538 \nQ 2691 219 2414 64 \nQ 2138 -91 1772 -91 \nQ 1169 -91 856 284 \nQ 544 659 544 1381 \nz\nM 1991 3584 \nL 1991 3584 \nz\n\" transform=\"scale(0.015625)\"/>\n     </defs>\n     <use xlink:href=\"#DejaVuSans-49\"/>\n     <use xlink:href=\"#DejaVuSans-6e\" x=\"29.492188\"/>\n     <use xlink:href=\"#DejaVuSans-74\" x=\"92.871094\"/>\n     <use xlink:href=\"#DejaVuSans-65\" x=\"132.080078\"/>\n     <use xlink:href=\"#DejaVuSans-72\" x=\"193.603516\"/>\n     <use xlink:href=\"#DejaVuSans-66\" x=\"234.716797\"/>\n     <use xlink:href=\"#DejaVuSans-65\" x=\"269.921875\"/>\n     <use xlink:href=\"#DejaVuSans-72\" x=\"331.445312\"/>\n     <use xlink:href=\"#DejaVuSans-6f\" x=\"370.308594\"/>\n     <use xlink:href=\"#DejaVuSans-6d\" x=\"431.490234\"/>\n     <use xlink:href=\"#DejaVuSans-65\" x=\"528.902344\"/>\n     <use xlink:href=\"#DejaVuSans-74\" x=\"590.425781\"/>\n     <use xlink:href=\"#DejaVuSans-72\" x=\"629.634766\"/>\n     <use xlink:href=\"#DejaVuSans-79\" x=\"670.748047\"/>\n     <use xlink:href=\"#DejaVuSans-20\" x=\"729.927734\"/>\n     <use xlink:href=\"#DejaVuSans-73\" x=\"761.714844\"/>\n     <use xlink:href=\"#DejaVuSans-70\" x=\"813.814453\"/>\n     <use xlink:href=\"#DejaVuSans-65\" x=\"877.291016\"/>\n     <use xlink:href=\"#DejaVuSans-65\" x=\"938.814453\"/>\n     <use xlink:href=\"#DejaVuSans-64\" x=\"1000.337891\"/>\n     <use xlink:href=\"#DejaVuSans-20\" x=\"1063.814453\"/>\n     <use xlink:href=\"#DejaVuSans-6f\" x=\"1095.601562\"/>\n     <use xlink:href=\"#DejaVuSans-66\" x=\"1156.783203\"/>\n     <use xlink:href=\"#DejaVuSans-20\" x=\"1191.988281\"/>\n     <use xlink:href=\"#DejaVuSans-6c\" x=\"1223.775391\"/>\n     <use xlink:href=\"#DejaVuSans-69\" x=\"1251.558594\"/>\n     <use xlink:href=\"#DejaVuSans-67\" x=\"1279.341797\"/>\n     <use xlink:href=\"#DejaVuSans-68\" x=\"1342.818359\"/>\n     <use xlink:href=\"#DejaVuSans-74\" x=\"1406.197266\"/>\n     <use xlink:href=\"#DejaVuSans-20\" x=\"1445.40625\"/>\n     <use xlink:href=\"#DejaVuSans-6d\" x=\"1477.193359\"/>\n     <use xlink:href=\"#DejaVuSans-65\" x=\"1574.605469\"/>\n     <use xlink:href=\"#DejaVuSans-61\" x=\"1636.128906\"/>\n     <use xlink:href=\"#DejaVuSans-73\" x=\"1697.408203\"/>\n     <use xlink:href=\"#DejaVuSans-75\" x=\"1749.507812\"/>\n     <use xlink:href=\"#DejaVuSans-72\" x=\"1812.886719\"/>\n     <use xlink:href=\"#DejaVuSans-65\" x=\"1851.75\"/>\n     <use xlink:href=\"#DejaVuSans-6d\" x=\"1913.273438\"/>\n     <use xlink:href=\"#DejaVuSans-65\" x=\"2010.685547\"/>\n     <use xlink:href=\"#DejaVuSans-6e\" x=\"2072.208984\"/>\n     <use xlink:href=\"#DejaVuSans-74\" x=\"2135.587891\"/>\n     <use xlink:href=\"#DejaVuSans-73\" x=\"2174.796875\"/>\n    </g>\n   </g>\n  </g>\n </g>\n <defs>\n  <clipPath id=\"p0c500f69d9\">\n   <rect x=\"37.103125\" y=\"24.14175\" width=\"502.2\" height=\"221.76\"/>\n  </clipPath>\n </defs>\n</svg>\n",
      "text/plain": [
       "<Figure size 900x400 with 1 Axes>"
      ]
     },
     "metadata": {},
     "output_type": "display_data"
    }
   ],
   "source": [
    "plt.figure(figsize=(9, 4))\n",
    "plt.errorbar(path_length, time_delay, yerr=0.5, xerr=1, fmt='.k', elinewidth=1)\n",
    "plt.xlabel('optical path length (in cm)')\n",
    "plt.ylabel('time delay (in ns)')\n",
    "plt.title(\"Interferometry speed of light measurements\")\n",
    "plt.plot(path_length, a*path_length+b)\n",
    "plt.show()"
   ]
  },
  {
   "attachments": {},
   "cell_type": "markdown",
   "metadata": {},
   "source": [
    "From this graph, we can measure the gradient to get the speed of light, along with it's uncertainty.\n",
    "We obtain 0.03507 ns $cm^{-1}$ for the gradient, and 0.00126 ns $cm^{-1}$ for the uncertainty. If we convert these to SI units we have 3.507 s $m^{-1}$ and 0.126 s $m^{-1}$. Since the speed of light is one over the gradient, our final result for the speed of light becomes\n",
    "\n",
    "(2.851 ± 0.102) x $10^{8}$ m $s^{-1}$\n",
    "\n",
    "or for comparison\n",
    "\n",
    "285100 ± 10200  km $s^{-1}$\n",
    "\n",
    "The error was calculated using the standard formula \n",
    "\n",
    "|$α_{c}$| = c|$α_{m}$/m|\n",
    "\n",
    "where m represents the gradient and $α_{m}$ represents the error in the gradient."
   ]
  },
  {
   "attachments": {},
   "cell_type": "markdown",
   "metadata": {},
   "source": [
    "Clearly, this method is by no means perfect, as evidenced by the result. Not only is todays accepted value outside of this range, but the uncertainty itself is very large compared to the Michelson experiment. The main cause of this is the lack of measurements, only 12 readings has dramatically increased this error. A much more precise interferometry experiment was performed in 1972 by the National Bureau of Standards, obtaining a fractional uncertainty of 3.5 x $10^{-9}$ (see https://journals.aps.org/prl/pdf/10.1103/PhysRevLett.29.1346)."
   ]
  },
  {
   "attachments": {},
   "cell_type": "markdown",
   "metadata": {},
   "source": [
    "#### Other methods "
   ]
  },
  {
   "attachments": {},
   "cell_type": "markdown",
   "metadata": {},
   "source": [
    "There are of course, other methods used in the past to measure the speed of light, for example the first recorded estimate was made by Ole Christensen Romer in 1676, who used the change in orbital period of Jupiter’s moon Io due to the changing distance between Jupiter and the Earth. When the Earth is approaching Jupiter, the period is shorter, and when receeding, longer. Thus the speed of light can be estimated as the change in period also depends on the time taken for light to reach the Earth."
   ]
  },
  {
   "attachments": {},
   "cell_type": "markdown",
   "metadata": {},
   "source": [
    "![](../media/pins3.png)"
   ]
  },
  {
   "attachments": {},
   "cell_type": "markdown",
   "metadata": {},
   "source": [
    "In the modern era, the limiting factor in measuring the speed of light became not the uncertainty of experiments, for example in 1972 using laser interferometry, the speed of light was measured as 299792456.2±1.1 m/s. This small remaining uncertainty was caused by the definition of the metre. In order to get around this, the meeting of the General Conference on Weights and Measures (CGPM) redefined the metre as \"the length of the path traveled by light in vacuum during a time interval of 1/299792458 of a second.\" This permanently fixed the speed of light to be exactly 299792458 m/s, so now, further experiments don’t change the definition of the speed of light, but rather the definition of the metre."
   ]
  },
  {
   "attachments": {},
   "cell_type": "markdown",
   "metadata": {},
   "source": [
    "#### References:"
   ]
  },
  {
   "attachments": {},
   "cell_type": "markdown",
   "metadata": {},
   "source": [
    "* I. G. Hughes and T. P. A. Hase, Measurements and their Uncertainties, Oxford University Press, Oxford (2010), pp. 39\n",
    "* Analyzing speed of light measurements [online]\n",
    "https://risk-engineering.org/notebook/data-analysis-speed-light.html\n",
    "* Speed of light [online]\n",
    "https://en.wikipedia.org/wiki/Speed_of_light#Measurement\n",
    "* Master Michelson's measurement [online]\n",
    "https://physicstoday.scitation.org/doi/10.1063/1.2774115\n",
    "* Speed of Light from Direct Frequency and Wavelength Measurements\n",
    "of the Methane-Stabilized Laser [online]\n",
    "https://journals.aps.org/prl/pdf/10.1103/PhysRevLett.29.1346\n",
    "* A Gentle Introduction to the Bootstrap Method [online]\n",
    "https://machinelearningmastery.com/a-gentle-introduction-to-the-bootstrap-method/\n",
    "* Michelson's Velocity of Light Data [online]\n",
    "https://www.randomservices.org/random/data/Michelson.html\n",
    "* R. J. MacKay and R. W. Oldford, *Scientific Method, Statistical Method and the Speed of Light*, Statistical Science, 2000, 15:3, pp. 254–278\n",
    "* S. Prokhovnik and W. Morris, *A review of speed of light measurements since 1676*, CEN Tech. J. 1993, 7:2, pp. 181–183"
   ]
  },
  {
   "attachments": {},
   "cell_type": "markdown",
   "metadata": {},
   "source": [
    "If you wish to get an overview of the remaining topics in this course, click the button below.\n",
    "\n",
    "[![Back to main website](../media/back4.png)](https://physdata.vercel.app/)"
   ]
  }
 ],
 "metadata": {
  "anaconda-cloud": {},
  "kernelspec": {
   "display_name": "deeplr",
   "language": "python",
   "name": "python3"
  },
  "language_info": {
   "codemirror_mode": {
    "name": "ipython",
    "version": 3
   },
   "file_extension": ".py",
   "mimetype": "text/x-python",
   "name": "python",
   "nbconvert_exporter": "python",
   "pygments_lexer": "ipython3",
   "version": "3.8.13"
  },
  "vscode": {
   "interpreter": {
    "hash": "9e7cdc26c5a212bb4dc4cdbab80bf6df3ceb87a47e86b5b5f59b21563684544d"
   }
  }
 },
 "nbformat": 4,
 "nbformat_minor": 1
}
