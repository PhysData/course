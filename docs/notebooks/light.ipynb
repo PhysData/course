{
 "cells": [
  {
   "cell_type": "markdown",
   "metadata": {},
   "source": [
    "# Using Data Analysis to Interpret Speed of Light Measurements\n",
    "\n",
    "[![Open in Colab](https://colab.research.google.com/assets/colab-badge.svg)](https://colab.research.google.com/github/PhysData/course/blob/main/docs/notebooks/light.ipynb)\n",
    "\n",
    "If you're running this in Colab, make sure to save a copy of the notebook in Google Drive to save your changes."
   ]
  },
  {
   "cell_type": "markdown",
   "metadata": {},
   "source": [
    "## Introduction"
   ]
  },
  {
   "cell_type": "markdown",
   "metadata": {},
   "source": [
    "In this notebook, we will investigate some of the ways in which the speed of light has been measured throughout history. The speed of light is an incredibly important value as it is the basis of many fields of physics, for example, Maxwell’s electromagnetism and Einstein’s relativity. We will be considering the speed of light in a vacuum, which is almost exactly the same as the speed of light in air (in air, light is 1.0003 times slower). The two main methods we will consider are Foucault’s method using a simple time-of-flight technique, and a method in which the frequency and the wavelength of light are measured and then used to calculate the speed of light using the equation:\n",
    "\n",
    "$$ c = f \\lambda $$"
   ]
  },
  {
   "cell_type": "code",
   "execution_count": 1,
   "metadata": {},
   "outputs": [],
   "source": [
    "# If you're running this notebook, uncomment the code in this cell to install the required packages.\n",
    "# ! pip install numpy\n",
    "# ! pip install pandas\n",
    "# ! pip install matplotlib"
   ]
  },
  {
   "cell_type": "code",
   "execution_count": 2,
   "metadata": {},
   "outputs": [],
   "source": [
    "import numpy\n",
    "import pandas\n",
    "import matplotlib.pyplot as plt\n",
    "# plt.style.use(\"bmh\")\n",
    "# %config InlineBackend.figure_formats=[\"svg\"]"
   ]
  },
  {
   "cell_type": "markdown",
   "metadata": {},
   "source": [
    "## Method 1: Fizeau-Foucault"
   ]
  },
  {
   "cell_type": "markdown",
   "metadata": {},
   "source": [
    "Perhaps the most obvious way to measure the speed of light is to simply measure the time taken for light to travel a certain distance and then divide the distance travelled by the time to obtain its speed. This is the basis of the Fizeau-Foucault method, which was developed and perfected by Hippolyte Fizeau and Leon Foucault around the late 19th century and the early 20th century. Fizeau's method involved passing the beam through a cogwheel and back off a mirror. If the rate of rotation is high enough, the beam will pass through one gap in the cogwheel on the way there and another on the way back. Once this rotation speed, the distance between the wheel and mirror and the number of teeth on the wheel are known, we can calculate the speed of light.\n",
    "\n",
    "![](../media/pins7.png)\n",
    "\n",
    "Later, Foucault used a rotating mirror instead of a rotating cogwheel, so that by the time the light had hit the fixed mirror and returned back to the rotating one, it had rotated a small angle, which could then be measured by detecting the change in the lights path from where it was initially emitted. Then, knowing the rotation rate of the mirror and the distance the light has travelled, the speed of light can be determined.\n",
    "\n",
    "![](../media/pins_anim0.png)\n",
    "![](../media/pins_anim1.png)\n",
    "![](../media/pins_anim2.png)\n",
    "![](../media/pins_anim3.png)\n",
    "\n",
    "\n",
    "In 1879, Albert Michelson was working as a physics instructor in Annapolis when he was ordered to investigate the speed of light based off of Foucault’s  most recent measurement. He repeated Foucault’s rotating-mirror method, but increased the path length from about 66 feet to 200 feet (roughly 20 metres to 61 metres). He also managed to get his mirror spinning at 256 rotations per second, quite an incredible feat for his time, using a combination of compressed air, tuning forks and more mirrors. There were, of course, plenty of environmental factors to consider such as temperature fluctuations, the refractive index of the atmosphere, etcetra. However, Michelson accounted for all of them.\n",
    "\n",
    "The raw data can be found [here](https://www.randomservices.org/random/data/Michelson.html).\n",
    "\n",
    "Below you can see the results that Michelson recorded in the form of a bar graph. Let's perform some analysis on this data:"
   ]
  },
  {
   "cell_type": "code",
   "execution_count": 3,
   "metadata": {},
   "outputs": [],
   "source": [
    "mich = pandas.read_csv(\"https://risk-engineering.org/static/data/michelson-speed-light.csv\")\n",
    "mich.rename(columns={\"velocity of light in air (km/s)\": \"speed\"}, inplace=True)"
   ]
  },
  {
   "cell_type": "code",
   "execution_count": 4,
   "metadata": {
    "scrolled": true
   },
   "outputs": [
    {
     "data": {
      "image/png": "[encoded data removed]",
      "text/plain": [
       "<Figure size 640x480 with 1 Axes>"
      ]
     },
     "metadata": {},
     "output_type": "display_data"
    }
   ],
   "source": [
    "plt.hist(mich.speed, alpha=0.5)\n",
    "plt.xlabel(\"Measured speed ($10^{5} \\ km \\ s^{-1}$)\")\n",
    "plt.ticklabel_format(style='sci', axis='x', scilimits=(0,0))\n",
    "plt.title(\"Michelson's speed of light measurements\");"
   ]
  },
  {
   "cell_type": "markdown",
   "metadata": {},
   "source": [
    "The mean value from Michelson’s measurements is:"
   ]
  },
  {
   "cell_type": "code",
   "execution_count": 5,
   "metadata": {},
   "outputs": [
    {
     "name": "stdout",
     "output_type": "stream",
     "text": [
      "Mean: 299852.4\n"
     ]
    }
   ],
   "source": [
    "print(\"Mean:\", mich.speed.mean())"
   ]
  },
  {
   "cell_type": "markdown",
   "metadata": {},
   "source": [
    "Since there is clearly some measurement uncertainty, we would like to report a **95% confidence interval** for the measurements. We can do this using bootstrap resampling, as implemented in the function below. \n",
    "\n",
    "Bootstrap resampling is where we make our sample size bigger by randomly copying samples from the original data set into a new data set, until we reach the size we want. The process is quite simple, and follows these steps:\n",
    "\n",
    "1. Choose the size of the sample.\n",
    "2. While the size of the sample is less than the chosen size:\n",
    "3. Randomly select an observation from the dataset.\n",
    "4. Add it to the sample.\n",
    "\n",
    "Then we can estimate the mean and confidence interval of the original dataset as the mean and confidence interval of the new dataset. This procedure is quite useful in statistics, for example, it can be used to estimate the skill of a machine learning model."
   ]
  },
  {
   "cell_type": "code",
   "execution_count": 6,
   "metadata": {},
   "outputs": [],
   "source": [
    "def bootstrap_confidence_intervals(data, estimator, percentiles, runs=1000):\n",
    "    replicates = numpy.empty(runs)\n",
    "    for i in range(runs):\n",
    "        replicates[i] = estimator(numpy.random.choice(data, len(data), replace=True))\n",
    "    est = numpy.mean(replicates)\n",
    "    ci = numpy.percentile(replicates, percentiles)\n",
    "    return (est, ci)"
   ]
  },
  {
   "cell_type": "code",
   "execution_count": 7,
   "metadata": {},
   "outputs": [
    {
     "data": {
      "text/plain": [
       "(15.692000000039116, 16.413000000000466)"
      ]
     },
     "execution_count": 7,
     "metadata": {},
     "output_type": "execute_result"
    }
   ],
   "source": [
    "est, ci = bootstrap_confidence_intervals(mich.speed, estimator=numpy.mean, percentiles=[2.5, 97.5])\n",
    "est\n",
    "ci\n",
    "est - ci[0], ci[1] - est"
   ]
  },
  {
   "cell_type": "markdown",
   "metadata": {},
   "source": [
    "The first value you see is the bootstrapped estimate of the mean, which we can see is almost exactly the same as the original mean. The second and third are the 95% confidence interval displayed in two different ways. Given that the confidence interval is roughly symmetrical, we could report this measurement as:\n",
    "\n",
    "$$ (299853 \\pm 16) \\ km \\ s^{-1} (95\\% \\ CI) $$\n",
    "\n",
    "or\n",
    "\n",
    "$$ (2998523 \\ [299837, 299869]) \\ km \\ s^{-1} \\ (95\\% CI) $$\n",
    "\n",
    "Note that a ± notation without the '(95% CI)' for the margin of error is ambiguous, as is soley an interval, because some scientific communities use one or two standard deviations instead of a confidence interval. \n",
    "\n",
    "After accounting for his uncertainties, Michelson’s final measurement for the speed of light in a vacuum was reported as $299944 \\pm 51 \\ km \\ s^{-1}$. Despite this, he vehemently insisted that his measurement was actually correct to approximately $ \\pm 150 \\ km \\ s^{-1} $, in fact the difference between his result and todays accepted value is $148 \\ km \\ s^{-1}$. Getting this close to today's accepted value with as small an uncertainty as this was very impressive given the technology of the time."
   ]
  },
  {
   "cell_type": "markdown",
   "metadata": {},
   "source": [
    "## Method 2: Interferometry"
   ]
  },
  {
   "cell_type": "markdown",
   "metadata": {},
   "source": [
    "The second method is much more modern, although Michelson himself pioneered one of the key inventions used, the interferometer. Here, we will consider a type of interferometry using modulated light. The intensity of the light is varied with time in a sinusoidal manner, thus if we choose the frequency of the light sensibly, we can obtain a measurable wavelength. If two identical sources are the same distance from a detector, they will arrive in phase. If they are a distance $ \\Delta x $ apart, then the peaks in one intensity measurement will not necessarily coincide with the peaks in the second.  There is also a phase difference between the peaks of the intensity waveforms. The only time they will be in phase is when the distance difference is an integer number of the modulation wavelength of the light. Therefore, if we can use the detector to measure the phase difference, we obtain the wavelength as:\n",
    "\n",
    "$$ \\theta=2\\pi\\frac{\\Delta{x}}{\\lambda_{mod}} $$\n",
    "\n",
    "![](../media/pins1.png)\n",
    "\n",
    "This means that, knowing the modulation frequency, we can work out the speed of light using:\n",
    "\n",
    "$$ c=f_{mod}\\lambda_{mod} $$\n",
    "\n",
    "Put together, the apparatus looks something like this:\n",
    "\n",
    "![](../media/pins2.png)"
   ]
  },
  {
   "cell_type": "markdown",
   "metadata": {},
   "source": [
    "When the laser is turned on, the oscilloscope will display the original waveform and the waveform recieved at the APD module. From this, the time delay in nanoseconds can be measured from the phase difference between these two waves using the x-axis cursors. The data have been recorded for various optical path lengths in centimetres, changed by moving the mirror along the optical rail."
   ]
  },
  {
   "cell_type": "code",
   "execution_count": 8,
   "metadata": {},
   "outputs": [],
   "source": [
    "time_delay = numpy.array([3.3, 3.9, 4.7, 5.1, 6.0, 6.5, 7.2, 7.8, 8.6, 9.1, 10.0, 11.6])\n",
    "path_length = numpy.array([20, 40, 60, 80, 100, 120, 140, 160, 180, 200, 220, 240])\n",
    "a,b = numpy.polyfit(path_length,time_delay,1)"
   ]
  },
  {
   "cell_type": "markdown",
   "metadata": {},
   "source": [
    "Looking at errors, the uncertainty in path length was 0.5 cm, but since the laser travels the length twice, it must be doubled to give **1 cm**. For the time delay, half of the smallest division on the time axis was 0.25 ns, giving an overall uncertainty of **0.5 ns** as the measurement involves measuring the difference between one waveform and the other. Plotting path length against time delay we get the following plot:"
   ]
  },
  {
   "cell_type": "code",
   "execution_count": 9,
   "metadata": {},
   "outputs": [
    {
     "data": {
      "image/png": "[encoded data removed]",
      "text/plain": [
       "<Figure size 900x400 with 1 Axes>"
      ]
     },
     "metadata": {},
     "output_type": "display_data"
    }
   ],
   "source": [
    "plt.figure(figsize=(9, 4))\n",
    "plt.errorbar(path_length, time_delay, yerr=0.5, xerr=1, fmt='.k', elinewidth=1)\n",
    "plt.xlabel('Optical path length ($cm$)')\n",
    "plt.ylabel('Time delay ($ns$)')\n",
    "plt.title(\"Interferometry speed of light measurements\")\n",
    "plt.plot(path_length, a*path_length+b)\n",
    "plt.show()"
   ]
  },
  {
   "cell_type": "markdown",
   "metadata": {},
   "source": [
    "From this graph, we can measure the gradient to get the speed of light, along with its uncertainty. We obtain $ 0.03507 \\ ns \\ cm^{-1} $ for the gradient, and $  0.00126 ns \\ cm^{-1} $ for the uncertainty. If we convert these to SI units, we have $ 3.507 s \\ m^{-1} $ and $ 0.126 \\ s \\ m^{-1} $ respectively. Since the speed of light is one over the gradient, our final result for the speed of light becomes:\n",
    "\n",
    "$$ (2.851 \\pm 0.102) \\times 10^{8} \\ m \\ s^{-1} $$\n",
    "\n",
    "or, for comparison,\n",
    "\n",
    "$$ (285100 \\pm 10200) \\ km \\ s^{-1} $$\n",
    "\n",
    "The error was calculated using the standard formula:\n",
    "\n",
    "$$ | α_{c} | = c | \\frac{α_{m}}{m} | $$\n",
    "\n",
    "where $ m $ represents the gradient and $ α_{m} $ represents the error in the gradient.\n",
    "\n",
    "Clearly, this method is by no means perfect, as evidenced by the result. Not only is today's accepted value outside of this range, but the uncertainty itself is very large compared to the Michelson experiment. The main cause of this is the small quantity of measurements; having only 12 readings has dramatically increased this error. A much more precise interferometry experiment was performed in 1972 by the National Bureau of Standards, obtaining a fractional uncertainty of only $ 3.5 \\times 10^{-9} $. Find out more about this experiment [here](https://journals.aps.org/prl/pdf/10.1103/PhysRevLett.29.1346)."
   ]
  },
  {
   "cell_type": "markdown",
   "metadata": {},
   "source": [
    "## Other methods "
   ]
  },
  {
   "cell_type": "markdown",
   "metadata": {},
   "source": [
    "There have been other methods used in the past to measure the speed of light, for example, the first recorded estimate was made by Ole Christensen Rømer in 1676, who used the change in orbital period of Jupiter’s moon Io due to the changing distance between Jupiter and the Earth. When the Earth is approaching Jupiter, the period is shorter; when receeding, longer. Using this information, the speed of light can be estimated, since the change in period also depends on the time taken for light to reach the Earth.\n",
    "\n",
    "![](../media/pins3.png)\n",
    "\n",
    "In the modern era, the limiting factor in measuring the speed of light is no longer the uncertainty of experiments. For example, in 1972, the speed of light was measured as $ (299792456.2 \\pm 1.1) \\ m \\ s^{-1} $ using laser interferometry. This small remaining uncertainty was caused by the definition of the metre. In order to get around this, the meeting of the General Conference on Weights and Measures (CGPM) redefined the metre as \"the length of the path traveled by light in vacuum during a time interval of $ \\frac{1}{299792458}^{th}$ of a second\". This permanently fixed the speed of light at exactly $ 299792458 \\ m \\ s^{-1} $, so further experiments don’t change the definition of the speed of light but rather the definition of the metre."
   ]
  },
  {
   "cell_type": "markdown",
   "metadata": {},
   "source": [
    "## References"
   ]
  },
  {
   "cell_type": "markdown",
   "metadata": {},
   "source": [
    "* I. G. Hughes and T. P. A. Hase, Measurements and their Uncertainties, Oxford University Press, Oxford (2010), pp. 39\n",
    "* Analyzing speed of light measurements [online]\n",
    "https://risk-engineering.org/notebook/data-analysis-speed-light.html\n",
    "* Speed of light [online]\n",
    "https://en.wikipedia.org/wiki/Speed_of_light#Measurement\n",
    "* Master Michelson's measurement [online]\n",
    "https://physicstoday.scitation.org/doi/10.1063/1.2774115\n",
    "* Speed of Light from Direct Frequency and Wavelength Measurements\n",
    "of the Methane-Stabilized Laser [online]\n",
    "https://journals.aps.org/prl/pdf/10.1103/PhysRevLett.29.1346\n",
    "* A Gentle Introduction to the Bootstrap Method [online]\n",
    "https://machinelearningmastery.com/a-gentle-introduction-to-the-bootstrap-method/\n",
    "* Michelson's Velocity of Light Data [online]\n",
    "https://www.randomservices.org/random/data/Michelson.html\n",
    "* R. J. MacKay and R. W. Oldford, *Scientific Method, Statistical Method and the Speed of Light*, Statistical Science, 2000, 15:3, pp. 254–278\n",
    "* S. Prokhovnik and W. Morris, *A review of speed of light measurements since 1676*, CEN Tech. J. 1993, 7:2, pp. 181–183"
   ]
  },
  {
   "cell_type": "markdown",
   "metadata": {},
   "source": [
    "If you wish to get an overview of the remaining topics in this course, click the button below.\n",
    "\n",
    "[![Back to main website](../media/back4.png)](https://physdata.vercel.app/)"
   ]
  }
 ],
 "metadata": {
  "anaconda-cloud": {},
  "kernelspec": {
   "display_name": "Python 3 (ipykernel)",
   "language": "python",
   "name": "python3"
  },
  "language_info": {
   "codemirror_mode": {
    "name": "ipython",
    "version": 3
   },
   "file_extension": ".py",
   "mimetype": "text/x-python",
   "name": "python",
   "nbconvert_exporter": "python",
   "pygments_lexer": "ipython3",
   "version": "3.9.13"
  },
  "vscode": {
   "interpreter": {
    "hash": "9e7cdc26c5a212bb4dc4cdbab80bf6df3ceb87a47e86b5b5f59b21563684544d"
   }
  }
 },
 "nbformat": 4,
 "nbformat_minor": 1
}
