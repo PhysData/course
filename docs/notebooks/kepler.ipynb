{
 "cells": [
  {
   "cell_type": "markdown",
   "metadata": {},
   "source": [
    "# Kepler and the Orbit of Mars\n",
    "\n",
    "\n",
    "[![Open in Colab](https://colab.research.google.com/assets/colab-badge.svg)](https://colab.research.google.com/github/PhysData/course/blob/main/docs/notebooks/kepler.ipynb)\n",
    "\n",
    "To participate in the interactive aspects of this notebook, select the 'Open in Colab' option!\n",
    "\n",
    "If you're running this in Colab, make sure to save a copy of the notebook in Google Drive to save your changes. You will need to download the 'triangulation.csv' dataset from the 'data' folder and change the path where it is called."
   ]
  },
  {
   "cell_type": "markdown",
   "metadata": {},
   "source": [
    "In this notebook, we will use modern techniques and programming to emulate, visualise and validate Kepler's work, demonstrating the [similarities](https://lih-verma.medium.com/kepler-was-a-data-scientist-b90b21315c85) between his methods and 'data science' as we know it today.\n",
    "\n",
    "**This notebook contains some 'helper' functions which are hidden for clarity. The full code is visible in Colab.**"
   ]
  },
  {
   "cell_type": "markdown",
   "metadata": {},
   "source": [
    "## Triangulation"
   ]
  },
  {
   "attachments": {},
   "cell_type": "markdown",
   "metadata": {},
   "source": [
    "Through the knowledge of Mars' 687-day orbital period, Kepler was able to plot the positions of Mars in its orbit with a [triangulation](https://faculty.uca.edu/saustin/3110/mars.pdf) technique. He used pairs of Brahe's datapoints, each separated by an integer multiple of 687 days, to triangulate the position of Mars and track its orbit by examining the differences in its apparent position in the sky. This is possible due to the fact that Mars would be in the same place relative to the Sun each time.\n",
    "\n",
    "![](../media/triangulation.png)\n",
    "\n",
    "[Source: http://galileo.phys.virginia.edu/classes/609.ral5q.fall04/LecturePDF/L08-KEPLER.pdf]"
   ]
  },
  {
   "cell_type": "markdown",
   "metadata": {},
   "source": [
    "### Visualising Earth's Locations\n",
    "\n",
    "The following code uses a small dataset of Mars' locations to mimic Kepler's work and create a visual reconstruction of Earth's orbit."
   ]
  },
  {
   "cell_type": "code",
   "execution_count": null,
   "metadata": {},
   "outputs": [],
   "source": [
    "# If you're running this notebook, uncomment the code in this cell to install the required packages.\n",
    "# ! pip install csv\n",
    "# ! pip install math\n",
    "# ! pip install matplotlib\n",
    "# ! pip install numpy\n",
    "# ! pip install mpl_toolkits"
   ]
  },
  {
   "cell_type": "code",
   "execution_count": null,
   "metadata": {
    "nbsphinx": "hidden",
    "tags": []
   },
   "outputs": [],
   "source": [
    "import csv\n",
    "import math\n",
    "import matplotlib.pyplot as plt\n",
    "\n",
    "def loadData1():\n",
    "\n",
    "\ttri = \"../data/triangulation.csv\" # If you are running in Colab, change to the correct path here\n",
    "\tfields = []\n",
    "\tearthLocations = [] \n",
    "\tmarsAngles = []\n",
    "\n",
    "\twith open(tri, 'r') as trifile:\n",
    "\t\ttriangulation = csv.reader(trifile)\n",
    "\t\tfields = next(triangulation)\n",
    "\n",
    "\t\tfor row in triangulation:\n",
    "\n",
    "\t\t\tearthAngle = math.radians(float(row[4]) + (float(row[5])/60))\n",
    "\t\t\txEarth = math.cos(earthAngle)\n",
    "\t\t\tyEarth = math.sin(earthAngle)\n",
    "\t\t\tearthLocations.append([xEarth, yEarth])\n",
    "\n",
    "\t\t\tmarsAngle = math.radians(float(row[6]) + (float(row[7])/60))\n",
    "\t\t\tmarsAngles.append(marsAngle)\n",
    "\n",
    "\treturn earthLocations, marsAngles\n",
    "\n",
    "\n",
    "def plotEarthLocations(earthLocations):\n",
    "\n",
    "\tfig, ax = plt.subplots()\n",
    "\n",
    "\tax.plot(0, 0, 'yo', markersize=10, label=\"Sun\")\n",
    "\n",
    "\txEarth, yEarth = [], []\n",
    "\tfor location in earthLocations:\n",
    "\t\txEarth.append(location[0])\n",
    "\t\tyEarth.append(location[1])\n",
    "\n",
    "\tax.plot(xEarth, yEarth, 'bo', markersize=5, label=\"Earth Locations\")\n",
    "\n",
    "\tax.legend(fontsize='x-small')\n",
    "\tplt.show()\n",
    "\n",
    "\n",
    "def findMars(earthLocation1, marsAngle1, earthLocation2, marsAngle2):\n",
    "\n",
    "\tx1, y1 = earthLocation1\n",
    "\tma1 = marsAngle1\n",
    "\n",
    "\tx2, y2 = earthLocation2\n",
    "\tma2 = marsAngle2\n",
    "\n",
    "\txMars = ((y2 - y1 + (x1 * math.tan(ma1)) - (x2 * math.tan(ma2)))\n",
    "\t\t\t/ (math.tan(ma1) - math.tan(ma2)))\n",
    "\n",
    "\tyMars = ((x2 - x1 + (y1 * (1 / math.tan(ma1)))\n",
    "\t\t\t- (y2 * (1 / math.tan(ma2))))\n",
    "\t\t\t/ ((1 / math.tan(ma1)) - (1 / math.tan(ma2))))\n",
    "\n",
    "\tmarsLocation = [xMars, yMars]\n",
    "\treturn marsLocation\n",
    "\n",
    "\n",
    "def computeRadius(marsLocations):\n",
    "\n",
    "\trMars = []\n",
    "\tfor i in range(len(marsLocations)):\n",
    "\t\txMars, yMars = marsLocations[i]\n",
    "\t\tsqDist = math.pow(xMars, 2) + math.pow(yMars, 2)\n",
    "\t\trMars.append(math.sqrt(sqDist))\n",
    "\n",
    "\tr = sum(rMars) / len(rMars)\n",
    "\t\n",
    "\treturn r\n",
    "\n",
    "def plotTriangulations(marsLocations, radius):\n",
    "\n",
    "\tfig, ax = plt.subplots()\n",
    "\n",
    "\tax.plot(0, 0, 'yo', markersize=12)\n",
    "\n",
    "\txMars, yMars = [], []\n",
    "\tfor location in marsLocations:\n",
    "\t\tmx, my = location\n",
    "\t\txMars.append(mx)\n",
    "\t\tyMars.append(my)\n",
    "\tax.plot(xMars, yMars, 'ro', markersize=5, label=\"Mars's Projection\")\n",
    "\n",
    "\tif radius is not None:\n",
    "\t\tfit = plt.Circle((0,0), radius, color='g', fill=False,\n",
    "\t\t\tlabel=\"Best-fit circle\")\n",
    "\t\tax.add_artist(fit)\n",
    "\t\ts = \"Best-fit radius = \" + str(round(radius, 4))\n",
    "\t\tax.text(0.75, -2, s, fontsize=7)\n",
    "\n",
    "\tlim = 2.2\n",
    "\tax.set_xlim(-lim, lim)\n",
    "\tax.set_ylim(-lim, lim)\n",
    "\tax.set_aspect('equal')\n",
    "\tax.legend(fontsize='x-small')\n",
    "\t\n",
    "\tplt.show()"
   ]
  },
  {
   "cell_type": "code",
   "execution_count": null,
   "metadata": {},
   "outputs": [],
   "source": [
    "earthLocations = None\n",
    "marsAngles = None\n",
    "\n",
    "earthLocations, marsAngles = loadData1()\n",
    "\n",
    "plotEarthLocations(earthLocations)"
   ]
  },
  {
   "cell_type": "markdown",
   "metadata": {},
   "source": [
    "### Finding the five positions of Mars\n",
    "\n",
    "Next, pairs of Earth's positions separated by multiples of 687 days and their corresponding angles relative to Mars will be used to triangulate the locations of Mars, which will be recorded and displayed below."
   ]
  },
  {
   "cell_type": "code",
   "execution_count": null,
   "metadata": {},
   "outputs": [],
   "source": [
    "marsLocations = []\n",
    "\n",
    "for i in range(5):\n",
    "    index1 = 2 * i\n",
    "    index2 = 2 * i + 1\n",
    "    marsLocation = findMars(earthLocations[index1], marsAngles[index1],\n",
    "                                        earthLocations[index2], marsAngles[index2])\n",
    "    marsLocations.append(marsLocation)\n",
    "\n",
    "print(marsLocations)"
   ]
  },
  {
   "cell_type": "markdown",
   "metadata": {},
   "source": [
    "### Fitting a circle to the Orbit"
   ]
  },
  {
   "cell_type": "markdown",
   "metadata": {},
   "source": [
    "Having recorded the positions of Mars, the natural progression for Kepler's method was to attempt to fix these to a circular orbit, based on the Copernican model of the solar system to which he subscribed at the time.\n",
    "\n",
    "In the following visualisation, it is clear that the data points do not quite follow the trajectory of a circle."
   ]
  },
  {
   "cell_type": "code",
   "execution_count": null,
   "metadata": {},
   "outputs": [],
   "source": [
    "triangulatedRadius = None\n",
    "\n",
    "triangulatedRadius = computeRadius(marsLocations)\n",
    "\n",
    "plotTriangulations(marsLocations, triangulatedRadius)"
   ]
  },
  {
   "cell_type": "markdown",
   "metadata": {},
   "source": [
    "## Fitting the Mars Orbital Plane"
   ]
  },
  {
   "cell_type": "markdown",
   "metadata": {},
   "source": [
    "So far, all of the data has been two-dimensional, involving projections of Mars onto the ecliptic plane, the orbital plane of Earth around the Sun. To find the actual locations of Mars in three-dimensional space, Kepler used 'perihelic opposition' (when Earth, the Sun, and Mars lie on a straight line) to deduce Mars' orbital plane, as the angle to Mars is the same relative to both the Sun and Earth.\n",
    "\n",
    "The longitudes to Mars with respect to the Sun and latitudes to Mars with respect to the Earth can be used to calculate the coordinates of Mars on the celestial sphere (an abstract sphere concentric to Earth with an arbitrarily large radius): geocentric latitudes are first used to calculate heliocentric latitudes, which together with longitudes can help us to locate Mars via points of intersection."
   ]
  },
  {
   "cell_type": "code",
   "execution_count": null,
   "metadata": {
    "nbsphinx": "hidden",
    "tags": []
   },
   "outputs": [],
   "source": [
    "import numpy as np\n",
    "from mpl_toolkits.mplot3d import Axes3D\n",
    "\n",
    "\n",
    "def evaluateDistance(coordinates, a, b):\n",
    "\n",
    "\tnormal = np.array([a, b, 1.0])[:,None]\n",
    "\n",
    "\tscale = math.pow(a, 2) + math.pow(b, 2) + 1.0\n",
    "\n",
    "\tdistance = np.dot(coordinates, normal) / scale\n",
    "\n",
    "\tsquareDist = float(sum(distance ** 2))\n",
    "\treturn squareDist\n",
    "\n",
    "\n",
    "def computeGradient(coordinates, a, b):\n",
    "\n",
    "\tnormal = np.array([a, b, 1.0])[:,None]\n",
    "\n",
    "\tscale = math.pow(a, 2) + math.pow(b, 2) + 1.0\n",
    "\n",
    "\tlinearSum = np.dot(coordinates, normal)\n",
    "\n",
    "\tscaledX = np.array([coordinates[:, 0] * scale]).T \n",
    "\tscaledY = np.array([coordinates[:, 1] * scale]).T \n",
    "\tpartialScale = (2 / (math.pow(scale, 3)))          \n",
    "\n",
    "\tpartialA = partialScale * ((-2 * a * linearSum) + scaledX) * linearSum\n",
    "\tpartialB = partialScale * ((-2 * b * linearSum) + scaledY) * linearSum \n",
    "\n",
    "\tgradient = [float(sum(partialA)), float(sum(partialB))]\n",
    "\treturn gradient\n",
    "\n",
    "\n",
    "def findPlane(coordinates):\n",
    "\n",
    "\tcoordinateMatrix = np.array(coordinates).T\n",
    "\n",
    "\ta, b = 0.0, 0.0\n",
    "\n",
    "\talpha = 0.0001\n",
    "\n",
    "\tcost = []\n",
    "\n",
    "\tfor i in range (10000):\n",
    "\t\t\n",
    "\t\tsquareDist = evaluateDistance(coordinateMatrix, a, b)\n",
    "\n",
    "\t\tcost.append(squareDist)\n",
    "\t\t\n",
    "\t\tdelta = computeGradient(coordinateMatrix, a, b)\n",
    "\t\t\n",
    "\t\ta = a - (alpha * delta[0])\n",
    "\t\tb = b - (alpha * delta[1])\n",
    "\n",
    "\tplaneParams = [a, b]\n",
    "\n",
    "\treturn planeParams\n",
    "\n",
    "def loadData2():\n",
    "\n",
    "\topp = \"../data/opposition.csv\"\n",
    "\tfields = []     \n",
    "\thelioLong = []    \n",
    "\tgeoLat = []        \n",
    "\n",
    "\twith open(opp, 'r') as oppfile:\n",
    "\t\topposition = csv.reader(oppfile)\n",
    "\t\tfields = next(opposition)\n",
    "\n",
    "\t\tfor row in opposition:\n",
    "\n",
    "\t\t\thelioLong.append(math.radians((30 * float(row[3])) + float(row[4]) \n",
    "\t\t\t\t+ (float(row[5])/60) + (float(row[6])/3600)))\n",
    "\n",
    "\t\t\tgeoLat.append(math.radians(float(row[7]) + (float(row[8])/60)))\n",
    "\n",
    "\treturn helioLong, geoLat\n",
    "\n",
    "\n",
    "def findHelioLat(radius, geoLat):\n",
    "\n",
    "\thelioLat = []\n",
    "\tscale = (radius - 1)/radius\n",
    "\tfor angle in geoLat:\n",
    "\t\thelioLat.append(math.atan(scale * math.tan(angle)))\n",
    "\n",
    "\treturn helioLat\n",
    "\n",
    "\n",
    "def findCoordinates(helioLong, helioLat):\n",
    "\t\n",
    "\txMars = []\n",
    "\tyMars = []\n",
    "\tzMars = []\n",
    "\n",
    "\t# Given the radius of celestial sphere, latitude and longitude of mars, \n",
    "\t# we have spherical coordinates of Mars.\n",
    "\t# Spherical coordinates can be converted to cartesian using the formula:\n",
    "\t# \tx = radius * cos(pi/2 - latitude) * cos(longitude)\n",
    "\t# \ty = radius * sin(pi/2 - latitude) * sin(longitude)\n",
    "\t#   z = radius * cos(pi/2 - latitude)\n",
    "\tfor i in range(len(helioLat)):\n",
    "\t\txMars.append(math.sin((math.pi / 2.0)-helioLat[i]) \n",
    "\t\t\t\t\t* math.cos(helioLong[i]))\n",
    "\t\tyMars.append(math.sin((math.pi / 2.0)-helioLat[i]) \n",
    "\t\t\t\t\t* math.sin(helioLong[i]))\n",
    "\t\tzMars.append(math.cos((math.pi / 2.0)-helioLat[i]))\n",
    "\n",
    "\tcoordinates = [xMars, yMars, zMars]\n",
    "\treturn coordinates\n",
    "\n",
    "\n",
    "def fitPlane(coordinates):\n",
    "\n",
    "\tplaneParameters = findPlane(coordinates)\n",
    "\treturn planeParameters\n",
    "\n",
    "\n",
    "def plotPlane(coordinates, planeParams):\n",
    "\n",
    "\ta, b = planeParams\n",
    "\txMars, yMars, zMars = coordinates\n",
    "\n",
    "\tfig = plt.figure()\n",
    "\tax = Axes3D(fig)\n",
    "\n",
    "\tax.scatter(xMars, yMars, zMars, 'r')\n",
    "\tax.scatter(0.0, 0.0, 0.0, 'y')\n",
    "\n",
    "\tpoint = np.array([0.0, 0.0, 0.0])\n",
    "\tnormal = np.array([a, b, 1.0])\n",
    "\td = -point.dot(normal)\n",
    "\txx, yy = np.meshgrid(range(-2, 3), range(-2, 3))\n",
    "\tzm = (-normal[0] * xx - normal[1] * yy - d) * 1. /normal[2]\n",
    "\tax.plot_surface(xx, yy, zm, alpha=0.2, color='b',\n",
    "\t\tlabel=\"Mars Orbital Plane\")\n",
    "\n",
    "\tze = yy * 0.0\n",
    "\tax.plot_surface(xx, yy, ze, alpha=0.2, color='y', label=\"Ecliptic Plane\")\n",
    "\n",
    "\tplt.show()\n",
    "\n",
    "\n",
    "def findInclination(planeParams):\n",
    "\n",
    "\ta, b = planeParams\n",
    "\tangle = math.acos(1/(math.sqrt(math.pow(a, 2) + math.pow(b, 2) + 1.0)))\n",
    "\treturn math.degrees(angle)\n"
   ]
  },
  {
   "cell_type": "code",
   "execution_count": null,
   "metadata": {},
   "outputs": [],
   "source": [
    "helioLong, geoLat = loadData2()\n",
    "\n",
    "helioLat = []\n",
    "\n",
    "helioLat = findHelioLat(triangulatedRadius, geoLat)\n",
    "\n",
    "\n",
    "coordinates = []\n",
    "\n",
    "coordinates = findCoordinates(helioLong, helioLat)"
   ]
  },
  {
   "cell_type": "markdown",
   "metadata": {},
   "source": [
    "### Fitting a Plane to the Orbit of Mars"
   ]
  },
  {
   "cell_type": "markdown",
   "metadata": {},
   "source": [
    "From the coordinates of Mars on the celestial sphere, we can fit a plane to the orbit of Mars. First, we will find the parameters of this plane and then we can plot our results!"
   ]
  },
  {
   "cell_type": "code",
   "execution_count": null,
   "metadata": {},
   "outputs": [],
   "source": [
    "planeParameters = []\n",
    "\n",
    "planeParameters = fitPlane(coordinates)\n",
    "\n",
    "plotPlane(coordinates, planeParameters)"
   ]
  },
  {
   "cell_type": "markdown",
   "metadata": {},
   "source": [
    "## Fitting a Circle and Ellipse to the Orbit of Mars"
   ]
  },
  {
   "cell_type": "markdown",
   "metadata": {},
   "source": [
    "### Lifting Mars' Projections onto the Orbital Plane\n",
    "\n",
    "The following code takes our initial coordinates for the locations of Mars and 'lifts' them onto the orbital plane that we have found."
   ]
  },
  {
   "cell_type": "code",
   "execution_count": null,
   "metadata": {
    "nbsphinx": "hidden",
    "tags": []
   },
   "outputs": [],
   "source": [
    "from matplotlib.patches import Ellipse\n",
    "\n",
    "def evaluateDistance(xMars, yMars, xFocus, yFocus, majorAxis):\n",
    "\n",
    "\tdist = []\n",
    "\n",
    "\tfor i in range(len(xMars)):\n",
    "\t\tdistOrigin = math.sqrt(math.pow(xMars[i], 2) + math.pow(yMars[i], 2))\n",
    "\t\tdistFocus = math.sqrt(math.pow((xMars[i] - xFocus), 2) \n",
    "\t\t\t+ math.pow((yMars[i] - yFocus), 2))\n",
    "\t\tdist.append(math.pow((distOrigin + distFocus - majorAxis), 2))\n",
    "\n",
    "\tsquareDist = sum(dist)\n",
    "\treturn squareDist\n",
    "\n",
    "\n",
    "def computeGradient(xMars, yMars, xFocus, yFocus, majorAxis):\n",
    "\n",
    "\tdxFocus = []\n",
    "\tdyFocus = []\n",
    "\tdmajorAxis = []\n",
    "\n",
    "\t# df/d(xFocus) = (-2 * (xMars - xFocus) * evaluateDistance) / distFocus\n",
    "\t# df/d(yFocus) = (-2 * (yMars - yFocus) * evaluateDistance) / distFocus\n",
    "\t# df/d(majorAxis) = -2 * evaluateDistance\n",
    "\n",
    "\t# computing partial derivatives for each set of coordinates\n",
    "\tfor i in range(len(xMars)):\n",
    "\t\tdistOrigin = math.sqrt(math.pow(xMars[i], 2) + math.pow(yMars[i], 2))\n",
    "\t\tdistFocus = math.sqrt(math.pow((xMars[i] - xFocus), 2) \n",
    "\t\t\t+ math.pow((yMars[i] - yFocus), 2))\n",
    "\t\tdist = distOrigin + distFocus - majorAxis\n",
    "\n",
    "\t\txDiff = xMars[i] - xFocus\n",
    "\t\tyDiff = yMars[i] - yFocus\n",
    "\n",
    "\t\tdxFocus.append((-2 * xDiff * dist) / distFocus)\n",
    "\t\tdyFocus.append((-2 * yDiff * dist) / distFocus)\n",
    "\t\tdmajorAxis.append(-2 * dist)\n",
    "\n",
    "\tgradient = [float(sum(dxFocus)), \n",
    "\t\t\t\tfloat(sum(dyFocus)), \n",
    "\t\t\t\tfloat(sum(dmajorAxis))]\n",
    "\treturn gradient\n",
    "\n",
    "\n",
    "def findEllipse(xMars, yMars, xf, yf, axis):\n",
    "\n",
    "\talpha = 0.001\n",
    "\n",
    "\tcost = []\n",
    "\n",
    "\tfor i in range (10000):\t\n",
    "\t\tsquareDist = evaluateDistance(xMars, yMars, xf, yf, axis)\n",
    "\n",
    "\t\tcost.append(squareDist)\n",
    "\n",
    "\t\tdelta = computeGradient(xMars, yMars, xf, yf, axis)\n",
    "\n",
    "\t\txf   = xf - (alpha * delta[0])\n",
    "\t\tyf   = yf - (alpha * delta[1])\n",
    "\t\taxis = axis - (alpha * delta[2])\n",
    "\n",
    "\treturn xf, yf, axis, cost\n",
    "\n",
    "\n",
    "\n",
    "def liftCoordinates(planeParams, marsTriLocations):\n",
    "\n",
    "\ta, b = planeParams\n",
    "\n",
    "\t# x-y coordinates of Mars will be the same as the projections\n",
    "\t# to calculate z coordinates, we must use the formula as follows:\n",
    "\t# zMars = (-a * xMars) + (-b * yMars), where a and b are the parameters of the best-fit plane\n",
    "\tliftedLocations = []\n",
    "\tfor location in marsTriLocations:\n",
    "\t\txMars, yMars = location\n",
    "\t\tzMars = (-1 * a * xMars) + (-1 * b * yMars)\n",
    "\t\tliftedLocations.append([xMars, yMars, zMars])\n",
    "\t\n",
    "\treturn liftedLocations\n",
    "\n",
    "\n",
    "def fitCircle(liftedLocations):\n",
    "\n",
    "\t# Finding the distance of each point from the origin\n",
    "\trMars = []\n",
    "\tfor location in liftedLocations:\n",
    "\t\txMars, yMars, zMars = location\n",
    "\t\tsqDist = math.pow(xMars, 2) + math.pow(yMars, 2) + math.pow(zMars, 2)\n",
    "\t\trMars.append(math.sqrt(sqDist))\n",
    "\n",
    "\t# Finding the average radius, which is the radius of the best fit circle\n",
    "\tr = sum(rMars) / len(rMars)\n",
    "\n",
    "\tloss = 0.0 \n",
    "\tfor radius in rMars:\n",
    "\t\tloss = loss + math.pow((r - radius), 2)\n",
    "\n",
    "\treturn r, loss\n",
    "\n",
    "\n",
    "def fitEllipse(liftedLocations):\n",
    "\n",
    "\txMars, yMars, zMars = [], [], []\n",
    "\tfor location in liftedLocations:\n",
    "\t\tx, y, z = location\n",
    "\t\txMars.append(x); yMars.append(y); zMars.append(z)\n",
    "\n",
    "\txf1, yf1, axis1 = 0.0, 0.0, 0.0\n",
    "\n",
    "\t# finding the best fit ellipse\n",
    "\txf, yf, axis, cost = findEllipse(xMars, yMars, \n",
    "\t\txf1, yf1, axis1)\n",
    "\n",
    "\tellipseParameters = [xf, yf, axis] \n",
    "\tloss = cost[-1]                     \n",
    "\treturn ellipseParameters, loss\n",
    "\n",
    "\n",
    "def plotBoth(liftedLocations, circleRadius, ellipseParameters):\n",
    "\n",
    "\txMars, yMars, zMars = [], [], []\n",
    "\tfor location in liftedLocations:\n",
    "\t\tx, y, z = location\n",
    "\t\txMars.append(x); yMars.append(y); zMars.append(z)\n",
    "\n",
    "\txf, yf, axis = ellipseParameters\n",
    "\n",
    "\tcenterX = xf / 2.0\n",
    "\tcenterY = yf / 2.0\n",
    "\tinterFocii = math.sqrt(math.pow(xf, 2) + math.pow(yf, 2))\n",
    "\tminorAxis = math.sqrt(math.pow(axis, 2) - math.pow(interFocii, 2))\n",
    "\trotationAngle = 360 - math.degrees(math.atan(yf / abs(xf)))\n",
    "\n",
    "\tfig, ax = plt.subplots()\n",
    "\n",
    "\t# plotting mars locations and the focii\n",
    "\tax.plot(xMars, yMars, \"ro\")\n",
    "\tax.plot(0.0, 0.0, \"yo\", label=\"Sun\")\n",
    "\t#ax.plot(xf, yf, \"go\", label=\"Ellipse Focus #2\")\n",
    "\n",
    "\t# adding best fit circle\n",
    "\tfit_c = plt.Circle((0,0), circleRadius, color='c', fill=False, \n",
    "\t\tlabel=\"Best-fit Circle\")\n",
    "\tax.add_artist(fit_c)\n",
    "\n",
    "\t# adding best fit ellipse\n",
    "\tfit_e = Ellipse((centerX, centerY), axis, minorAxis, rotationAngle, \n",
    "\t\tcolor='b', fill=False)\n",
    "\tax.add_artist(fit_e)\n",
    "\n",
    "\tax.set_xlim(-2.2, 2.2)\n",
    "\tax.set_ylim(-2.2, 2.2)\n",
    "\tax.set_aspect('equal')\n",
    "\n",
    "\tax.legend([fit_c, fit_e], ['Best-fit Circle', 'Best-fit Ellipse'], \n",
    "\t\tfontsize='x-small')\n",
    "\n",
    "\tplt.show()"
   ]
  },
  {
   "cell_type": "code",
   "execution_count": null,
   "metadata": {},
   "outputs": [],
   "source": [
    "liftedMarsLocations = None\n",
    "\n",
    "liftedMarsLocations = liftCoordinates(planeParameters, marsLocations)\n",
    "\n",
    "print(liftedMarsLocations)"
   ]
  },
  {
   "cell_type": "markdown",
   "metadata": {},
   "source": [
    "We now have the true locations of Mars on its orbital plane. Now let's try to fit a circular orbit and an elliptical orbit, and compare the errors. \n",
    "\n",
    "We should expect to obtain a lower error for an elliptical fit, consistent with Kepler's results."
   ]
  },
  {
   "cell_type": "markdown",
   "metadata": {},
   "source": [
    "### Fitting a Circular Orbit"
   ]
  },
  {
   "cell_type": "markdown",
   "metadata": {},
   "source": [
    "The fllowing code plots a 'circle of best fit' to the orbit of Mars using the distances between the locations of Mars and the Sun to calculate a mean radius. The total error is then calculated using the individual errors of each location and the circle."
   ]
  },
  {
   "cell_type": "code",
   "execution_count": null,
   "metadata": {},
   "outputs": [],
   "source": [
    "circleRadius = None\n",
    "circleLoss = None\n",
    "\n",
    "circleRadius, circleLoss = fitCircle(liftedMarsLocations)\n",
    "\n",
    "print(\"Circle Radius:\", circleRadius)\n",
    "print(\"Circle Error (absolute):\", circleLoss)\n",
    "\n",
    "circlePercentageError = math.sqrt(circleLoss) / circleRadius * 100.0\n",
    "print(\"Circle Error (percentage):\", circlePercentageError)"
   ]
  },
  {
   "cell_type": "markdown",
   "metadata": {},
   "source": [
    "### Fitting an Elliptical Orbit"
   ]
  },
  {
   "cell_type": "markdown",
   "metadata": {},
   "source": [
    "In a similar manner, the following code plots an 'ellipse of best fit' instead, calculating the error in the same way as before."
   ]
  },
  {
   "cell_type": "code",
   "execution_count": null,
   "metadata": {},
   "outputs": [],
   "source": [
    "ellipseParameters = None\n",
    "ellipseLoss = None\n",
    "\n",
    "ellipseParameters, ellipseLoss = fitEllipse(liftedMarsLocations)\n",
    "\n",
    "print(\"Ellipse Parameters:\", ellipseParameters)\n",
    "print(\"Ellipse Error (absolute):\", ellipseLoss)\n",
    "\n",
    "semimajorAxis = ellipseParameters[2] / 2.0\n",
    "ellipsePercentageError = math.sqrt(ellipseLoss) / semimajorAxis * 100.0\n",
    "print(\"Ellipse Error (percentage):\", ellipsePercentageError)"
   ]
  },
  {
   "cell_type": "markdown",
   "metadata": {},
   "source": [
    "### Comparing the Circular and Elliptical Orbital Errors"
   ]
  },
  {
   "cell_type": "markdown",
   "metadata": {},
   "source": [
    "As expected, we find that fitting a circle has approximately 16 times the error of fitting an ellipse. Therefore, the orbit of Mars must be elliptical! We can plot both models on one figure to visualise this:"
   ]
  },
  {
   "cell_type": "code",
   "execution_count": null,
   "metadata": {},
   "outputs": [],
   "source": [
    "plotBoth(liftedMarsLocations, circleRadius, ellipseParameters)"
   ]
  },
  {
   "cell_type": "markdown",
   "metadata": {},
   "source": [
    "The plot clearly demonstrates that the ellipse passes through all of our datapoints within a reasonable error, whereas the circle is comparatively skewed. We have successfully validated and visualised Kepler's results!"
   ]
  },
  {
   "cell_type": "markdown",
   "metadata": {},
   "source": [
    "### How could we analyse Brahe's data today?"
   ]
  },
  {
   "cell_type": "markdown",
   "metadata": {},
   "source": [
    "The evolution of data science and technology over the centuries since Kepler carried out his work means that, in today's age, a neural network could be used to analyse Tycho Brahe's observations, recognise patterns and relationships in the data and model an orbit. The advantage of this technique is that Kepler's moment of inspiration to consider the possibility of an elliptical orbit would not have been necessary, not to mention that over 20 years of work would have been reduced to just a matter of minutes!\n",
    "\n",
    "The following animation is a final example of how we can use modern programming languages to further study celestial orbits; we can investigate the initial conditions necessary for periodic or chaotic motion, as well as consider how massive objects can cause perturbations in orbits.\n",
    "\n",
    "![](../media/Orbit_gif.gif)\n",
    "\n",
    "[Source: https://towardsdatascience.com/use-python-to-create-three-body-orbits-329ffb5b2627]"
   ]
  },
  {
   "cell_type": "markdown",
   "metadata": {},
   "source": [
    "## References"
   ]
  },
  {
   "cell_type": "markdown",
   "metadata": {},
   "source": [
    "* [Orbits and Kepler's Laws](https://solarsystem.nasa.gov/resources/310/orbits-and-keplers-laws/#:~:text=Kepler's%20Laws%20of%20Planetary%20Motion&text=They%20describe%20how%20(1)%20planets,its%20semi%2Dmajor%20axis)\n",
    "\n",
    "* Gentner, Dedre, et al. Analogical reasoning and conceptual change: A case study of Johannes Kepler. The journal of the learning sciences 6.1 (1997): 3-40.\n",
    "\n",
    "* [Understanding What Kepler Did](http://www.ams.org/publicoutreach/feature-column/fc-2018-11)\n",
    "\n",
    "* [Use Python to Create Three-Body Orbits](https://towardsdatascience.com/use-python-to-create-three-body-orbits-329ffb5b2627)\n",
    "\n",
    "* [Kepler was a Data Scientist](https://lih-verma.medium.com/kepler-was-a-data-scientist-b90b21315c85)\n",
    "\n",
    "* [Johannes Kepler and Tycho Brahe](http://galileo.phys.virginia.edu/classes/609.ral5q.fall04/LecturePDF/L08-KEPLER.pdf)\n",
    "\n",
    "* [Determination of the Orbit of Mars Using Kepler's Triangulation Technique](https://faculty.uca.edu/saustin/3110/mars.pdf)\n",
    "\n",
    "\n",
    "The code for this section was adapted from material found at https://github.com/pulkitsingh/Mars-Orbit-Workshop."
   ]
  },
  {
   "cell_type": "markdown",
   "metadata": {},
   "source": [
    "If you wish to get an overview of the remaining topics in this course, click the button below.\n",
    "\n",
    "[![Back to main website](../media/back4.png)](https://physdata.vercel.app/)"
   ]
  }
 ],
 "metadata": {
  "kernelspec": {
   "display_name": "Python 3 (ipykernel)",
   "language": "python",
   "name": "python3"
  },
  "language_info": {
   "codemirror_mode": {
    "name": "ipython",
    "version": 3
   },
   "file_extension": ".py",
   "mimetype": "text/x-python",
   "name": "python",
   "nbconvert_exporter": "python",
   "pygments_lexer": "ipython3",
   "version": "3.9.13"
  },
  "vscode": {
   "interpreter": {
    "hash": "9e7cdc26c5a212bb4dc4cdbab80bf6df3ceb87a47e86b5b5f59b21563684544d"
   }
  }
 },
 "nbformat": 4,
 "nbformat_minor": 2
}
