{
 "cells": [
  {
   "cell_type": "markdown",
   "metadata": {},
   "source": [
    "# Linear Regression and Coulomb's Law\n",
    "\n",
    "[![Open in Colab](https://colab.research.google.com/assets/colab-badge.svg)](https://colab.research.google.com/github/PhysData/course/blob/main/docs/notebooks/elmag.ipynb)\n",
    "\n",
    "If you're running this in Colab, make sure to save a copy of the notebook in Google Drive to save your changes.\n",
    "\n",
    "\n",
    "**What is Coulomb's Law?**\n",
    "\n",
    "Coulomb's law relates the force between two point charges.\n",
    "\n",
    "$$ F = k \\frac{q_1 q_2}{r^2} $$\n",
    "\n",
    "where $F$ is the force (N), $q_1$ and $q_2$ are the magnitudes of the charges (C), $r$ is the distance between the charges (m),  $k$ is Coulomb's constant (~8.98 x 10^9 Nm^2/C^2).\n",
    "\n",
    "How was it discovered?\n",
    "\n",
    "**The aim of the notebook**\n",
    "\n",
    "In this notebook, we are going to explore how data science can help us to more rigorously understand physical phenomena by using synthetic data with predefined noise parameters. This can help us test the robustness of our models without needing to collect experimental data as well as be able to better explain the predictions our models make in the real world.\n"
   ]
  },
  {
   "cell_type": "markdown",
   "metadata": {},
   "source": [
    "## Simulating Data\n",
    "\n",
    "Firstly, we're going to explore how we can use existing libraries to generate synthetic data. This is an easy way to explore how our models behave under uncertainty in our input data. In other words, we can generate synthetic data to model uncertainty that might arise in experiments and build our models in a way that is robust. We can also use this technique to get a better understanding of the laws we are simulating, particularly when exploring well known physical concepts (such as Coulomb's law).\n",
    "\n",
    "The function `random_y_kx` will generate a tuple of numbers `x` and `y` with stochastic linear dependence of `y` on `x`. We're going to use this to model the force-charge relationship in Coulomb's law (with a constant representing one fixed charge and a fixed distance between charges). We'll generate these samples from two normal distributions with respective mean and standard deviation and we're going to add a noise parameter to reflect the uncertainty in real world measurements."
   ]
  },
  {
   "cell_type": "code",
   "execution_count": null,
   "metadata": {},
   "outputs": [],
   "source": [
    "# If you're running this notebook, uncomment the code in this cell to install the required packages.\n",
    "# ! pip install numpy\n",
    "# ! pip install scikit-learn\n",
    "# ! pip install matplotlib"
   ]
  },
  {
   "cell_type": "code",
   "execution_count": 19,
   "metadata": {},
   "outputs": [],
   "source": [
    "import numpy as np\n",
    "import matplotlib.pyplot as plt\n",
    "from sklearn.linear_model import LinearRegression"
   ]
  },
  {
   "cell_type": "code",
   "execution_count": 81,
   "metadata": {},
   "outputs": [],
   "source": [
    "def random_y_kx(mean_x=0, sigma_x=1, mean_noise=0, sigma_noise=1, size=1, k=1):\n",
    "    x = np.random.normal(mean_x, sigma_x, size)\n",
    "    noise = np.random.normal(mean_noise, sigma_noise, size)\n",
    "    y = k * x + noise\n",
    "    return x, y"
   ]
  },
  {
   "cell_type": "markdown",
   "metadata": {},
   "source": [
    "The function `random_y_kx` creates noisy data based on the relation $y=kx+\\eta$ where $\\eta$ is a noise parameter.\n",
    "\n",
    "We can now use this function to generate our first synthetic dataset."
   ]
  },
  {
   "cell_type": "code",
   "execution_count": 91,
   "metadata": {},
   "outputs": [],
   "source": [
    "data = []\n",
    "for i in range(50):\n",
    "    data.append(random_y_kx(sigma_noise=0.2))\n",
    "    \n",
    "x = []\n",
    "y = []\n",
    "for i in data:\n",
    "    x.append(i[0][0])\n",
    "    y.append(i[1][0])"
   ]
  },
  {
   "cell_type": "markdown",
   "metadata": {},
   "source": [
    "The above code is just a simple loop that calls the `random_y_kx` function and appends the data to a list object so that we can inspect it further (which is what we're going to do now)."
   ]
  },
  {
   "cell_type": "code",
   "execution_count": 92,
   "metadata": {},
   "outputs": [],
   "source": [
    "def plot_xy(x, y, title=None, xlabel=None, ylabel=None):\n",
    "    plt.plot(x, y, 'o')\n",
    "    if title:\n",
    "        plt.title(title)\n",
    "    if xlabel:\n",
    "        plt.xlabel(xlabel)\n",
    "    if ylabel:\n",
    "        plt.ylabel(ylabel)\n",
    "    plt.show()"
   ]
  },
  {
   "cell_type": "code",
   "execution_count": 93,
   "metadata": {},
   "outputs": [
    {
     "data": {
      "image/png": "[encoded data removed]",
      "text/plain": [
       "<Figure size 432x288 with 1 Axes>"
      ]
     },
     "metadata": {
      "needs_background": "light"
     },
     "output_type": "display_data"
    }
   ],
   "source": [
    "plot_xy(x, y, title=\"$y=kx+\\eta$ with $\\sigma_{\\eta}=0.2$\", xlabel=\"$x$\", ylabel=\"$y$\")"
   ]
  },
  {
   "cell_type": "markdown",
   "metadata": {},
   "source": [
    "The plot above shows a noisy linear relationship as expected. We've condensed the above code down to the `plot_sample` function, we encourage you to play with different parameters for the noise distribution."
   ]
  },
  {
   "cell_type": "code",
   "execution_count": 94,
   "metadata": {},
   "outputs": [],
   "source": [
    "def plot_sample(num_points=50, mean_noise=0, sigma_noise=1, size=1):\n",
    "    data = []\n",
    "    for i in range(num_points):\n",
    "        data.append(random_y_kx(mean_noise=mean_noise, sigma_noise=sigma_noise, size=size)) \n",
    "    _x = []\n",
    "    _y = []\n",
    "    for i in data:\n",
    "        _x.append(i[0][0])\n",
    "        _y.append(i[1][0])\n",
    "\n",
    "    plot_xy(_x, _y)"
   ]
  },
  {
   "cell_type": "code",
   "execution_count": 95,
   "metadata": {},
   "outputs": [
    {
     "data": {
      "image/png": "[encoded data removed]",
      "text/plain": [
       "<Figure size 432x288 with 1 Axes>"
      ]
     },
     "metadata": {
      "needs_background": "light"
     },
     "output_type": "display_data"
    }
   ],
   "source": [
    "plot_sample(sigma_noise=1000)"
   ]
  },
  {
   "cell_type": "markdown",
   "metadata": {},
   "source": [
    "Some questions to consider:\n",
    "\n",
    "* What happens when you increase the standard deviation of the noise distribution?\n",
    "* What happens when you make it really precise?"
   ]
  },
  {
   "cell_type": "markdown",
   "metadata": {},
   "source": [
    "## Modelling with Simulated Data\n",
    "\n",
    "Now that we have our data, it's time to create a model that will tell us some new information. In particular, we would like to know the optimal mathematical relationship that fits our data. Since we can see our data is more or less linear (educated guess, something we'd likely be doing with real-world data as well), we can try a simple linear regression model.\n",
    "\n",
    "Linear regression is often used to model data that is assumed to have a linear relationship. While very simple, linear regression is quite good at finding a linear relationship when our data has random Gaussian noise (which is pretty close to what we have produced).\n",
    "\n",
    "To create a linear regression model, we can use the `scikit-learn` library."
   ]
  },
  {
   "cell_type": "code",
   "execution_count": 96,
   "metadata": {},
   "outputs": [],
   "source": [
    "model = LinearRegression()"
   ]
  },
  {
   "cell_type": "code",
   "execution_count": 97,
   "metadata": {},
   "outputs": [],
   "source": [
    "# to be able to use our data with the model, we need to convert it into numpy arrays\n",
    "x_arr = np.array(x)\n",
    "y_arr = np.array(y)"
   ]
  },
  {
   "cell_type": "code",
   "execution_count": 98,
   "metadata": {},
   "outputs": [
    {
     "data": {
      "text/html": [
       "<style>#sk-container-id-5 {color: black;background-color: white;}#sk-container-id-5 pre{padding: 0;}#sk-container-id-5 div.sk-toggleable {background-color: white;}#sk-container-id-5 label.sk-toggleable__label {cursor: pointer;display: block;width: 100%;margin-bottom: 0;padding: 0.3em;box-sizing: border-box;text-align: center;}#sk-container-id-5 label.sk-toggleable__label-arrow:before {content: \"▸\";float: left;margin-right: 0.25em;color: #696969;}#sk-container-id-5 label.sk-toggleable__label-arrow:hover:before {color: black;}#sk-container-id-5 div.sk-estimator:hover label.sk-toggleable__label-arrow:before {color: black;}#sk-container-id-5 div.sk-toggleable__content {max-height: 0;max-width: 0;overflow: hidden;text-align: left;background-color: #f0f8ff;}#sk-container-id-5 div.sk-toggleable__content pre {margin: 0.2em;color: black;border-radius: 0.25em;background-color: #f0f8ff;}#sk-container-id-5 input.sk-toggleable__control:checked~div.sk-toggleable__content {max-height: 200px;max-width: 100%;overflow: auto;}#sk-container-id-5 input.sk-toggleable__control:checked~label.sk-toggleable__label-arrow:before {content: \"▾\";}#sk-container-id-5 div.sk-estimator input.sk-toggleable__control:checked~label.sk-toggleable__label {background-color: #d4ebff;}#sk-container-id-5 div.sk-label input.sk-toggleable__control:checked~label.sk-toggleable__label {background-color: #d4ebff;}#sk-container-id-5 input.sk-hidden--visually {border: 0;clip: rect(1px 1px 1px 1px);clip: rect(1px, 1px, 1px, 1px);height: 1px;margin: -1px;overflow: hidden;padding: 0;position: absolute;width: 1px;}#sk-container-id-5 div.sk-estimator {font-family: monospace;background-color: #f0f8ff;border: 1px dotted black;border-radius: 0.25em;box-sizing: border-box;margin-bottom: 0.5em;}#sk-container-id-5 div.sk-estimator:hover {background-color: #d4ebff;}#sk-container-id-5 div.sk-parallel-item::after {content: \"\";width: 100%;border-bottom: 1px solid gray;flex-grow: 1;}#sk-container-id-5 div.sk-label:hover label.sk-toggleable__label {background-color: #d4ebff;}#sk-container-id-5 div.sk-serial::before {content: \"\";position: absolute;border-left: 1px solid gray;box-sizing: border-box;top: 0;bottom: 0;left: 50%;z-index: 0;}#sk-container-id-5 div.sk-serial {display: flex;flex-direction: column;align-items: center;background-color: white;padding-right: 0.2em;padding-left: 0.2em;position: relative;}#sk-container-id-5 div.sk-item {position: relative;z-index: 1;}#sk-container-id-5 div.sk-parallel {display: flex;align-items: stretch;justify-content: center;background-color: white;position: relative;}#sk-container-id-5 div.sk-item::before, #sk-container-id-5 div.sk-parallel-item::before {content: \"\";position: absolute;border-left: 1px solid gray;box-sizing: border-box;top: 0;bottom: 0;left: 50%;z-index: -1;}#sk-container-id-5 div.sk-parallel-item {display: flex;flex-direction: column;z-index: 1;position: relative;background-color: white;}#sk-container-id-5 div.sk-parallel-item:first-child::after {align-self: flex-end;width: 50%;}#sk-container-id-5 div.sk-parallel-item:last-child::after {align-self: flex-start;width: 50%;}#sk-container-id-5 div.sk-parallel-item:only-child::after {width: 0;}#sk-container-id-5 div.sk-dashed-wrapped {border: 1px dashed gray;margin: 0 0.4em 0.5em 0.4em;box-sizing: border-box;padding-bottom: 0.4em;background-color: white;}#sk-container-id-5 div.sk-label label {font-family: monospace;font-weight: bold;display: inline-block;line-height: 1.2em;}#sk-container-id-5 div.sk-label-container {text-align: center;}#sk-container-id-5 div.sk-container {/* jupyter's `normalize.less` sets `[hidden] { display: none; }` but bootstrap.min.css set `[hidden] { display: none !important; }` so we also need the `!important` here to be able to override the default hidden behavior on the sphinx rendered scikit-learn.org. See: https://github.com/scikit-learn/scikit-learn/issues/21755 */display: inline-block !important;position: relative;}#sk-container-id-5 div.sk-text-repr-fallback {display: none;}</style><div id=\"sk-container-id-5\" class=\"sk-top-container\"><div class=\"sk-text-repr-fallback\"><pre>LinearRegression()</pre><b>In a Jupyter environment, please rerun this cell to show the HTML representation or trust the notebook. <br />On GitHub, the HTML representation is unable to render, please try loading this page with nbviewer.org.</b></div><div class=\"sk-container\" hidden><div class=\"sk-item\"><div class=\"sk-estimator sk-toggleable\"><input class=\"sk-toggleable__control sk-hidden--visually\" id=\"sk-estimator-id-5\" type=\"checkbox\" checked><label for=\"sk-estimator-id-5\" class=\"sk-toggleable__label sk-toggleable__label-arrow\">LinearRegression</label><div class=\"sk-toggleable__content\"><pre>LinearRegression()</pre></div></div></div></div></div>"
      ],
      "text/plain": [
       "LinearRegression()"
      ]
     },
     "execution_count": 98,
     "metadata": {},
     "output_type": "execute_result"
    }
   ],
   "source": [
    "model.fit(x_arr.reshape(-1, 1), y_arr.reshape(-1, 1))"
   ]
  },
  {
   "cell_type": "markdown",
   "metadata": {},
   "source": [
    "We can now evaluate our model using a score function. For simple linear regression, it is common to use the $R^2$ score function (also called the \"coefficient of determination\"). The $R^2$ score function tells us how predictable our `y` data is given `x` by considering the variance of the data distribution."
   ]
  },
  {
   "cell_type": "code",
   "execution_count": 99,
   "metadata": {},
   "outputs": [
    {
     "name": "stdout",
     "output_type": "stream",
     "text": [
      "Coefficient of determination: 0.9767678070877067\n",
      "Intercept: -0.04887248392029221\n",
      "Slope: 0.9831121174267548\n"
     ]
    }
   ],
   "source": [
    "r_sq = model.score(x_arr.reshape(-1, 1), y_arr.reshape(-1, 1))\n",
    "print(f\"Coefficient of determination: {r_sq}\")\n",
    "print(f\"Intercept: {model.intercept_[0]}\")\n",
    "print(f\"Slope: {model.coef_[0][0]}\")"
   ]
  },
  {
   "cell_type": "markdown",
   "metadata": {},
   "source": [
    "In this case, the model seems to fit really well to our synthetic data. Some ideas for experimentation:\n",
    "* What happens to the coefficient of determination when we add more noise parameters to our data generating function? (Consider adding `k` to the function explicitly and sample from a normal distribution)\n",
    "* How does changing $\\eta$ change the results of our linear regression model?"
   ]
  },
  {
   "cell_type": "markdown",
   "metadata": {},
   "source": [
    "## Non-linear regression\n",
    "\n",
    "The above can be considered the very simplest example of data science possible, since we're really just fitting a line to linear data. Let's make this task a bit more challenging and consider the force-distance relationship in Coulomb's law."
   ]
  },
  {
   "cell_type": "markdown",
   "metadata": {},
   "source": [
    "As before, we'll develop a data generating function that we can use to create a synthetic dataset of force-distance values. In this case, the relation we'll be modeling is $y=\\frac{k}{x^2}$, where $k$ represents the constant product of charges (and the Coulomb constant), and $x$ represents the separation between charges."
   ]
  },
  {
   "cell_type": "code",
   "execution_count": 119,
   "metadata": {},
   "outputs": [
    {
     "data": {
      "image/png": "[encoded data removed]",
      "text/plain": [
       "<Figure size 432x288 with 1 Axes>"
      ]
     },
     "metadata": {
      "needs_background": "light"
     },
     "output_type": "display_data"
    }
   ],
   "source": [
    "def random_y_kx2(mean_x=0, sigma_x=1, mean_noise=0, sigma_noise=1, size=1, k=1):\n",
    "    x = np.abs(np.random.normal(mean_x, sigma_x, size))\n",
    "    noise = np.random.normal(mean_noise, sigma_noise, size)\n",
    "    y = k * (x**(-2)) + noise\n",
    "    return x, y\n",
    "\n",
    "data = []\n",
    "for i in range(50):\n",
    "    data.append(random_y_kx2(sigma_noise=0.2))\n",
    "    \n",
    "x = []\n",
    "y = []\n",
    "for i in data:\n",
    "    x.append(i[0][0])\n",
    "    y.append(i[1][0])\n",
    "\n",
    "plot_xy(x, y, title=\"$y=\\frac{k}{x^2}+\\eta$ with $\\sigma_{\\eta}=0.2$\", xlabel=\"$x$\", ylabel=\"$y$\")"
   ]
  },
  {
   "cell_type": "markdown",
   "metadata": {},
   "source": [
    "We can see that our data is clearly not linear, so linear regression is probably not the best choice of a model. The options here are as follows: either we find a different model that can handle non-linear data or we can do some data processing to make it better suited for a linear model. Here, we're going to take the latter approach."
   ]
  },
  {
   "cell_type": "code",
   "execution_count": 120,
   "metadata": {},
   "outputs": [],
   "source": [
    "x_transformed = np.c_[1 / np.square(x)]"
   ]
  },
  {
   "cell_type": "code",
   "execution_count": 121,
   "metadata": {},
   "outputs": [
    {
     "data": {
      "image/png": "[encoded data removed]",
      "text/plain": [
       "<Figure size 432x288 with 1 Axes>"
      ]
     },
     "metadata": {
      "needs_background": "light"
     },
     "output_type": "display_data"
    }
   ],
   "source": [
    "plot_xy(x_transformed, y, title=\"$y=\\frac{k}{x^2}+\\eta$ with $\\sigma_{\\eta}=0.2$\", xlabel=\"$x$\", ylabel=\"$y$\")"
   ]
  },
  {
   "cell_type": "markdown",
   "metadata": {},
   "source": [
    "Here, we have essentially inverted the generated `x` to linearize the relationship between `x` and `y`. In doing so, we made it possible to use the same linear regression model to analyse the relationship between `y` and `x`. Note that we used the knowledge of Coulomb's law to make this linearization, so this would not be so easy if you didn't know the law that generated your data in real-world experiments, however, if the data looks something like that used in this notebook, a simple guess and subsequent trial and error can get you a long way towards better understanding your data."
   ]
  },
  {
   "cell_type": "code",
   "execution_count": 122,
   "metadata": {},
   "outputs": [],
   "source": [
    "x_arr = np.array(x_transformed)\n",
    "y_arr = np.array(y)"
   ]
  },
  {
   "cell_type": "code",
   "execution_count": 123,
   "metadata": {},
   "outputs": [
    {
     "name": "stdout",
     "output_type": "stream",
     "text": [
      "Coefficient of determination: 0.9999999974952841\n",
      "Intercept: 0.013232184287971904\n",
      "Slope: 0.9999848813211937\n"
     ]
    }
   ],
   "source": [
    "model = LinearRegression()\n",
    "model.fit(x_arr.reshape(-1, 1), y_arr.reshape(-1, 1))\n",
    "r_sq = model.score(x_arr.reshape(-1, 1), y_arr.reshape(-1, 1))\n",
    "print(f\"Coefficient of determination: {r_sq}\")\n",
    "print(f\"Intercept: {model.intercept_[0]}\")\n",
    "print(f\"Slope: {model.coef_[0][0]}\")"
   ]
  },
  {
   "attachments": {},
   "cell_type": "markdown",
   "metadata": {},
   "source": [
    "If you wish to get an overview of the remaining topics in this course, click the button below.\n",
    "\n",
    "[![Back to main website](../media/back4.png)](https://physdata.vercel.app/)\n"
   ]
  },
  {
   "cell_type": "code",
   "execution_count": null,
   "metadata": {},
   "outputs": [],
   "source": []
  }
 ],
 "metadata": {
  "kernelspec": {
   "display_name": "Python 3",
   "language": "python",
   "name": "python3"
  },
  "language_info": {
   "codemirror_mode": {
    "name": "ipython",
    "version": 3
   },
   "file_extension": ".py",
   "mimetype": "text/x-python",
   "name": "python",
   "nbconvert_exporter": "python",
   "pygments_lexer": "ipython3",
   "version": "3.8.13"
  },
  "vscode": {
   "interpreter": {
    "hash": "9e7cdc26c5a212bb4dc4cdbab80bf6df3ceb87a47e86b5b5f59b21563684544d"
   }
  }
 },
 "nbformat": 4,
 "nbformat_minor": 4
}
