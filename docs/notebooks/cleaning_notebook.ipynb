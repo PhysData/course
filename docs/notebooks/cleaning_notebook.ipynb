{
 "cells": [
  {
   "attachments": {},
   "cell_type": "markdown",
   "id": "19871d36",
   "metadata": {},
   "source": [
    "# Data Cleaning\n",
    "\n",
    "[![Open in Colab](https://colab.research.google.com/assets/colab-badge.svg)](https://colab.research.google.com/github/PhysData/course/blob/main/docs/notebooks/cleaning_notebook.ipynb)\n",
    "\n",
    "If you're running this in Colab, make sure to save a copy of the notebook in Google Drive to save your changes.\n",
    "\n",
    "Here You will learn some techniques to use pandas to clean a dataset. We will use data from the Extrasolar planet encyclopedia which is structured within a csv file. It is very messy as it comes from different sources.\n",
    "Our task will be to clean and filter everything to get a comprehensive dataframe. The questions we will be trying to answer are: How does the mass of the planets correlates with their radius? What does this tells us about the planets' compositions?\n",
    "\n",
    "Check out the appendix at the end for a different way of organising the dataset to answer a different set of questions!"
   ]
  },
  {
   "cell_type": "code",
   "execution_count": null,
   "id": "1cfe2fb9",
   "metadata": {},
   "outputs": [],
   "source": [
    "# If you're running this notebook, uncomment the code in this cell to install the required packages.\n",
    "# ! pip install pandas\n",
    "# ! pip install seaborn\n",
    "# ! pip install matplotlib\n",
    "# ! pip install numpy"
   ]
  },
  {
   "cell_type": "code",
   "execution_count": 1,
   "id": "dc21b59b",
   "metadata": {},
   "outputs": [],
   "source": [
    "import pandas as pd\n",
    "import matplotlib as plt\n",
    "import seaborn as sb\n",
    "import numpy as np"
   ]
  },
  {
   "attachments": {},
   "cell_type": "markdown",
   "id": "ed750dd6",
   "metadata": {},
   "source": [
    "## 1. Loading the csv file and looking at the uncleaned data "
   ]
  },
  {
   "cell_type": "code",
   "execution_count": 6,
   "id": "3eb5df2f",
   "metadata": {},
   "outputs": [
    {
     "name": "stdout",
     "output_type": "stream",
     "text": [
      "                    # name planet_status   mass  mass_error_min  \\\n",
      "0    OGLE-2016-BLG-1469L b     Confirmed  13.60            3.00   \n",
      "1                 11 Com b     Confirmed  19.40            1.50   \n",
      "2                 11 Oph b     Confirmed  21.00            3.00   \n",
      "3                 11 UMi b     Confirmed  10.50            2.47   \n",
      "4                 14 And b     Confirmed   5.33            0.57   \n",
      "5                 14 Her b     Confirmed   4.64            0.19   \n",
      "6               16 Cyg B b     Confirmed   1.68            0.07   \n",
      "7                 18 Del b     Confirmed  10.30             NaN   \n",
      "8               1I/2017 U1     Confirmed    NaN             NaN   \n",
      "9              1RXS 1609 b     Confirmed  14.00            3.00   \n",
      "10          1SWASP J1407 b     Confirmed  20.00            6.00   \n",
      "11                24 Sex b     Confirmed   1.99            0.38   \n",
      "12                24 Sex c     Confirmed   0.86            0.22   \n",
      "13       2M 0103-55 (AB) b     Confirmed  13.00            1.00   \n",
      "14            2M 0122-24 b     Confirmed  20.00            7.00   \n",
      "15            2M 0219-39 b     Confirmed  13.90            1.10   \n",
      "16            2M 0441+23 b     Confirmed   7.50            2.50   \n",
      "17            2M 0746+20 b     Confirmed  30.00           25.00   \n",
      "18              2M 1207-39     Confirmed  24.00            6.00   \n",
      "19            2M 1207-39 b     Confirmed   4.00            1.00   \n",
      "\n",
      "    mass_error_max  mass_sini  mass_sini_error_min  mass_sini_error_max  \\\n",
      "0             3.00        NaN                  NaN                  NaN   \n",
      "1             1.50      19.40                 1.50                 1.50   \n",
      "2             3.00        NaN                  NaN                  NaN   \n",
      "3             2.47      10.50                 2.47                 2.47   \n",
      "4             0.57       5.33                 0.57                 0.57   \n",
      "5             0.19       4.64                 0.19                 0.19   \n",
      "6             0.07       1.68                 0.07                 0.07   \n",
      "7              NaN      10.30                  NaN                  NaN   \n",
      "8              NaN        NaN                  NaN                  NaN   \n",
      "9             2.00        NaN                  NaN                  NaN   \n",
      "10            6.00      20.00                 6.00                 6.00   \n",
      "11            0.26       1.99                 0.38                 0.26   \n",
      "12            0.35       0.86                 0.22                 0.35   \n",
      "13            1.00        NaN                  NaN                  NaN   \n",
      "14            7.00        NaN                  NaN                  NaN   \n",
      "15            1.10        NaN                  NaN                  NaN   \n",
      "16            2.50        NaN                  NaN                  NaN   \n",
      "17           25.00        NaN                  NaN                  NaN   \n",
      "18            6.00        NaN                  NaN                  NaN   \n",
      "19            1.00        NaN                  NaN                  NaN   \n",
      "\n",
      "      radius  radius_error_min  ...  star_sp_type  star_age  \\\n",
      "0        NaN               NaN  ...           NaN       NaN   \n",
      "1        NaN               NaN  ...        G8 III       NaN   \n",
      "2        NaN               NaN  ...            M9     0.011   \n",
      "3        NaN               NaN  ...         K4III     1.560   \n",
      "4        NaN               NaN  ...         K0III       NaN   \n",
      "5        NaN               NaN  ...          K0 V     5.100   \n",
      "6        NaN               NaN  ...        G2.5 V     8.000   \n",
      "7        NaN               NaN  ...         G6III       NaN   \n",
      "8   0.000002               NaN  ...           NaN       NaN   \n",
      "9   1.700000               NaN  ...           K7V     0.011   \n",
      "10       NaN               NaN  ...           NaN     0.016   \n",
      "11       NaN               NaN  ...            G5     2.700   \n",
      "12       NaN               NaN  ...            G5     2.700   \n",
      "13       NaN               NaN  ...             M     0.030   \n",
      "14  1.000000              0.20  ...          M3.5     0.120   \n",
      "15  1.440000              0.03  ...            M6       NaN   \n",
      "16       NaN               NaN  ...          M8.5     0.001   \n",
      "17  0.970000              0.06  ...           NaN       NaN   \n",
      "18       NaN               NaN  ...            M8     0.008   \n",
      "19       NaN               NaN  ...            M8     0.008   \n",
      "\n",
      "    star_age_error_min  star_age_error_max  star_teff  star_teff_error_min  \\\n",
      "0                  NaN                 NaN        NaN                  NaN   \n",
      "1                  NaN                 NaN     4742.0                100.0   \n",
      "2                0.002               0.002     2375.0                175.0   \n",
      "3                0.540               0.540     4340.0                 70.0   \n",
      "4                  NaN                 NaN     4813.0                 20.0   \n",
      "5                  NaN                 NaN     5311.0                 87.0   \n",
      "6                1.800               1.800     5766.0                 60.0   \n",
      "7                  NaN                 NaN     4979.0                 18.0   \n",
      "8                  NaN                 NaN        NaN                  NaN   \n",
      "9                0.002               0.002     4060.0                200.0   \n",
      "10                 NaN                 NaN     4400.0                100.0   \n",
      "11               0.400               0.400     5098.0                 44.0   \n",
      "12               0.400               0.400     5098.0                 44.0   \n",
      "13                 NaN                 NaN        NaN                  NaN   \n",
      "14               0.010               0.010        NaN                  NaN   \n",
      "15                 NaN                 NaN     3064.0                 76.0   \n",
      "16                 NaN                 NaN        NaN                  NaN   \n",
      "17                 NaN                 NaN     2205.0                 50.0   \n",
      "18               0.003               0.003        NaN                  NaN   \n",
      "19               0.003               0.003        NaN                  NaN   \n",
      "\n",
      "    star_teff_error_max  star_detected_disc  star_magnetic_field  \\\n",
      "0                   NaN                 NaN                  NaN   \n",
      "1                 100.0                 NaN                  NaN   \n",
      "2                 175.0                 NaN                  NaN   \n",
      "3                  70.0                 NaN                  NaN   \n",
      "4                  20.0                 NaN                  NaN   \n",
      "5                  87.0                 NaN                  NaN   \n",
      "6                  60.0                 NaN                  NaN   \n",
      "7                  18.0                 NaN                  NaN   \n",
      "8                   NaN                 NaN                  NaN   \n",
      "9                 200.0                 NaN                  NaN   \n",
      "10                100.0                 NaN                  NaN   \n",
      "11                 44.0                 NaN                  NaN   \n",
      "12                 44.0                 NaN                  NaN   \n",
      "13                  NaN                 NaN                  NaN   \n",
      "14                  NaN                 NaN                  NaN   \n",
      "15                 76.0                 NaN                  NaN   \n",
      "16                  NaN                 NaN                  NaN   \n",
      "17                 50.0                 NaN                  NaN   \n",
      "18                  NaN                 NaN                  NaN   \n",
      "19                  NaN                 NaN                  NaN   \n",
      "\n",
      "      star_alternate_names  \n",
      "0                      NaN  \n",
      "1                      NaN  \n",
      "2                      NaN  \n",
      "3                      NaN  \n",
      "4                      NaN  \n",
      "5                      NaN  \n",
      "6                      NaN  \n",
      "7                      NaN  \n",
      "8                      NaN  \n",
      "9                      NaN  \n",
      "10                     NaN  \n",
      "11                     NaN  \n",
      "12                     NaN  \n",
      "13                     NaN  \n",
      "14                     NaN  \n",
      "15  2MASS J0292210-3925225  \n",
      "16                     NaN  \n",
      "17                     NaN  \n",
      "18                     NaN  \n",
      "19                     NaN  \n",
      "\n",
      "[20 rows x 98 columns]\n",
      "Rows: 3732 ; Columns: 98\n"
     ]
    }
   ],
   "source": [
    "kepler_base = pd.read_csv('C:/Users/druit/Desktop/Uni Documents/Modules year 3/Physics in Society/Project/kepler.csv')\n",
    "\n",
    "\n",
    "\n",
    "###########STEP 1: INITIAL LOOK\n",
    "\n",
    "#looking at the first 20 rows of data and getting the total size of the dataset\n",
    "print(kepler_base.head(20))\n",
    "print(f'Rows: {kepler_base.shape[0]} ; Columns: {kepler_base.shape[1]}')"
   ]
  },
  {
   "cell_type": "code",
   "execution_count": 5,
   "id": "01e33881",
   "metadata": {},
   "outputs": [
    {
     "name": "stdout",
     "output_type": "stream",
     "text": [
      "['# name', 'planet_status', 'mass', 'mass_error_min', 'mass_error_max', 'mass_sini', 'mass_sini_error_min', 'mass_sini_error_max', 'radius', 'radius_error_min', 'radius_error_max', 'orbital_period', 'orbital_period_error_min', 'orbital_period_error_max', 'semi_major_axis', 'semi_major_axis_error_min', 'semi_major_axis_error_max', 'eccentricity', 'eccentricity_error_min', 'eccentricity_error_max', 'inclination', 'inclination_error_min', 'inclination_error_max', 'angular_distance', 'discovered', 'updated', 'omega', 'omega_error_min', 'omega_error_max', 'tperi', 'tperi_error_min', 'tperi_error_max', 'tconj', 'tconj_error_min', 'tconj_error_max', 'tzero_tr', 'tzero_tr_error_min', 'tzero_tr_error_max', 'tzero_tr_sec', 'tzero_tr_sec_error_min', 'tzero_tr_sec_error_max', 'lambda_angle', 'lambda_angle_error_min', 'lambda_angle_error_max', 'impact_parameter', 'impact_parameter_error_min', 'impact_parameter_error_max', 'tzero_vr', 'tzero_vr_error_min', 'tzero_vr_error_max', 'k', 'k_error_min', 'k_error_max', 'temp_calculated', 'temp_calculated_error_min', 'temp_calculated_error_max', 'temp_measured', 'hot_point_lon', 'geometric_albedo', 'geometric_albedo_error_min', 'geometric_albedo_error_max', 'log_g', 'publication_status', 'detection_type', 'mass_detection_type', 'radius_detection_type', 'alternate_names', 'molecules', 'star_name', 'ra', 'dec', 'mag_v', 'mag_i', 'mag_j', 'mag_h', 'mag_k', 'star_distance', 'star_distance_error_min', 'star_distance_error_max', 'star_metallicity', 'star_metallicity_error_min', 'star_metallicity_error_max', 'star_mass', 'star_mass_error_min', 'star_mass_error_max', 'star_radius', 'star_radius_error_min', 'star_radius_error_max', 'star_sp_type', 'star_age', 'star_age_error_min', 'star_age_error_max', 'star_teff', 'star_teff_error_min', 'star_teff_error_max', 'star_detected_disc', 'star_magnetic_field', 'star_alternate_names']\n"
     ]
    }
   ],
   "source": [
    "#getting the names of the different columns\n",
    "print(list(kepler_base.columns))"
   ]
  },
  {
   "cell_type": "markdown",
   "id": "38e5142f",
   "metadata": {},
   "source": []
  },
  {
   "attachments": {},
   "cell_type": "markdown",
   "id": "f0edf8c5",
   "metadata": {},
   "source": [
    "## Starting the data cleaning"
   ]
  },
  {
   "cell_type": "code",
   "execution_count": null,
   "id": "29fae80d",
   "metadata": {},
   "outputs": [],
   "source": []
  },
  {
   "cell_type": "markdown",
   "id": "1e19304d",
   "metadata": {},
   "source": [
    "Start by creating a list of columns that you want to drop.For example we don't really need the error columns for what we want to do. They might have been needed if we have different questions to resolve. For example, had one of the questions been about the link between detection methods used and the success rate we would have wanted to keep these columns as they would have provided info on the apparatus used. We will use several methods for deciding which columns to discard:\n",
    "\n",
    "        - Some columns such as the 'error' ones are not of interest to us. We will discard them by identifying that they all have the word 'error' within their title.\n",
    "        - Some columns have not got information within them (every row has the same answer or is empty)\n",
    "        - Some columns have information, but not enough for it to be interesting.\n",
    "        - Some columns won't be useful in answering the question and we will manually select them\n",
    "        \n",
    "We will use the function df.drop()"
   ]
  },
  {
   "cell_type": "code",
   "execution_count": 14,
   "id": "16d5ccd2",
   "metadata": {},
   "outputs": [],
   "source": [
    "#list of column names in dataset\n",
    "column_name = kepler_base.columns\n",
    "\n",
    "#list of columns to drop\n",
    "columns_drop = []\n",
    "\n",
    "\n",
    "#first round: dropping the error columns\n",
    "for col in column_name:\n",
    "    if 'error' in col:\n",
    "        columns_drop.append(col)\n",
    "\n",
    "kepler_drop = kepler_base.drop(columns= columns_drop)"
   ]
  },
  {
   "cell_type": "markdown",
   "id": "810480aa",
   "metadata": {},
   "source": [
    "We notice that some rows have infinite values. This doesn't give us any more information than nan values so for ease of reading we will transform these inf values into nan ones. It will enable us to quickly indentify null cells. This will also be useful for the next steps where we want to look at the number of individual values a column has."
   ]
  },
  {
   "cell_type": "code",
   "execution_count": 15,
   "id": "edd5820e",
   "metadata": {},
   "outputs": [],
   "source": [
    "def transfer_inf(df):\n",
    "    for column in df:\n",
    "        infinities = (df[column] == np.inf)\n",
    "        if infinities.sum() > 0:\n",
    "            df.loc[infinities, column] = 'nan'\n",
    "\n",
    "    return df\n",
    "\n",
    "kepler_drop = transfer_inf(kepler_drop)"
   ]
  },
  {
   "cell_type": "code",
   "execution_count": 7,
   "id": "ad16d6c6",
   "metadata": {},
   "outputs": [
    {
     "name": "stdout",
     "output_type": "stream",
     "text": [
      "['Confirmed']\n"
     ]
    }
   ],
   "source": [
    "#looking at the data there seem to be some columns that do not provide any interesting information (example: planet status). \n",
    "#We can look at the different values in these columns and see whether they are all the same or not.\n",
    "print(kepler_base['planet_status'].unique())"
   ]
  },
  {
   "cell_type": "markdown",
   "id": "a777f1c2",
   "metadata": {},
   "source": [
    "As all stars have the same status we are not getting any additional information from this column. We cannot individually look at all columns to see the number of unique values they have. The snippet of code below will select all columns that have only 1 singular value."
   ]
  },
  {
   "cell_type": "code",
   "execution_count": 16,
   "id": "6f29b0f3",
   "metadata": {},
   "outputs": [],
   "source": [
    "singular = []\n",
    "for col in kepler_base:\n",
    "    list = kepler_base[col]\n",
    "\n",
    "    if len(list.unique()) < 2:\n",
    "        #print(col)\n",
    "        singular.append(col)\n",
    "        #print(list.unique())\n",
    "\n",
    "kepler_drop=kepler_drop.drop(columns= singular)"
   ]
  },
  {
   "cell_type": "markdown",
   "id": "56930e7a",
   "metadata": {},
   "source": [
    "looking at the columns we see that the descriptive ones (such as the star's name) will not be of any use to us. Because they do not have any attributes in common we need to manually decide which ones we want to remove."
   ]
  },
  {
   "cell_type": "code",
   "execution_count": 17,
   "id": "bb1c9ede",
   "metadata": {},
   "outputs": [],
   "source": [
    "descriptivecol = ['# name', 'publication_status', 'alternate_names', 'star_name', 'star_alternate_names', \n",
    "                  'radius_detection_type', 'mass_detection_type', 'detection_type', 'log_g', 'star_sp_type', \n",
    "                  'star_detected_disc', 'star_magnetic_field','updated', 'discovered']\n",
    "\n",
    "kepler_drop = kepler_drop.drop(columns = descriptivecol)"
   ]
  },
  {
   "cell_type": "markdown",
   "id": "cece6d35",
   "metadata": {},
   "source": [
    "Some columns also seem to not have many values in them. If less than 30% of a column is filled, we can drop it as it won't give a good representation of reality. We need to find a way to calculate the number of filled values in a column. We do this by getting the percentage of nan within a column.\n"
   ]
  },
  {
   "cell_type": "code",
   "execution_count": 18,
   "id": "0111ebf3",
   "metadata": {},
   "outputs": [],
   "source": [
    "# function to drop columns based off of their percentage of nan values. Notice that here the percentage relates to the null \n",
    "# values and not the valid ones\n",
    "def drop_percentage(df, perc):\n",
    "    lowperc = []\n",
    "\n",
    "    for col in df:\n",
    "        na_num = df[col].isnull().sum(skipna=False)\n",
    "        #print(na_num)\n",
    "        colperc = (na_num/df.shape[0])*100\n",
    "        if colperc > perc and col !='molecules':\n",
    "            #print(f'column: {col}, percentage: {colperc}')\n",
    "            lowperc.append(col)\n",
    "    #print(lowperc)\n",
    "\n",
    "    df=df.drop(columns=lowperc)\n",
    "    #print(df.columns)\n",
    "    return df\n",
    "\n",
    "kepler_drop= drop_percentage(kepler_drop, 70)"
   ]
  },
  {
   "cell_type": "markdown",
   "id": "3e9518af",
   "metadata": {},
   "source": [
    "We can now look at what the dataset looks like. We notice that there are now less columns. With 17 columns are dataset has become manageable whilst still having enough details to gather some interesting graphs. This is the perfect spot to save our cleaned csv file under a new name using the to_csv function. We then take our main dataframe to be this cleaned one with the usual read_csv function."
   ]
  },
  {
   "cell_type": "code",
   "execution_count": 19,
   "id": "ffb22d24",
   "metadata": {},
   "outputs": [
    {
     "name": "stdout",
     "output_type": "stream",
     "text": [
      "    mass    radius  orbital_period  semi_major_axis  eccentricity   molecules  \\\n",
      "0  13.60       NaN             NaN             0.33           NaN         NaN   \n",
      "1  19.40       NaN          326.03             1.29         0.231         NaN   \n",
      "2  21.00       NaN       730000.00           243.00           NaN         NaN   \n",
      "3  10.50       NaN          516.22             1.54         0.080         NaN   \n",
      "4   5.33       NaN          185.84             0.83         0.000         NaN   \n",
      "5   4.64       NaN         1773.40             2.77         0.369         NaN   \n",
      "6   1.68       NaN          799.50             1.68         0.689         NaN   \n",
      "7  10.30       NaN          993.30             2.60         0.080         NaN   \n",
      "8    NaN  0.000002             NaN              NaN         1.196         NaN   \n",
      "9  14.00  1.700000             NaN           330.00           NaN  H2O, CO, K   \n",
      "\n",
      "           ra        dec  mag_v  mag_j  mag_h  mag_k  star_distance  \\\n",
      "0  271.945750 -26.289889    NaN    NaN    NaN    NaN        4500.00   \n",
      "1  185.179167  17.792778   4.74    NaN    NaN    NaN         110.60   \n",
      "2  245.604167 -24.087222    NaN    NaN    NaN  14.03         145.00   \n",
      "3  229.275000  71.823889   5.02    NaN    NaN    NaN         119.50   \n",
      "4  352.820833  39.236111   5.22   3.02   2.61   2.33          76.40   \n",
      "5  242.595833  43.821667   6.67    NaN    NaN    NaN          18.10   \n",
      "6  295.462500  50.517500   6.20    NaN    NaN    NaN          21.41   \n",
      "7  314.608333  10.839167   5.52   4.03   3.44   3.67          73.10   \n",
      "8    0.000000   0.000000    NaN    NaN    NaN    NaN            NaN   \n",
      "9  242.375000 -21.082778    NaN   9.82   9.12   8.92         145.00   \n",
      "\n",
      "   star_metallicity  star_mass  star_radius  star_teff  \n",
      "0               NaN     0.0480          NaN        NaN  \n",
      "1            -0.350     2.7000       19.000     4742.0  \n",
      "2               NaN     0.0162          NaN     2375.0  \n",
      "3             0.040     1.8000       24.080     4340.0  \n",
      "4            -0.240     2.2000       11.000     4813.0  \n",
      "5             0.430     0.9000        0.708     5311.0  \n",
      "6             0.080     1.0100        0.980     5766.0  \n",
      "7            -0.052     2.3000        8.500     4979.0  \n",
      "8               NaN     1.0000        1.000        NaN  \n",
      "9               NaN     0.7300        1.350     4060.0  \n",
      "number of columns: 17\n"
     ]
    }
   ],
   "source": [
    "print(kepler_drop.head(10))\n",
    "print(f'number of columns: {kepler_drop.shape[1]}')\n",
    "kepler_drop.to_csv('C:/Users/druit/Desktop/Uni Documents/Modules year 3/Physics in Society/Project/kepler_cleaned.csv', index = False)"
   ]
  },
  {
   "attachments": {},
   "cell_type": "markdown",
   "id": "13e0405b",
   "metadata": {},
   "source": [
    "If you wish to get an overview of the remaining topics in this course, click the button below.\n",
    "\n",
    "[![Back to main website](../media/back4.png)](https://physdata.vercel.app/)"
   ]
  }
 ],
 "metadata": {
  "kernelspec": {
   "display_name": "deeplr",
   "language": "python",
   "name": "python3"
  },
  "language_info": {
   "codemirror_mode": {
    "name": "ipython",
    "version": 3
   },
   "file_extension": ".py",
   "mimetype": "text/x-python",
   "name": "python",
   "nbconvert_exporter": "python",
   "pygments_lexer": "ipython3",
   "version": "3.8.13"
  },
  "vscode": {
   "interpreter": {
    "hash": "9e7cdc26c5a212bb4dc4cdbab80bf6df3ceb87a47e86b5b5f59b21563684544d"
   }
  }
 },
 "nbformat": 4,
 "nbformat_minor": 5
}
