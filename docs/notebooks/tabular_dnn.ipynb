{
 "cells": [
  {
   "attachments": {},
   "cell_type": "markdown",
   "id": "cff08a59",
   "metadata": {},
   "source": [
    "# Using a Deep Neural Network for Quark Tagging\n",
    "\n",
    "[![Open in Colab](https://colab.research.google.com/assets/colab-badge.svg)](https://colab.research.google.com/github/PhysData/course/blob/main/docs/notebooks/tabular_dnn.ipynb)\n",
    "\n",
    "In this notebook, we're going to explore the use of Deep Neural Networks (DNN) in particle physics, particularly in the task of quark tagging. The goal of this notebook is to create a simple model that can classify whether a jet represents a top-quark signal or a quark-gluon background.\n",
    "\n",
    "The dataset used in this notebook is the open-source [Top Quark Tagging](https://huggingface.co/datasets/dl4phys/top_tagging) dataset produced from simulations of proton-proton collisions."
   ]
  },
  {
   "cell_type": "code",
   "execution_count": 1,
   "id": "bde8b3de-2efb-4c15-a4b6-b2861ef3c3d1",
   "metadata": {},
   "outputs": [],
   "source": [
    "from datasets import load_dataset\n",
    "from fastai.tabular.all import *\n",
    "from scipy.interpolate import interp1d\n",
    "from sklearn.metrics import accuracy_score, auc, roc_curve"
   ]
  },
  {
   "cell_type": "markdown",
   "id": "19a45d9d",
   "metadata": {},
   "source": [
    "## Downloading the dataset\n",
    "\n",
    "First, let's download and inspect the dataset."
   ]
  },
  {
   "cell_type": "code",
   "execution_count": null,
   "id": "a177726e-b731-4a6d-b8ba-2300d5dcac2f",
   "metadata": {},
   "outputs": [],
   "source": [
    "# If you're running this in Colab, uncomment the next line to download the dataset.\n",
    "top_tagging_ds = load_dataset(\"dl4phys/top_tagging\")"
   ]
  },
  {
   "cell_type": "code",
   "execution_count": 3,
   "id": "8be292b1-1066-408a-8dca-6d28bdb55148",
   "metadata": {
    "collapsed": true,
    "jupyter": {
     "outputs_hidden": true
    },
    "tags": []
   },
   "outputs": [
    {
     "data": {
      "text/plain": [
       "DatasetDict({\n",
       "    train: Dataset({\n",
       "        features: ['E_0', 'PX_0', 'PY_0', 'PZ_0', 'E_1', 'PX_1', 'PY_1', 'PZ_1', 'E_2', 'PX_2', 'PY_2', 'PZ_2', 'E_3', 'PX_3', 'PY_3', 'PZ_3', 'E_4', 'PX_4', 'PY_4', 'PZ_4', 'E_5', 'PX_5', 'PY_5', 'PZ_5', 'E_6', 'PX_6', 'PY_6', 'PZ_6', 'E_7', 'PX_7', 'PY_7', 'PZ_7', 'E_8', 'PX_8', 'PY_8', 'PZ_8', 'E_9', 'PX_9', 'PY_9', 'PZ_9', 'E_10', 'PX_10', 'PY_10', 'PZ_10', 'E_11', 'PX_11', 'PY_11', 'PZ_11', 'E_12', 'PX_12', 'PY_12', 'PZ_12', 'E_13', 'PX_13', 'PY_13', 'PZ_13', 'E_14', 'PX_14', 'PY_14', 'PZ_14', 'E_15', 'PX_15', 'PY_15', 'PZ_15', 'E_16', 'PX_16', 'PY_16', 'PZ_16', 'E_17', 'PX_17', 'PY_17', 'PZ_17', 'E_18', 'PX_18', 'PY_18', 'PZ_18', 'E_19', 'PX_19', 'PY_19', 'PZ_19', 'E_20', 'PX_20', 'PY_20', 'PZ_20', 'E_21', 'PX_21', 'PY_21', 'PZ_21', 'E_22', 'PX_22', 'PY_22', 'PZ_22', 'E_23', 'PX_23', 'PY_23', 'PZ_23', 'E_24', 'PX_24', 'PY_24', 'PZ_24', 'E_25', 'PX_25', 'PY_25', 'PZ_25', 'E_26', 'PX_26', 'PY_26', 'PZ_26', 'E_27', 'PX_27', 'PY_27', 'PZ_27', 'E_28', 'PX_28', 'PY_28', 'PZ_28', 'E_29', 'PX_29', 'PY_29', 'PZ_29', 'E_30', 'PX_30', 'PY_30', 'PZ_30', 'E_31', 'PX_31', 'PY_31', 'PZ_31', 'E_32', 'PX_32', 'PY_32', 'PZ_32', 'E_33', 'PX_33', 'PY_33', 'PZ_33', 'E_34', 'PX_34', 'PY_34', 'PZ_34', 'E_35', 'PX_35', 'PY_35', 'PZ_35', 'E_36', 'PX_36', 'PY_36', 'PZ_36', 'E_37', 'PX_37', 'PY_37', 'PZ_37', 'E_38', 'PX_38', 'PY_38', 'PZ_38', 'E_39', 'PX_39', 'PY_39', 'PZ_39', 'E_40', 'PX_40', 'PY_40', 'PZ_40', 'E_41', 'PX_41', 'PY_41', 'PZ_41', 'E_42', 'PX_42', 'PY_42', 'PZ_42', 'E_43', 'PX_43', 'PY_43', 'PZ_43', 'E_44', 'PX_44', 'PY_44', 'PZ_44', 'E_45', 'PX_45', 'PY_45', 'PZ_45', 'E_46', 'PX_46', 'PY_46', 'PZ_46', 'E_47', 'PX_47', 'PY_47', 'PZ_47', 'E_48', 'PX_48', 'PY_48', 'PZ_48', 'E_49', 'PX_49', 'PY_49', 'PZ_49', 'E_50', 'PX_50', 'PY_50', 'PZ_50', 'E_51', 'PX_51', 'PY_51', 'PZ_51', 'E_52', 'PX_52', 'PY_52', 'PZ_52', 'E_53', 'PX_53', 'PY_53', 'PZ_53', 'E_54', 'PX_54', 'PY_54', 'PZ_54', 'E_55', 'PX_55', 'PY_55', 'PZ_55', 'E_56', 'PX_56', 'PY_56', 'PZ_56', 'E_57', 'PX_57', 'PY_57', 'PZ_57', 'E_58', 'PX_58', 'PY_58', 'PZ_58', 'E_59', 'PX_59', 'PY_59', 'PZ_59', 'E_60', 'PX_60', 'PY_60', 'PZ_60', 'E_61', 'PX_61', 'PY_61', 'PZ_61', 'E_62', 'PX_62', 'PY_62', 'PZ_62', 'E_63', 'PX_63', 'PY_63', 'PZ_63', 'E_64', 'PX_64', 'PY_64', 'PZ_64', 'E_65', 'PX_65', 'PY_65', 'PZ_65', 'E_66', 'PX_66', 'PY_66', 'PZ_66', 'E_67', 'PX_67', 'PY_67', 'PZ_67', 'E_68', 'PX_68', 'PY_68', 'PZ_68', 'E_69', 'PX_69', 'PY_69', 'PZ_69', 'E_70', 'PX_70', 'PY_70', 'PZ_70', 'E_71', 'PX_71', 'PY_71', 'PZ_71', 'E_72', 'PX_72', 'PY_72', 'PZ_72', 'E_73', 'PX_73', 'PY_73', 'PZ_73', 'E_74', 'PX_74', 'PY_74', 'PZ_74', 'E_75', 'PX_75', 'PY_75', 'PZ_75', 'E_76', 'PX_76', 'PY_76', 'PZ_76', 'E_77', 'PX_77', 'PY_77', 'PZ_77', 'E_78', 'PX_78', 'PY_78', 'PZ_78', 'E_79', 'PX_79', 'PY_79', 'PZ_79', 'E_80', 'PX_80', 'PY_80', 'PZ_80', 'E_81', 'PX_81', 'PY_81', 'PZ_81', 'E_82', 'PX_82', 'PY_82', 'PZ_82', 'E_83', 'PX_83', 'PY_83', 'PZ_83', 'E_84', 'PX_84', 'PY_84', 'PZ_84', 'E_85', 'PX_85', 'PY_85', 'PZ_85', 'E_86', 'PX_86', 'PY_86', 'PZ_86', 'E_87', 'PX_87', 'PY_87', 'PZ_87', 'E_88', 'PX_88', 'PY_88', 'PZ_88', 'E_89', 'PX_89', 'PY_89', 'PZ_89', 'E_90', 'PX_90', 'PY_90', 'PZ_90', 'E_91', 'PX_91', 'PY_91', 'PZ_91', 'E_92', 'PX_92', 'PY_92', 'PZ_92', 'E_93', 'PX_93', 'PY_93', 'PZ_93', 'E_94', 'PX_94', 'PY_94', 'PZ_94', 'E_95', 'PX_95', 'PY_95', 'PZ_95', 'E_96', 'PX_96', 'PY_96', 'PZ_96', 'E_97', 'PX_97', 'PY_97', 'PZ_97', 'E_98', 'PX_98', 'PY_98', 'PZ_98', 'E_99', 'PX_99', 'PY_99', 'PZ_99', 'E_100', 'PX_100', 'PY_100', 'PZ_100', 'E_101', 'PX_101', 'PY_101', 'PZ_101', 'E_102', 'PX_102', 'PY_102', 'PZ_102', 'E_103', 'PX_103', 'PY_103', 'PZ_103', 'E_104', 'PX_104', 'PY_104', 'PZ_104', 'E_105', 'PX_105', 'PY_105', 'PZ_105', 'E_106', 'PX_106', 'PY_106', 'PZ_106', 'E_107', 'PX_107', 'PY_107', 'PZ_107', 'E_108', 'PX_108', 'PY_108', 'PZ_108', 'E_109', 'PX_109', 'PY_109', 'PZ_109', 'E_110', 'PX_110', 'PY_110', 'PZ_110', 'E_111', 'PX_111', 'PY_111', 'PZ_111', 'E_112', 'PX_112', 'PY_112', 'PZ_112', 'E_113', 'PX_113', 'PY_113', 'PZ_113', 'E_114', 'PX_114', 'PY_114', 'PZ_114', 'E_115', 'PX_115', 'PY_115', 'PZ_115', 'E_116', 'PX_116', 'PY_116', 'PZ_116', 'E_117', 'PX_117', 'PY_117', 'PZ_117', 'E_118', 'PX_118', 'PY_118', 'PZ_118', 'E_119', 'PX_119', 'PY_119', 'PZ_119', 'E_120', 'PX_120', 'PY_120', 'PZ_120', 'E_121', 'PX_121', 'PY_121', 'PZ_121', 'E_122', 'PX_122', 'PY_122', 'PZ_122', 'E_123', 'PX_123', 'PY_123', 'PZ_123', 'E_124', 'PX_124', 'PY_124', 'PZ_124', 'E_125', 'PX_125', 'PY_125', 'PZ_125', 'E_126', 'PX_126', 'PY_126', 'PZ_126', 'E_127', 'PX_127', 'PY_127', 'PZ_127', 'E_128', 'PX_128', 'PY_128', 'PZ_128', 'E_129', 'PX_129', 'PY_129', 'PZ_129', 'E_130', 'PX_130', 'PY_130', 'PZ_130', 'E_131', 'PX_131', 'PY_131', 'PZ_131', 'E_132', 'PX_132', 'PY_132', 'PZ_132', 'E_133', 'PX_133', 'PY_133', 'PZ_133', 'E_134', 'PX_134', 'PY_134', 'PZ_134', 'E_135', 'PX_135', 'PY_135', 'PZ_135', 'E_136', 'PX_136', 'PY_136', 'PZ_136', 'E_137', 'PX_137', 'PY_137', 'PZ_137', 'E_138', 'PX_138', 'PY_138', 'PZ_138', 'E_139', 'PX_139', 'PY_139', 'PZ_139', 'E_140', 'PX_140', 'PY_140', 'PZ_140', 'E_141', 'PX_141', 'PY_141', 'PZ_141', 'E_142', 'PX_142', 'PY_142', 'PZ_142', 'E_143', 'PX_143', 'PY_143', 'PZ_143', 'E_144', 'PX_144', 'PY_144', 'PZ_144', 'E_145', 'PX_145', 'PY_145', 'PZ_145', 'E_146', 'PX_146', 'PY_146', 'PZ_146', 'E_147', 'PX_147', 'PY_147', 'PZ_147', 'E_148', 'PX_148', 'PY_148', 'PZ_148', 'E_149', 'PX_149', 'PY_149', 'PZ_149', 'E_150', 'PX_150', 'PY_150', 'PZ_150', 'E_151', 'PX_151', 'PY_151', 'PZ_151', 'E_152', 'PX_152', 'PY_152', 'PZ_152', 'E_153', 'PX_153', 'PY_153', 'PZ_153', 'E_154', 'PX_154', 'PY_154', 'PZ_154', 'E_155', 'PX_155', 'PY_155', 'PZ_155', 'E_156', 'PX_156', 'PY_156', 'PZ_156', 'E_157', 'PX_157', 'PY_157', 'PZ_157', 'E_158', 'PX_158', 'PY_158', 'PZ_158', 'E_159', 'PX_159', 'PY_159', 'PZ_159', 'E_160', 'PX_160', 'PY_160', 'PZ_160', 'E_161', 'PX_161', 'PY_161', 'PZ_161', 'E_162', 'PX_162', 'PY_162', 'PZ_162', 'E_163', 'PX_163', 'PY_163', 'PZ_163', 'E_164', 'PX_164', 'PY_164', 'PZ_164', 'E_165', 'PX_165', 'PY_165', 'PZ_165', 'E_166', 'PX_166', 'PY_166', 'PZ_166', 'E_167', 'PX_167', 'PY_167', 'PZ_167', 'E_168', 'PX_168', 'PY_168', 'PZ_168', 'E_169', 'PX_169', 'PY_169', 'PZ_169', 'E_170', 'PX_170', 'PY_170', 'PZ_170', 'E_171', 'PX_171', 'PY_171', 'PZ_171', 'E_172', 'PX_172', 'PY_172', 'PZ_172', 'E_173', 'PX_173', 'PY_173', 'PZ_173', 'E_174', 'PX_174', 'PY_174', 'PZ_174', 'E_175', 'PX_175', 'PY_175', 'PZ_175', 'E_176', 'PX_176', 'PY_176', 'PZ_176', 'E_177', 'PX_177', 'PY_177', 'PZ_177', 'E_178', 'PX_178', 'PY_178', 'PZ_178', 'E_179', 'PX_179', 'PY_179', 'PZ_179', 'E_180', 'PX_180', 'PY_180', 'PZ_180', 'E_181', 'PX_181', 'PY_181', 'PZ_181', 'E_182', 'PX_182', 'PY_182', 'PZ_182', 'E_183', 'PX_183', 'PY_183', 'PZ_183', 'E_184', 'PX_184', 'PY_184', 'PZ_184', 'E_185', 'PX_185', 'PY_185', 'PZ_185', 'E_186', 'PX_186', 'PY_186', 'PZ_186', 'E_187', 'PX_187', 'PY_187', 'PZ_187', 'E_188', 'PX_188', 'PY_188', 'PZ_188', 'E_189', 'PX_189', 'PY_189', 'PZ_189', 'E_190', 'PX_190', 'PY_190', 'PZ_190', 'E_191', 'PX_191', 'PY_191', 'PZ_191', 'E_192', 'PX_192', 'PY_192', 'PZ_192', 'E_193', 'PX_193', 'PY_193', 'PZ_193', 'E_194', 'PX_194', 'PY_194', 'PZ_194', 'E_195', 'PX_195', 'PY_195', 'PZ_195', 'E_196', 'PX_196', 'PY_196', 'PZ_196', 'E_197', 'PX_197', 'PY_197', 'PZ_197', 'E_198', 'PX_198', 'PY_198', 'PZ_198', 'E_199', 'PX_199', 'PY_199', 'PZ_199', 'truthE', 'truthPX', 'truthPY', 'truthPZ', 'ttv', 'is_signal_new'],\n",
       "        num_rows: 1211000\n",
       "    })\n",
       "    test: Dataset({\n",
       "        features: ['E_0', 'PX_0', 'PY_0', 'PZ_0', 'E_1', 'PX_1', 'PY_1', 'PZ_1', 'E_2', 'PX_2', 'PY_2', 'PZ_2', 'E_3', 'PX_3', 'PY_3', 'PZ_3', 'E_4', 'PX_4', 'PY_4', 'PZ_4', 'E_5', 'PX_5', 'PY_5', 'PZ_5', 'E_6', 'PX_6', 'PY_6', 'PZ_6', 'E_7', 'PX_7', 'PY_7', 'PZ_7', 'E_8', 'PX_8', 'PY_8', 'PZ_8', 'E_9', 'PX_9', 'PY_9', 'PZ_9', 'E_10', 'PX_10', 'PY_10', 'PZ_10', 'E_11', 'PX_11', 'PY_11', 'PZ_11', 'E_12', 'PX_12', 'PY_12', 'PZ_12', 'E_13', 'PX_13', 'PY_13', 'PZ_13', 'E_14', 'PX_14', 'PY_14', 'PZ_14', 'E_15', 'PX_15', 'PY_15', 'PZ_15', 'E_16', 'PX_16', 'PY_16', 'PZ_16', 'E_17', 'PX_17', 'PY_17', 'PZ_17', 'E_18', 'PX_18', 'PY_18', 'PZ_18', 'E_19', 'PX_19', 'PY_19', 'PZ_19', 'E_20', 'PX_20', 'PY_20', 'PZ_20', 'E_21', 'PX_21', 'PY_21', 'PZ_21', 'E_22', 'PX_22', 'PY_22', 'PZ_22', 'E_23', 'PX_23', 'PY_23', 'PZ_23', 'E_24', 'PX_24', 'PY_24', 'PZ_24', 'E_25', 'PX_25', 'PY_25', 'PZ_25', 'E_26', 'PX_26', 'PY_26', 'PZ_26', 'E_27', 'PX_27', 'PY_27', 'PZ_27', 'E_28', 'PX_28', 'PY_28', 'PZ_28', 'E_29', 'PX_29', 'PY_29', 'PZ_29', 'E_30', 'PX_30', 'PY_30', 'PZ_30', 'E_31', 'PX_31', 'PY_31', 'PZ_31', 'E_32', 'PX_32', 'PY_32', 'PZ_32', 'E_33', 'PX_33', 'PY_33', 'PZ_33', 'E_34', 'PX_34', 'PY_34', 'PZ_34', 'E_35', 'PX_35', 'PY_35', 'PZ_35', 'E_36', 'PX_36', 'PY_36', 'PZ_36', 'E_37', 'PX_37', 'PY_37', 'PZ_37', 'E_38', 'PX_38', 'PY_38', 'PZ_38', 'E_39', 'PX_39', 'PY_39', 'PZ_39', 'E_40', 'PX_40', 'PY_40', 'PZ_40', 'E_41', 'PX_41', 'PY_41', 'PZ_41', 'E_42', 'PX_42', 'PY_42', 'PZ_42', 'E_43', 'PX_43', 'PY_43', 'PZ_43', 'E_44', 'PX_44', 'PY_44', 'PZ_44', 'E_45', 'PX_45', 'PY_45', 'PZ_45', 'E_46', 'PX_46', 'PY_46', 'PZ_46', 'E_47', 'PX_47', 'PY_47', 'PZ_47', 'E_48', 'PX_48', 'PY_48', 'PZ_48', 'E_49', 'PX_49', 'PY_49', 'PZ_49', 'E_50', 'PX_50', 'PY_50', 'PZ_50', 'E_51', 'PX_51', 'PY_51', 'PZ_51', 'E_52', 'PX_52', 'PY_52', 'PZ_52', 'E_53', 'PX_53', 'PY_53', 'PZ_53', 'E_54', 'PX_54', 'PY_54', 'PZ_54', 'E_55', 'PX_55', 'PY_55', 'PZ_55', 'E_56', 'PX_56', 'PY_56', 'PZ_56', 'E_57', 'PX_57', 'PY_57', 'PZ_57', 'E_58', 'PX_58', 'PY_58', 'PZ_58', 'E_59', 'PX_59', 'PY_59', 'PZ_59', 'E_60', 'PX_60', 'PY_60', 'PZ_60', 'E_61', 'PX_61', 'PY_61', 'PZ_61', 'E_62', 'PX_62', 'PY_62', 'PZ_62', 'E_63', 'PX_63', 'PY_63', 'PZ_63', 'E_64', 'PX_64', 'PY_64', 'PZ_64', 'E_65', 'PX_65', 'PY_65', 'PZ_65', 'E_66', 'PX_66', 'PY_66', 'PZ_66', 'E_67', 'PX_67', 'PY_67', 'PZ_67', 'E_68', 'PX_68', 'PY_68', 'PZ_68', 'E_69', 'PX_69', 'PY_69', 'PZ_69', 'E_70', 'PX_70', 'PY_70', 'PZ_70', 'E_71', 'PX_71', 'PY_71', 'PZ_71', 'E_72', 'PX_72', 'PY_72', 'PZ_72', 'E_73', 'PX_73', 'PY_73', 'PZ_73', 'E_74', 'PX_74', 'PY_74', 'PZ_74', 'E_75', 'PX_75', 'PY_75', 'PZ_75', 'E_76', 'PX_76', 'PY_76', 'PZ_76', 'E_77', 'PX_77', 'PY_77', 'PZ_77', 'E_78', 'PX_78', 'PY_78', 'PZ_78', 'E_79', 'PX_79', 'PY_79', 'PZ_79', 'E_80', 'PX_80', 'PY_80', 'PZ_80', 'E_81', 'PX_81', 'PY_81', 'PZ_81', 'E_82', 'PX_82', 'PY_82', 'PZ_82', 'E_83', 'PX_83', 'PY_83', 'PZ_83', 'E_84', 'PX_84', 'PY_84', 'PZ_84', 'E_85', 'PX_85', 'PY_85', 'PZ_85', 'E_86', 'PX_86', 'PY_86', 'PZ_86', 'E_87', 'PX_87', 'PY_87', 'PZ_87', 'E_88', 'PX_88', 'PY_88', 'PZ_88', 'E_89', 'PX_89', 'PY_89', 'PZ_89', 'E_90', 'PX_90', 'PY_90', 'PZ_90', 'E_91', 'PX_91', 'PY_91', 'PZ_91', 'E_92', 'PX_92', 'PY_92', 'PZ_92', 'E_93', 'PX_93', 'PY_93', 'PZ_93', 'E_94', 'PX_94', 'PY_94', 'PZ_94', 'E_95', 'PX_95', 'PY_95', 'PZ_95', 'E_96', 'PX_96', 'PY_96', 'PZ_96', 'E_97', 'PX_97', 'PY_97', 'PZ_97', 'E_98', 'PX_98', 'PY_98', 'PZ_98', 'E_99', 'PX_99', 'PY_99', 'PZ_99', 'E_100', 'PX_100', 'PY_100', 'PZ_100', 'E_101', 'PX_101', 'PY_101', 'PZ_101', 'E_102', 'PX_102', 'PY_102', 'PZ_102', 'E_103', 'PX_103', 'PY_103', 'PZ_103', 'E_104', 'PX_104', 'PY_104', 'PZ_104', 'E_105', 'PX_105', 'PY_105', 'PZ_105', 'E_106', 'PX_106', 'PY_106', 'PZ_106', 'E_107', 'PX_107', 'PY_107', 'PZ_107', 'E_108', 'PX_108', 'PY_108', 'PZ_108', 'E_109', 'PX_109', 'PY_109', 'PZ_109', 'E_110', 'PX_110', 'PY_110', 'PZ_110', 'E_111', 'PX_111', 'PY_111', 'PZ_111', 'E_112', 'PX_112', 'PY_112', 'PZ_112', 'E_113', 'PX_113', 'PY_113', 'PZ_113', 'E_114', 'PX_114', 'PY_114', 'PZ_114', 'E_115', 'PX_115', 'PY_115', 'PZ_115', 'E_116', 'PX_116', 'PY_116', 'PZ_116', 'E_117', 'PX_117', 'PY_117', 'PZ_117', 'E_118', 'PX_118', 'PY_118', 'PZ_118', 'E_119', 'PX_119', 'PY_119', 'PZ_119', 'E_120', 'PX_120', 'PY_120', 'PZ_120', 'E_121', 'PX_121', 'PY_121', 'PZ_121', 'E_122', 'PX_122', 'PY_122', 'PZ_122', 'E_123', 'PX_123', 'PY_123', 'PZ_123', 'E_124', 'PX_124', 'PY_124', 'PZ_124', 'E_125', 'PX_125', 'PY_125', 'PZ_125', 'E_126', 'PX_126', 'PY_126', 'PZ_126', 'E_127', 'PX_127', 'PY_127', 'PZ_127', 'E_128', 'PX_128', 'PY_128', 'PZ_128', 'E_129', 'PX_129', 'PY_129', 'PZ_129', 'E_130', 'PX_130', 'PY_130', 'PZ_130', 'E_131', 'PX_131', 'PY_131', 'PZ_131', 'E_132', 'PX_132', 'PY_132', 'PZ_132', 'E_133', 'PX_133', 'PY_133', 'PZ_133', 'E_134', 'PX_134', 'PY_134', 'PZ_134', 'E_135', 'PX_135', 'PY_135', 'PZ_135', 'E_136', 'PX_136', 'PY_136', 'PZ_136', 'E_137', 'PX_137', 'PY_137', 'PZ_137', 'E_138', 'PX_138', 'PY_138', 'PZ_138', 'E_139', 'PX_139', 'PY_139', 'PZ_139', 'E_140', 'PX_140', 'PY_140', 'PZ_140', 'E_141', 'PX_141', 'PY_141', 'PZ_141', 'E_142', 'PX_142', 'PY_142', 'PZ_142', 'E_143', 'PX_143', 'PY_143', 'PZ_143', 'E_144', 'PX_144', 'PY_144', 'PZ_144', 'E_145', 'PX_145', 'PY_145', 'PZ_145', 'E_146', 'PX_146', 'PY_146', 'PZ_146', 'E_147', 'PX_147', 'PY_147', 'PZ_147', 'E_148', 'PX_148', 'PY_148', 'PZ_148', 'E_149', 'PX_149', 'PY_149', 'PZ_149', 'E_150', 'PX_150', 'PY_150', 'PZ_150', 'E_151', 'PX_151', 'PY_151', 'PZ_151', 'E_152', 'PX_152', 'PY_152', 'PZ_152', 'E_153', 'PX_153', 'PY_153', 'PZ_153', 'E_154', 'PX_154', 'PY_154', 'PZ_154', 'E_155', 'PX_155', 'PY_155', 'PZ_155', 'E_156', 'PX_156', 'PY_156', 'PZ_156', 'E_157', 'PX_157', 'PY_157', 'PZ_157', 'E_158', 'PX_158', 'PY_158', 'PZ_158', 'E_159', 'PX_159', 'PY_159', 'PZ_159', 'E_160', 'PX_160', 'PY_160', 'PZ_160', 'E_161', 'PX_161', 'PY_161', 'PZ_161', 'E_162', 'PX_162', 'PY_162', 'PZ_162', 'E_163', 'PX_163', 'PY_163', 'PZ_163', 'E_164', 'PX_164', 'PY_164', 'PZ_164', 'E_165', 'PX_165', 'PY_165', 'PZ_165', 'E_166', 'PX_166', 'PY_166', 'PZ_166', 'E_167', 'PX_167', 'PY_167', 'PZ_167', 'E_168', 'PX_168', 'PY_168', 'PZ_168', 'E_169', 'PX_169', 'PY_169', 'PZ_169', 'E_170', 'PX_170', 'PY_170', 'PZ_170', 'E_171', 'PX_171', 'PY_171', 'PZ_171', 'E_172', 'PX_172', 'PY_172', 'PZ_172', 'E_173', 'PX_173', 'PY_173', 'PZ_173', 'E_174', 'PX_174', 'PY_174', 'PZ_174', 'E_175', 'PX_175', 'PY_175', 'PZ_175', 'E_176', 'PX_176', 'PY_176', 'PZ_176', 'E_177', 'PX_177', 'PY_177', 'PZ_177', 'E_178', 'PX_178', 'PY_178', 'PZ_178', 'E_179', 'PX_179', 'PY_179', 'PZ_179', 'E_180', 'PX_180', 'PY_180', 'PZ_180', 'E_181', 'PX_181', 'PY_181', 'PZ_181', 'E_182', 'PX_182', 'PY_182', 'PZ_182', 'E_183', 'PX_183', 'PY_183', 'PZ_183', 'E_184', 'PX_184', 'PY_184', 'PZ_184', 'E_185', 'PX_185', 'PY_185', 'PZ_185', 'E_186', 'PX_186', 'PY_186', 'PZ_186', 'E_187', 'PX_187', 'PY_187', 'PZ_187', 'E_188', 'PX_188', 'PY_188', 'PZ_188', 'E_189', 'PX_189', 'PY_189', 'PZ_189', 'E_190', 'PX_190', 'PY_190', 'PZ_190', 'E_191', 'PX_191', 'PY_191', 'PZ_191', 'E_192', 'PX_192', 'PY_192', 'PZ_192', 'E_193', 'PX_193', 'PY_193', 'PZ_193', 'E_194', 'PX_194', 'PY_194', 'PZ_194', 'E_195', 'PX_195', 'PY_195', 'PZ_195', 'E_196', 'PX_196', 'PY_196', 'PZ_196', 'E_197', 'PX_197', 'PY_197', 'PZ_197', 'E_198', 'PX_198', 'PY_198', 'PZ_198', 'E_199', 'PX_199', 'PY_199', 'PZ_199', 'truthE', 'truthPX', 'truthPY', 'truthPZ', 'ttv', 'is_signal_new'],\n",
       "        num_rows: 404000\n",
       "    })\n",
       "    validation: Dataset({\n",
       "        features: ['E_0', 'PX_0', 'PY_0', 'PZ_0', 'E_1', 'PX_1', 'PY_1', 'PZ_1', 'E_2', 'PX_2', 'PY_2', 'PZ_2', 'E_3', 'PX_3', 'PY_3', 'PZ_3', 'E_4', 'PX_4', 'PY_4', 'PZ_4', 'E_5', 'PX_5', 'PY_5', 'PZ_5', 'E_6', 'PX_6', 'PY_6', 'PZ_6', 'E_7', 'PX_7', 'PY_7', 'PZ_7', 'E_8', 'PX_8', 'PY_8', 'PZ_8', 'E_9', 'PX_9', 'PY_9', 'PZ_9', 'E_10', 'PX_10', 'PY_10', 'PZ_10', 'E_11', 'PX_11', 'PY_11', 'PZ_11', 'E_12', 'PX_12', 'PY_12', 'PZ_12', 'E_13', 'PX_13', 'PY_13', 'PZ_13', 'E_14', 'PX_14', 'PY_14', 'PZ_14', 'E_15', 'PX_15', 'PY_15', 'PZ_15', 'E_16', 'PX_16', 'PY_16', 'PZ_16', 'E_17', 'PX_17', 'PY_17', 'PZ_17', 'E_18', 'PX_18', 'PY_18', 'PZ_18', 'E_19', 'PX_19', 'PY_19', 'PZ_19', 'E_20', 'PX_20', 'PY_20', 'PZ_20', 'E_21', 'PX_21', 'PY_21', 'PZ_21', 'E_22', 'PX_22', 'PY_22', 'PZ_22', 'E_23', 'PX_23', 'PY_23', 'PZ_23', 'E_24', 'PX_24', 'PY_24', 'PZ_24', 'E_25', 'PX_25', 'PY_25', 'PZ_25', 'E_26', 'PX_26', 'PY_26', 'PZ_26', 'E_27', 'PX_27', 'PY_27', 'PZ_27', 'E_28', 'PX_28', 'PY_28', 'PZ_28', 'E_29', 'PX_29', 'PY_29', 'PZ_29', 'E_30', 'PX_30', 'PY_30', 'PZ_30', 'E_31', 'PX_31', 'PY_31', 'PZ_31', 'E_32', 'PX_32', 'PY_32', 'PZ_32', 'E_33', 'PX_33', 'PY_33', 'PZ_33', 'E_34', 'PX_34', 'PY_34', 'PZ_34', 'E_35', 'PX_35', 'PY_35', 'PZ_35', 'E_36', 'PX_36', 'PY_36', 'PZ_36', 'E_37', 'PX_37', 'PY_37', 'PZ_37', 'E_38', 'PX_38', 'PY_38', 'PZ_38', 'E_39', 'PX_39', 'PY_39', 'PZ_39', 'E_40', 'PX_40', 'PY_40', 'PZ_40', 'E_41', 'PX_41', 'PY_41', 'PZ_41', 'E_42', 'PX_42', 'PY_42', 'PZ_42', 'E_43', 'PX_43', 'PY_43', 'PZ_43', 'E_44', 'PX_44', 'PY_44', 'PZ_44', 'E_45', 'PX_45', 'PY_45', 'PZ_45', 'E_46', 'PX_46', 'PY_46', 'PZ_46', 'E_47', 'PX_47', 'PY_47', 'PZ_47', 'E_48', 'PX_48', 'PY_48', 'PZ_48', 'E_49', 'PX_49', 'PY_49', 'PZ_49', 'E_50', 'PX_50', 'PY_50', 'PZ_50', 'E_51', 'PX_51', 'PY_51', 'PZ_51', 'E_52', 'PX_52', 'PY_52', 'PZ_52', 'E_53', 'PX_53', 'PY_53', 'PZ_53', 'E_54', 'PX_54', 'PY_54', 'PZ_54', 'E_55', 'PX_55', 'PY_55', 'PZ_55', 'E_56', 'PX_56', 'PY_56', 'PZ_56', 'E_57', 'PX_57', 'PY_57', 'PZ_57', 'E_58', 'PX_58', 'PY_58', 'PZ_58', 'E_59', 'PX_59', 'PY_59', 'PZ_59', 'E_60', 'PX_60', 'PY_60', 'PZ_60', 'E_61', 'PX_61', 'PY_61', 'PZ_61', 'E_62', 'PX_62', 'PY_62', 'PZ_62', 'E_63', 'PX_63', 'PY_63', 'PZ_63', 'E_64', 'PX_64', 'PY_64', 'PZ_64', 'E_65', 'PX_65', 'PY_65', 'PZ_65', 'E_66', 'PX_66', 'PY_66', 'PZ_66', 'E_67', 'PX_67', 'PY_67', 'PZ_67', 'E_68', 'PX_68', 'PY_68', 'PZ_68', 'E_69', 'PX_69', 'PY_69', 'PZ_69', 'E_70', 'PX_70', 'PY_70', 'PZ_70', 'E_71', 'PX_71', 'PY_71', 'PZ_71', 'E_72', 'PX_72', 'PY_72', 'PZ_72', 'E_73', 'PX_73', 'PY_73', 'PZ_73', 'E_74', 'PX_74', 'PY_74', 'PZ_74', 'E_75', 'PX_75', 'PY_75', 'PZ_75', 'E_76', 'PX_76', 'PY_76', 'PZ_76', 'E_77', 'PX_77', 'PY_77', 'PZ_77', 'E_78', 'PX_78', 'PY_78', 'PZ_78', 'E_79', 'PX_79', 'PY_79', 'PZ_79', 'E_80', 'PX_80', 'PY_80', 'PZ_80', 'E_81', 'PX_81', 'PY_81', 'PZ_81', 'E_82', 'PX_82', 'PY_82', 'PZ_82', 'E_83', 'PX_83', 'PY_83', 'PZ_83', 'E_84', 'PX_84', 'PY_84', 'PZ_84', 'E_85', 'PX_85', 'PY_85', 'PZ_85', 'E_86', 'PX_86', 'PY_86', 'PZ_86', 'E_87', 'PX_87', 'PY_87', 'PZ_87', 'E_88', 'PX_88', 'PY_88', 'PZ_88', 'E_89', 'PX_89', 'PY_89', 'PZ_89', 'E_90', 'PX_90', 'PY_90', 'PZ_90', 'E_91', 'PX_91', 'PY_91', 'PZ_91', 'E_92', 'PX_92', 'PY_92', 'PZ_92', 'E_93', 'PX_93', 'PY_93', 'PZ_93', 'E_94', 'PX_94', 'PY_94', 'PZ_94', 'E_95', 'PX_95', 'PY_95', 'PZ_95', 'E_96', 'PX_96', 'PY_96', 'PZ_96', 'E_97', 'PX_97', 'PY_97', 'PZ_97', 'E_98', 'PX_98', 'PY_98', 'PZ_98', 'E_99', 'PX_99', 'PY_99', 'PZ_99', 'E_100', 'PX_100', 'PY_100', 'PZ_100', 'E_101', 'PX_101', 'PY_101', 'PZ_101', 'E_102', 'PX_102', 'PY_102', 'PZ_102', 'E_103', 'PX_103', 'PY_103', 'PZ_103', 'E_104', 'PX_104', 'PY_104', 'PZ_104', 'E_105', 'PX_105', 'PY_105', 'PZ_105', 'E_106', 'PX_106', 'PY_106', 'PZ_106', 'E_107', 'PX_107', 'PY_107', 'PZ_107', 'E_108', 'PX_108', 'PY_108', 'PZ_108', 'E_109', 'PX_109', 'PY_109', 'PZ_109', 'E_110', 'PX_110', 'PY_110', 'PZ_110', 'E_111', 'PX_111', 'PY_111', 'PZ_111', 'E_112', 'PX_112', 'PY_112', 'PZ_112', 'E_113', 'PX_113', 'PY_113', 'PZ_113', 'E_114', 'PX_114', 'PY_114', 'PZ_114', 'E_115', 'PX_115', 'PY_115', 'PZ_115', 'E_116', 'PX_116', 'PY_116', 'PZ_116', 'E_117', 'PX_117', 'PY_117', 'PZ_117', 'E_118', 'PX_118', 'PY_118', 'PZ_118', 'E_119', 'PX_119', 'PY_119', 'PZ_119', 'E_120', 'PX_120', 'PY_120', 'PZ_120', 'E_121', 'PX_121', 'PY_121', 'PZ_121', 'E_122', 'PX_122', 'PY_122', 'PZ_122', 'E_123', 'PX_123', 'PY_123', 'PZ_123', 'E_124', 'PX_124', 'PY_124', 'PZ_124', 'E_125', 'PX_125', 'PY_125', 'PZ_125', 'E_126', 'PX_126', 'PY_126', 'PZ_126', 'E_127', 'PX_127', 'PY_127', 'PZ_127', 'E_128', 'PX_128', 'PY_128', 'PZ_128', 'E_129', 'PX_129', 'PY_129', 'PZ_129', 'E_130', 'PX_130', 'PY_130', 'PZ_130', 'E_131', 'PX_131', 'PY_131', 'PZ_131', 'E_132', 'PX_132', 'PY_132', 'PZ_132', 'E_133', 'PX_133', 'PY_133', 'PZ_133', 'E_134', 'PX_134', 'PY_134', 'PZ_134', 'E_135', 'PX_135', 'PY_135', 'PZ_135', 'E_136', 'PX_136', 'PY_136', 'PZ_136', 'E_137', 'PX_137', 'PY_137', 'PZ_137', 'E_138', 'PX_138', 'PY_138', 'PZ_138', 'E_139', 'PX_139', 'PY_139', 'PZ_139', 'E_140', 'PX_140', 'PY_140', 'PZ_140', 'E_141', 'PX_141', 'PY_141', 'PZ_141', 'E_142', 'PX_142', 'PY_142', 'PZ_142', 'E_143', 'PX_143', 'PY_143', 'PZ_143', 'E_144', 'PX_144', 'PY_144', 'PZ_144', 'E_145', 'PX_145', 'PY_145', 'PZ_145', 'E_146', 'PX_146', 'PY_146', 'PZ_146', 'E_147', 'PX_147', 'PY_147', 'PZ_147', 'E_148', 'PX_148', 'PY_148', 'PZ_148', 'E_149', 'PX_149', 'PY_149', 'PZ_149', 'E_150', 'PX_150', 'PY_150', 'PZ_150', 'E_151', 'PX_151', 'PY_151', 'PZ_151', 'E_152', 'PX_152', 'PY_152', 'PZ_152', 'E_153', 'PX_153', 'PY_153', 'PZ_153', 'E_154', 'PX_154', 'PY_154', 'PZ_154', 'E_155', 'PX_155', 'PY_155', 'PZ_155', 'E_156', 'PX_156', 'PY_156', 'PZ_156', 'E_157', 'PX_157', 'PY_157', 'PZ_157', 'E_158', 'PX_158', 'PY_158', 'PZ_158', 'E_159', 'PX_159', 'PY_159', 'PZ_159', 'E_160', 'PX_160', 'PY_160', 'PZ_160', 'E_161', 'PX_161', 'PY_161', 'PZ_161', 'E_162', 'PX_162', 'PY_162', 'PZ_162', 'E_163', 'PX_163', 'PY_163', 'PZ_163', 'E_164', 'PX_164', 'PY_164', 'PZ_164', 'E_165', 'PX_165', 'PY_165', 'PZ_165', 'E_166', 'PX_166', 'PY_166', 'PZ_166', 'E_167', 'PX_167', 'PY_167', 'PZ_167', 'E_168', 'PX_168', 'PY_168', 'PZ_168', 'E_169', 'PX_169', 'PY_169', 'PZ_169', 'E_170', 'PX_170', 'PY_170', 'PZ_170', 'E_171', 'PX_171', 'PY_171', 'PZ_171', 'E_172', 'PX_172', 'PY_172', 'PZ_172', 'E_173', 'PX_173', 'PY_173', 'PZ_173', 'E_174', 'PX_174', 'PY_174', 'PZ_174', 'E_175', 'PX_175', 'PY_175', 'PZ_175', 'E_176', 'PX_176', 'PY_176', 'PZ_176', 'E_177', 'PX_177', 'PY_177', 'PZ_177', 'E_178', 'PX_178', 'PY_178', 'PZ_178', 'E_179', 'PX_179', 'PY_179', 'PZ_179', 'E_180', 'PX_180', 'PY_180', 'PZ_180', 'E_181', 'PX_181', 'PY_181', 'PZ_181', 'E_182', 'PX_182', 'PY_182', 'PZ_182', 'E_183', 'PX_183', 'PY_183', 'PZ_183', 'E_184', 'PX_184', 'PY_184', 'PZ_184', 'E_185', 'PX_185', 'PY_185', 'PZ_185', 'E_186', 'PX_186', 'PY_186', 'PZ_186', 'E_187', 'PX_187', 'PY_187', 'PZ_187', 'E_188', 'PX_188', 'PY_188', 'PZ_188', 'E_189', 'PX_189', 'PY_189', 'PZ_189', 'E_190', 'PX_190', 'PY_190', 'PZ_190', 'E_191', 'PX_191', 'PY_191', 'PZ_191', 'E_192', 'PX_192', 'PY_192', 'PZ_192', 'E_193', 'PX_193', 'PY_193', 'PZ_193', 'E_194', 'PX_194', 'PY_194', 'PZ_194', 'E_195', 'PX_195', 'PY_195', 'PZ_195', 'E_196', 'PX_196', 'PY_196', 'PZ_196', 'E_197', 'PX_197', 'PY_197', 'PZ_197', 'E_198', 'PX_198', 'PY_198', 'PZ_198', 'E_199', 'PX_199', 'PY_199', 'PZ_199', 'truthE', 'truthPX', 'truthPY', 'truthPZ', 'ttv', 'is_signal_new'],\n",
       "        num_rows: 403000\n",
       "    })\n",
       "})"
      ]
     },
     "execution_count": 3,
     "metadata": {},
     "output_type": "execute_result"
    }
   ],
   "source": [
    "top_tagging_ds"
   ]
  },
  {
   "cell_type": "code",
   "execution_count": 4,
   "id": "352e7abb-e7d7-461b-8605-47be1deeddc3",
   "metadata": {
    "collapsed": true,
    "jupyter": {
     "outputs_hidden": true
    },
    "tags": []
   },
   "outputs": [
    {
     "data": {
      "text/plain": [
       "Dataset({\n",
       "    features: ['E_0', 'PX_0', 'PY_0', 'PZ_0', 'E_1', 'PX_1', 'PY_1', 'PZ_1', 'E_2', 'PX_2', 'PY_2', 'PZ_2', 'E_3', 'PX_3', 'PY_3', 'PZ_3', 'E_4', 'PX_4', 'PY_4', 'PZ_4', 'E_5', 'PX_5', 'PY_5', 'PZ_5', 'E_6', 'PX_6', 'PY_6', 'PZ_6', 'E_7', 'PX_7', 'PY_7', 'PZ_7', 'E_8', 'PX_8', 'PY_8', 'PZ_8', 'E_9', 'PX_9', 'PY_9', 'PZ_9', 'E_10', 'PX_10', 'PY_10', 'PZ_10', 'E_11', 'PX_11', 'PY_11', 'PZ_11', 'E_12', 'PX_12', 'PY_12', 'PZ_12', 'E_13', 'PX_13', 'PY_13', 'PZ_13', 'E_14', 'PX_14', 'PY_14', 'PZ_14', 'E_15', 'PX_15', 'PY_15', 'PZ_15', 'E_16', 'PX_16', 'PY_16', 'PZ_16', 'E_17', 'PX_17', 'PY_17', 'PZ_17', 'E_18', 'PX_18', 'PY_18', 'PZ_18', 'E_19', 'PX_19', 'PY_19', 'PZ_19', 'E_20', 'PX_20', 'PY_20', 'PZ_20', 'E_21', 'PX_21', 'PY_21', 'PZ_21', 'E_22', 'PX_22', 'PY_22', 'PZ_22', 'E_23', 'PX_23', 'PY_23', 'PZ_23', 'E_24', 'PX_24', 'PY_24', 'PZ_24', 'E_25', 'PX_25', 'PY_25', 'PZ_25', 'E_26', 'PX_26', 'PY_26', 'PZ_26', 'E_27', 'PX_27', 'PY_27', 'PZ_27', 'E_28', 'PX_28', 'PY_28', 'PZ_28', 'E_29', 'PX_29', 'PY_29', 'PZ_29', 'E_30', 'PX_30', 'PY_30', 'PZ_30', 'E_31', 'PX_31', 'PY_31', 'PZ_31', 'E_32', 'PX_32', 'PY_32', 'PZ_32', 'E_33', 'PX_33', 'PY_33', 'PZ_33', 'E_34', 'PX_34', 'PY_34', 'PZ_34', 'E_35', 'PX_35', 'PY_35', 'PZ_35', 'E_36', 'PX_36', 'PY_36', 'PZ_36', 'E_37', 'PX_37', 'PY_37', 'PZ_37', 'E_38', 'PX_38', 'PY_38', 'PZ_38', 'E_39', 'PX_39', 'PY_39', 'PZ_39', 'E_40', 'PX_40', 'PY_40', 'PZ_40', 'E_41', 'PX_41', 'PY_41', 'PZ_41', 'E_42', 'PX_42', 'PY_42', 'PZ_42', 'E_43', 'PX_43', 'PY_43', 'PZ_43', 'E_44', 'PX_44', 'PY_44', 'PZ_44', 'E_45', 'PX_45', 'PY_45', 'PZ_45', 'E_46', 'PX_46', 'PY_46', 'PZ_46', 'E_47', 'PX_47', 'PY_47', 'PZ_47', 'E_48', 'PX_48', 'PY_48', 'PZ_48', 'E_49', 'PX_49', 'PY_49', 'PZ_49', 'E_50', 'PX_50', 'PY_50', 'PZ_50', 'E_51', 'PX_51', 'PY_51', 'PZ_51', 'E_52', 'PX_52', 'PY_52', 'PZ_52', 'E_53', 'PX_53', 'PY_53', 'PZ_53', 'E_54', 'PX_54', 'PY_54', 'PZ_54', 'E_55', 'PX_55', 'PY_55', 'PZ_55', 'E_56', 'PX_56', 'PY_56', 'PZ_56', 'E_57', 'PX_57', 'PY_57', 'PZ_57', 'E_58', 'PX_58', 'PY_58', 'PZ_58', 'E_59', 'PX_59', 'PY_59', 'PZ_59', 'E_60', 'PX_60', 'PY_60', 'PZ_60', 'E_61', 'PX_61', 'PY_61', 'PZ_61', 'E_62', 'PX_62', 'PY_62', 'PZ_62', 'E_63', 'PX_63', 'PY_63', 'PZ_63', 'E_64', 'PX_64', 'PY_64', 'PZ_64', 'E_65', 'PX_65', 'PY_65', 'PZ_65', 'E_66', 'PX_66', 'PY_66', 'PZ_66', 'E_67', 'PX_67', 'PY_67', 'PZ_67', 'E_68', 'PX_68', 'PY_68', 'PZ_68', 'E_69', 'PX_69', 'PY_69', 'PZ_69', 'E_70', 'PX_70', 'PY_70', 'PZ_70', 'E_71', 'PX_71', 'PY_71', 'PZ_71', 'E_72', 'PX_72', 'PY_72', 'PZ_72', 'E_73', 'PX_73', 'PY_73', 'PZ_73', 'E_74', 'PX_74', 'PY_74', 'PZ_74', 'E_75', 'PX_75', 'PY_75', 'PZ_75', 'E_76', 'PX_76', 'PY_76', 'PZ_76', 'E_77', 'PX_77', 'PY_77', 'PZ_77', 'E_78', 'PX_78', 'PY_78', 'PZ_78', 'E_79', 'PX_79', 'PY_79', 'PZ_79', 'E_80', 'PX_80', 'PY_80', 'PZ_80', 'E_81', 'PX_81', 'PY_81', 'PZ_81', 'E_82', 'PX_82', 'PY_82', 'PZ_82', 'E_83', 'PX_83', 'PY_83', 'PZ_83', 'E_84', 'PX_84', 'PY_84', 'PZ_84', 'E_85', 'PX_85', 'PY_85', 'PZ_85', 'E_86', 'PX_86', 'PY_86', 'PZ_86', 'E_87', 'PX_87', 'PY_87', 'PZ_87', 'E_88', 'PX_88', 'PY_88', 'PZ_88', 'E_89', 'PX_89', 'PY_89', 'PZ_89', 'E_90', 'PX_90', 'PY_90', 'PZ_90', 'E_91', 'PX_91', 'PY_91', 'PZ_91', 'E_92', 'PX_92', 'PY_92', 'PZ_92', 'E_93', 'PX_93', 'PY_93', 'PZ_93', 'E_94', 'PX_94', 'PY_94', 'PZ_94', 'E_95', 'PX_95', 'PY_95', 'PZ_95', 'E_96', 'PX_96', 'PY_96', 'PZ_96', 'E_97', 'PX_97', 'PY_97', 'PZ_97', 'E_98', 'PX_98', 'PY_98', 'PZ_98', 'E_99', 'PX_99', 'PY_99', 'PZ_99', 'E_100', 'PX_100', 'PY_100', 'PZ_100', 'E_101', 'PX_101', 'PY_101', 'PZ_101', 'E_102', 'PX_102', 'PY_102', 'PZ_102', 'E_103', 'PX_103', 'PY_103', 'PZ_103', 'E_104', 'PX_104', 'PY_104', 'PZ_104', 'E_105', 'PX_105', 'PY_105', 'PZ_105', 'E_106', 'PX_106', 'PY_106', 'PZ_106', 'E_107', 'PX_107', 'PY_107', 'PZ_107', 'E_108', 'PX_108', 'PY_108', 'PZ_108', 'E_109', 'PX_109', 'PY_109', 'PZ_109', 'E_110', 'PX_110', 'PY_110', 'PZ_110', 'E_111', 'PX_111', 'PY_111', 'PZ_111', 'E_112', 'PX_112', 'PY_112', 'PZ_112', 'E_113', 'PX_113', 'PY_113', 'PZ_113', 'E_114', 'PX_114', 'PY_114', 'PZ_114', 'E_115', 'PX_115', 'PY_115', 'PZ_115', 'E_116', 'PX_116', 'PY_116', 'PZ_116', 'E_117', 'PX_117', 'PY_117', 'PZ_117', 'E_118', 'PX_118', 'PY_118', 'PZ_118', 'E_119', 'PX_119', 'PY_119', 'PZ_119', 'E_120', 'PX_120', 'PY_120', 'PZ_120', 'E_121', 'PX_121', 'PY_121', 'PZ_121', 'E_122', 'PX_122', 'PY_122', 'PZ_122', 'E_123', 'PX_123', 'PY_123', 'PZ_123', 'E_124', 'PX_124', 'PY_124', 'PZ_124', 'E_125', 'PX_125', 'PY_125', 'PZ_125', 'E_126', 'PX_126', 'PY_126', 'PZ_126', 'E_127', 'PX_127', 'PY_127', 'PZ_127', 'E_128', 'PX_128', 'PY_128', 'PZ_128', 'E_129', 'PX_129', 'PY_129', 'PZ_129', 'E_130', 'PX_130', 'PY_130', 'PZ_130', 'E_131', 'PX_131', 'PY_131', 'PZ_131', 'E_132', 'PX_132', 'PY_132', 'PZ_132', 'E_133', 'PX_133', 'PY_133', 'PZ_133', 'E_134', 'PX_134', 'PY_134', 'PZ_134', 'E_135', 'PX_135', 'PY_135', 'PZ_135', 'E_136', 'PX_136', 'PY_136', 'PZ_136', 'E_137', 'PX_137', 'PY_137', 'PZ_137', 'E_138', 'PX_138', 'PY_138', 'PZ_138', 'E_139', 'PX_139', 'PY_139', 'PZ_139', 'E_140', 'PX_140', 'PY_140', 'PZ_140', 'E_141', 'PX_141', 'PY_141', 'PZ_141', 'E_142', 'PX_142', 'PY_142', 'PZ_142', 'E_143', 'PX_143', 'PY_143', 'PZ_143', 'E_144', 'PX_144', 'PY_144', 'PZ_144', 'E_145', 'PX_145', 'PY_145', 'PZ_145', 'E_146', 'PX_146', 'PY_146', 'PZ_146', 'E_147', 'PX_147', 'PY_147', 'PZ_147', 'E_148', 'PX_148', 'PY_148', 'PZ_148', 'E_149', 'PX_149', 'PY_149', 'PZ_149', 'E_150', 'PX_150', 'PY_150', 'PZ_150', 'E_151', 'PX_151', 'PY_151', 'PZ_151', 'E_152', 'PX_152', 'PY_152', 'PZ_152', 'E_153', 'PX_153', 'PY_153', 'PZ_153', 'E_154', 'PX_154', 'PY_154', 'PZ_154', 'E_155', 'PX_155', 'PY_155', 'PZ_155', 'E_156', 'PX_156', 'PY_156', 'PZ_156', 'E_157', 'PX_157', 'PY_157', 'PZ_157', 'E_158', 'PX_158', 'PY_158', 'PZ_158', 'E_159', 'PX_159', 'PY_159', 'PZ_159', 'E_160', 'PX_160', 'PY_160', 'PZ_160', 'E_161', 'PX_161', 'PY_161', 'PZ_161', 'E_162', 'PX_162', 'PY_162', 'PZ_162', 'E_163', 'PX_163', 'PY_163', 'PZ_163', 'E_164', 'PX_164', 'PY_164', 'PZ_164', 'E_165', 'PX_165', 'PY_165', 'PZ_165', 'E_166', 'PX_166', 'PY_166', 'PZ_166', 'E_167', 'PX_167', 'PY_167', 'PZ_167', 'E_168', 'PX_168', 'PY_168', 'PZ_168', 'E_169', 'PX_169', 'PY_169', 'PZ_169', 'E_170', 'PX_170', 'PY_170', 'PZ_170', 'E_171', 'PX_171', 'PY_171', 'PZ_171', 'E_172', 'PX_172', 'PY_172', 'PZ_172', 'E_173', 'PX_173', 'PY_173', 'PZ_173', 'E_174', 'PX_174', 'PY_174', 'PZ_174', 'E_175', 'PX_175', 'PY_175', 'PZ_175', 'E_176', 'PX_176', 'PY_176', 'PZ_176', 'E_177', 'PX_177', 'PY_177', 'PZ_177', 'E_178', 'PX_178', 'PY_178', 'PZ_178', 'E_179', 'PX_179', 'PY_179', 'PZ_179', 'E_180', 'PX_180', 'PY_180', 'PZ_180', 'E_181', 'PX_181', 'PY_181', 'PZ_181', 'E_182', 'PX_182', 'PY_182', 'PZ_182', 'E_183', 'PX_183', 'PY_183', 'PZ_183', 'E_184', 'PX_184', 'PY_184', 'PZ_184', 'E_185', 'PX_185', 'PY_185', 'PZ_185', 'E_186', 'PX_186', 'PY_186', 'PZ_186', 'E_187', 'PX_187', 'PY_187', 'PZ_187', 'E_188', 'PX_188', 'PY_188', 'PZ_188', 'E_189', 'PX_189', 'PY_189', 'PZ_189', 'E_190', 'PX_190', 'PY_190', 'PZ_190', 'E_191', 'PX_191', 'PY_191', 'PZ_191', 'E_192', 'PX_192', 'PY_192', 'PZ_192', 'E_193', 'PX_193', 'PY_193', 'PZ_193', 'E_194', 'PX_194', 'PY_194', 'PZ_194', 'E_195', 'PX_195', 'PY_195', 'PZ_195', 'E_196', 'PX_196', 'PY_196', 'PZ_196', 'E_197', 'PX_197', 'PY_197', 'PZ_197', 'E_198', 'PX_198', 'PY_198', 'PZ_198', 'E_199', 'PX_199', 'PY_199', 'PZ_199', 'truthE', 'truthPX', 'truthPY', 'truthPZ', 'ttv', 'is_signal_new'],\n",
       "    num_rows: 1211000\n",
       "})"
      ]
     },
     "execution_count": 4,
     "metadata": {},
     "output_type": "execute_result"
    }
   ],
   "source": [
    "top_tagging_ds[\"train\"]"
   ]
  },
  {
   "cell_type": "code",
   "execution_count": 5,
   "id": "c522a84f-9387-4164-b27c-a49c63a9ed4b",
   "metadata": {},
   "outputs": [
    {
     "data": {
      "text/plain": [
       "1211000"
      ]
     },
     "execution_count": 5,
     "metadata": {},
     "output_type": "execute_result"
    }
   ],
   "source": [
    "len(top_tagging_ds[\"train\"])"
   ]
  },
  {
   "cell_type": "code",
   "execution_count": 3,
   "id": "1c53e9be-cb01-4784-a7f3-bdb012cff1d2",
   "metadata": {},
   "outputs": [],
   "source": [
    "top_tagging_ds = top_tagging_ds.remove_columns(\n",
    "    [\"truthE\", \"truthPX\", \"truthPY\", \"truthPZ\", \"ttv\"]\n",
    ")"
   ]
  },
  {
   "cell_type": "code",
   "execution_count": 51,
   "id": "8ccf1149-29a4-4d4d-a08c-5d759a58f627",
   "metadata": {},
   "outputs": [],
   "source": [
    "# Convert output format to DataFrames\n",
    "top_tagging_ds.set_format(\"pandas\")\n",
    "# Create DataFrames for the training and test splits\n",
    "train_df, test_df = top_tagging_ds[\"train\"][:], top_tagging_ds[\"test\"][:]\n",
    "# Peek at first few rows\n",
    "# train_df.head()"
   ]
  },
  {
   "cell_type": "code",
   "execution_count": 8,
   "id": "6e1b6ca8-6efb-4d48-bb23-2a7ed98bcfad",
   "metadata": {},
   "outputs": [
    {
     "data": {
      "text/plain": [
       "(1211000, 801)"
      ]
     },
     "execution_count": 8,
     "metadata": {},
     "output_type": "execute_result"
    }
   ],
   "source": [
    "train_df.shape"
   ]
  },
  {
   "cell_type": "markdown",
   "id": "f464361a-4394-41d2-a0f5-5de3b653b124",
   "metadata": {},
   "source": [
    "For demonstration purposes, we're going to restrict our dataset to the first few columns so that you can quickly run this notebook locally. If you want to use the full dataset, do not run the next cell and change `train_df_subset` to `train_df` in the rest of the notebook."
   ]
  },
  {
   "cell_type": "code",
   "execution_count": 48,
   "id": "7149db8b-3d9f-4494-a7ef-d69f18ea4d76",
   "metadata": {},
   "outputs": [],
   "source": [
    "train_df_subset = train_df.T[0:5].T\n",
    "test_df_subset = test_df.T[0:5].T"
   ]
  },
  {
   "cell_type": "markdown",
   "id": "e2e251eb-acc3-4bcf-a0b0-6abf56a56203",
   "metadata": {},
   "source": [
    "Let's print out the first few rows and columns of this dataset."
   ]
  },
  {
   "cell_type": "code",
   "execution_count": 46,
   "id": "ac377164-81cc-47eb-b8f8-7f74e8149d4e",
   "metadata": {},
   "outputs": [
    {
     "data": {
      "text/html": [
       "<div>\n",
       "<style scoped>\n",
       "    .dataframe tbody tr th:only-of-type {\n",
       "        vertical-align: middle;\n",
       "    }\n",
       "\n",
       "    .dataframe tbody tr th {\n",
       "        vertical-align: top;\n",
       "    }\n",
       "\n",
       "    .dataframe thead th {\n",
       "        text-align: right;\n",
       "    }\n",
       "</style>\n",
       "<table border=\"1\" class=\"dataframe\">\n",
       "  <thead>\n",
       "    <tr style=\"text-align: right;\">\n",
       "      <th></th>\n",
       "      <th>E_0</th>\n",
       "      <th>PX_0</th>\n",
       "      <th>PY_0</th>\n",
       "      <th>PZ_0</th>\n",
       "      <th>E_1</th>\n",
       "    </tr>\n",
       "  </thead>\n",
       "  <tbody>\n",
       "    <tr>\n",
       "      <th>17825</th>\n",
       "      <td>593.425598</td>\n",
       "      <td>10.976164</td>\n",
       "      <td>-254.818314</td>\n",
       "      <td>535.818176</td>\n",
       "      <td>250.897110</td>\n",
       "    </tr>\n",
       "    <tr>\n",
       "      <th>104211</th>\n",
       "      <td>240.854858</td>\n",
       "      <td>189.453262</td>\n",
       "      <td>97.291901</td>\n",
       "      <td>-112.484741</td>\n",
       "      <td>116.682274</td>\n",
       "    </tr>\n",
       "    <tr>\n",
       "      <th>337084</th>\n",
       "      <td>100.170258</td>\n",
       "      <td>-90.543556</td>\n",
       "      <td>-38.678379</td>\n",
       "      <td>-18.437143</td>\n",
       "      <td>84.275269</td>\n",
       "    </tr>\n",
       "    <tr>\n",
       "      <th>299097</th>\n",
       "      <td>851.673096</td>\n",
       "      <td>58.543289</td>\n",
       "      <td>256.335388</td>\n",
       "      <td>810.069092</td>\n",
       "      <td>135.725677</td>\n",
       "    </tr>\n",
       "    <tr>\n",
       "      <th>875065</th>\n",
       "      <td>109.890381</td>\n",
       "      <td>-97.126312</td>\n",
       "      <td>-48.310047</td>\n",
       "      <td>17.564585</td>\n",
       "      <td>107.755638</td>\n",
       "    </tr>\n",
       "  </tbody>\n",
       "</table>\n",
       "</div>"
      ],
      "text/plain": [
       "               E_0        PX_0        PY_0        PZ_0         E_1\n",
       "17825   593.425598   10.976164 -254.818314  535.818176  250.897110\n",
       "104211  240.854858  189.453262   97.291901 -112.484741  116.682274\n",
       "337084  100.170258  -90.543556  -38.678379  -18.437143   84.275269\n",
       "299097  851.673096   58.543289  256.335388  810.069092  135.725677\n",
       "875065  109.890381  -97.126312  -48.310047   17.564585  107.755638"
      ]
     },
     "execution_count": 46,
     "metadata": {},
     "output_type": "execute_result"
    }
   ],
   "source": [
    "train_df_subset.head()"
   ]
  },
  {
   "attachments": {},
   "cell_type": "markdown",
   "id": "e7dda834-6ed6-431e-b628-e8f12573c06a",
   "metadata": {},
   "source": [
    "## FastAI DataLoaders\n",
    "\n",
    "FastAI is a library for manipulating data and building AI models. You don't need a thorough understanding of this library to appreciate the use of AI for this particular task, but we highly encourage interested readers to explore further.\n",
    "\n",
    "In the next cell, we're going to use a `DataLoader` to load our dataset to the fastai format. This will do a number of important things for us like batch splitting, an important part of data preprocessing in machine learning tasks.\n",
    "\n",
    "In essence, our model is going to receive \"batches\" of training data that have just the right size so that they can fit into our computer memory. It wouldn't make sense to pass the entire dataset to our model all at once, simply because the dataset might be too large. By creating batches, we can take advantage of parallel processing units (such as those in GPUs) as well as shuffle our data around so that the model needs to learn from sparse samples at each given iteration."
   ]
  },
  {
   "cell_type": "code",
   "execution_count": null,
   "id": "1be77d6c-6a1f-4495-aabc-05ad5f091d70",
   "metadata": {},
   "outputs": [],
   "source": [
    "frac_of_samples = 1.0\n",
    "train_df = train_df.sample(int(frac_of_samples * len(train_df)), random_state=42)\n",
    "\n",
    "# features = list(train_df.drop(columns=[\"is_signal_new\"]).columns)\n",
    "features = list(train_df.columns)\n",
    "splits = RandomSplitter(valid_pct=0.20, seed=42)(range_of(train_df))\n",
    "\n",
    "dls = TabularDataLoaders.from_df(\n",
    "    df=train_df,\n",
    "    cont_names=features,\n",
    "    y_names=\"is_signal_new\",\n",
    "    y_block=CategoryBlock,\n",
    "    splits=splits,\n",
    "    bs=1024,\n",
    ")"
   ]
  },
  {
   "cell_type": "markdown",
   "id": "fc75f45f-5169-4379-a637-4bf491c70c44",
   "metadata": {},
   "source": [
    "## The Deep Neural Network Model\n",
    "\n",
    "In this section, we define the neural network using the `tabular_learner` function from FastAI. You can see the individual layers and their sizes below `learn.summary()`."
   ]
  },
  {
   "cell_type": "code",
   "execution_count": 37,
   "id": "7fa53581-6862-49a3-8c59-41f973b933c1",
   "metadata": {},
   "outputs": [],
   "source": [
    "learn = tabular_learner(\n",
    "    dls, layers=[200, 200, 50, 50], metrics=[accuracy, RocAucBinary()]\n",
    ")"
   ]
  },
  {
   "attachments": {},
   "cell_type": "markdown",
   "id": "7d511c02",
   "metadata": {},
   "source": [
    "The `tabular_learner` creates a deep neural network (DNN) with the layers specified according to the function parameters. Here we are building a network with 4 layers with the following number of nodes: 200, 200, 50, 50 respectively. We also specify that with this model, we are interested in its accuracy (i.e. how accurate is it at predicting a given jet represents a top-quark or a quark-gluon) and the metric to measure the accuracy is `RocAucBinary`. `RocAucBinary` is used for binary classification tasks such as this one and it is a measure of sensitivity of the true and false positive rate of prediction. For more information, see the following [documentation](https://scikit-learn.org/stable/modules/generated/sklearn.metrics.roc_auc_score.html#sklearn.metrics.roc_auc_score)."
   ]
  },
  {
   "cell_type": "code",
   "execution_count": 38,
   "id": "a97ae98a-5cba-4498-83f8-5ddf298eaf7b",
   "metadata": {},
   "outputs": [
    {
     "data": {
      "text/html": [
       "\n",
       "<style>\n",
       "    /* Turns off some styling */\n",
       "    progress {\n",
       "        /* gets rid of default border in Firefox and Opera. */\n",
       "        border: none;\n",
       "        /* Needs to be in here for Safari polyfill so background images work as expected. */\n",
       "        background-size: auto;\n",
       "    }\n",
       "    progress:not([value]), progress:not([value])::-webkit-progress-bar {\n",
       "        background: repeating-linear-gradient(45deg, #7e7e7e, #7e7e7e 10px, #5c5c5c 10px, #5c5c5c 20px);\n",
       "    }\n",
       "    .progress-bar-interrupted, .progress-bar-interrupted::-webkit-progress-bar {\n",
       "        background: #F44336;\n",
       "    }\n",
       "</style>\n"
      ],
      "text/plain": [
       "<IPython.core.display.HTML object>"
      ]
     },
     "metadata": {},
     "output_type": "display_data"
    },
    {
     "data": {
      "text/html": [],
      "text/plain": [
       "<IPython.core.display.HTML object>"
      ]
     },
     "metadata": {},
     "output_type": "display_data"
    },
    {
     "data": {
      "text/plain": [
       "TabularModel (Input shape: 1024 x 0)\n",
       "============================================================================\n",
       "Layer (type)         Output Shape         Param #    Trainable \n",
       "============================================================================\n",
       "                     1024 x 800          \n",
       "BatchNorm1d                               1600       True      \n",
       "____________________________________________________________________________\n",
       "                     1024 x 200          \n",
       "Linear                                    160000     True      \n",
       "ReLU                                                           \n",
       "BatchNorm1d                               400        True      \n",
       "Linear                                    40000      True      \n",
       "ReLU                                                           \n",
       "BatchNorm1d                               400        True      \n",
       "____________________________________________________________________________\n",
       "                     1024 x 50           \n",
       "Linear                                    10000      True      \n",
       "ReLU                                                           \n",
       "BatchNorm1d                               100        True      \n",
       "Linear                                    2500       True      \n",
       "ReLU                                                           \n",
       "BatchNorm1d                               100        True      \n",
       "____________________________________________________________________________\n",
       "                     1024 x 2            \n",
       "Linear                                    102        True      \n",
       "____________________________________________________________________________\n",
       "\n",
       "Total params: 215,202\n",
       "Total trainable params: 215,202\n",
       "Total non-trainable params: 0\n",
       "\n",
       "Optimizer used: <function Adam at 0x29e672790>\n",
       "Loss function: FlattenedLoss of CrossEntropyLoss()\n",
       "\n",
       "Callbacks:\n",
       "  - TrainEvalCallback\n",
       "  - Recorder\n",
       "  - ProgressCallback"
      ]
     },
     "execution_count": 38,
     "metadata": {},
     "output_type": "execute_result"
    }
   ],
   "source": [
    "learn.summary()"
   ]
  },
  {
   "cell_type": "markdown",
   "id": "beb46f3c-0485-4ba4-b3c2-1818c36abe0f",
   "metadata": {},
   "source": [
    "## Finding learning rate\n",
    "\n",
    "The learning rate sets the relative size of the learning steps that the model is taking during training, i.e. how much are the model's internal parameters changed every time it gets feedback on its predictions."
   ]
  },
  {
   "cell_type": "code",
   "execution_count": 39,
   "id": "eab4a519-bc16-4f38-a55a-b945b4a060ce",
   "metadata": {},
   "outputs": [
    {
     "data": {
      "text/html": [
       "\n",
       "<style>\n",
       "    /* Turns off some styling */\n",
       "    progress {\n",
       "        /* gets rid of default border in Firefox and Opera. */\n",
       "        border: none;\n",
       "        /* Needs to be in here for Safari polyfill so background images work as expected. */\n",
       "        background-size: auto;\n",
       "    }\n",
       "    progress:not([value]), progress:not([value])::-webkit-progress-bar {\n",
       "        background: repeating-linear-gradient(45deg, #7e7e7e, #7e7e7e 10px, #5c5c5c 10px, #5c5c5c 20px);\n",
       "    }\n",
       "    .progress-bar-interrupted, .progress-bar-interrupted::-webkit-progress-bar {\n",
       "        background: #F44336;\n",
       "    }\n",
       "</style>\n"
      ],
      "text/plain": [
       "<IPython.core.display.HTML object>"
      ]
     },
     "metadata": {},
     "output_type": "display_data"
    },
    {
     "data": {
      "text/html": [],
      "text/plain": [
       "<IPython.core.display.HTML object>"
      ]
     },
     "metadata": {},
     "output_type": "display_data"
    },
    {
     "data": {
      "text/plain": [
       "SuggestedLRs(valley=0.0012022644514217973)"
      ]
     },
     "execution_count": 39,
     "metadata": {},
     "output_type": "execute_result"
    },
    {
     "data": {
      "image/png": "[encoded data removed]",
      "text/plain": [
       "<Figure size 432x288 with 1 Axes>"
      ]
     },
     "metadata": {
      "needs_background": "light"
     },
     "output_type": "display_data"
    }
   ],
   "source": [
    "learn.lr_find()"
   ]
  },
  {
   "cell_type": "markdown",
   "id": "4f635954-0fc7-4ae8-a47c-e4ab38f309ce",
   "metadata": {},
   "source": [
    "## Training the model\n",
    "\n",
    "Here we're going to run one training cycle which is going to go through all the training data. If you're running this notebook youself, consider changing the number of epochs or learning rate."
   ]
  },
  {
   "cell_type": "code",
   "execution_count": 13,
   "id": "fc905dcf-a6da-438d-90fe-58412330c21d",
   "metadata": {},
   "outputs": [
    {
     "data": {
      "text/html": [
       "\n",
       "<style>\n",
       "    /* Turns off some styling */\n",
       "    progress {\n",
       "        /* gets rid of default border in Firefox and Opera. */\n",
       "        border: none;\n",
       "        /* Needs to be in here for Safari polyfill so background images work as expected. */\n",
       "        background-size: auto;\n",
       "    }\n",
       "    progress:not([value]), progress:not([value])::-webkit-progress-bar {\n",
       "        background: repeating-linear-gradient(45deg, #7e7e7e, #7e7e7e 10px, #5c5c5c 10px, #5c5c5c 20px);\n",
       "    }\n",
       "    .progress-bar-interrupted, .progress-bar-interrupted::-webkit-progress-bar {\n",
       "        background: #F44336;\n",
       "    }\n",
       "</style>\n"
      ],
      "text/plain": [
       "<IPython.core.display.HTML object>"
      ]
     },
     "metadata": {},
     "output_type": "display_data"
    },
    {
     "data": {
      "text/html": [
       "<table border=\"1\" class=\"dataframe\">\n",
       "  <thead>\n",
       "    <tr style=\"text-align: left;\">\n",
       "      <th>epoch</th>\n",
       "      <th>train_loss</th>\n",
       "      <th>valid_loss</th>\n",
       "      <th>accuracy</th>\n",
       "      <th>roc_auc_score</th>\n",
       "      <th>time</th>\n",
       "    </tr>\n",
       "  </thead>\n",
       "  <tbody>\n",
       "    <tr>\n",
       "      <td>0</td>\n",
       "      <td>0.516639</td>\n",
       "      <td>0.510640</td>\n",
       "      <td>0.733774</td>\n",
       "      <td>0.808236</td>\n",
       "      <td>04:35</td>\n",
       "    </tr>\n",
       "    <tr>\n",
       "      <td>1</td>\n",
       "      <td>0.425046</td>\n",
       "      <td>0.409908</td>\n",
       "      <td>0.806115</td>\n",
       "      <td>0.889215</td>\n",
       "      <td>03:42</td>\n",
       "    </tr>\n",
       "    <tr>\n",
       "      <td>2</td>\n",
       "      <td>0.382294</td>\n",
       "      <td>0.373090</td>\n",
       "      <td>0.830888</td>\n",
       "      <td>0.907570</td>\n",
       "      <td>03:09</td>\n",
       "    </tr>\n",
       "  </tbody>\n",
       "</table>"
      ],
      "text/plain": [
       "<IPython.core.display.HTML object>"
      ]
     },
     "metadata": {},
     "output_type": "display_data"
    }
   ],
   "source": [
    "learn.fit_one_cycle(n_epoch=3, lr_max=1e-3)"
   ]
  },
  {
   "cell_type": "code",
   "execution_count": null,
   "id": "b02ce75b-159a-4b33-b43c-ba54246c3ce2",
   "metadata": {},
   "outputs": [],
   "source": [
    "# You can inspect the results by uncommenting the following line\n",
    "# learn.show_results()"
   ]
  },
  {
   "cell_type": "markdown",
   "id": "684a44bd-a005-4817-8228-1ab93cb765b2",
   "metadata": {},
   "source": [
    "## Model Evaluation"
   ]
  },
  {
   "cell_type": "code",
   "execution_count": 15,
   "id": "d140979c-238e-40ba-afee-20c82310c639",
   "metadata": {},
   "outputs": [],
   "source": [
    "test_dl = learn.dls.test_dl(test_items=test_df)"
   ]
  },
  {
   "cell_type": "code",
   "execution_count": null,
   "id": "e9287dcf-0b5a-49ab-bfd7-74204d17d0c3",
   "metadata": {},
   "outputs": [],
   "source": [
    "preds, targs = learn.get_preds(dl=test_dl)"
   ]
  },
  {
   "cell_type": "code",
   "execution_count": 17,
   "id": "4875f88e-09f1-4ec3-bb22-9357e023711a",
   "metadata": {},
   "outputs": [
    {
     "data": {
      "text/plain": [
       "(tensor([[0.9989, 0.0011],\n",
       "         [0.7789, 0.2211],\n",
       "         [0.9449, 0.0551],\n",
       "         [0.3912, 0.6088],\n",
       "         [0.9609, 0.0391]]),\n",
       " tensor([[0],\n",
       "         [0],\n",
       "         [0],\n",
       "         [0],\n",
       "         [0]], dtype=torch.int8))"
      ]
     },
     "execution_count": 17,
     "metadata": {},
     "output_type": "execute_result"
    }
   ],
   "source": [
    "preds[:5], targs[:5]"
   ]
  },
  {
   "cell_type": "code",
   "execution_count": 18,
   "id": "beda5f36-6d4b-499d-9282-3c73bbec9e15",
   "metadata": {},
   "outputs": [
    {
     "data": {
      "image/png": "[encoded data removed]",
      "text/plain": [
       "<Figure size 432x288 with 1 Axes>"
      ]
     },
     "metadata": {
      "needs_background": "light"
     },
     "output_type": "display_data"
    }
   ],
   "source": [
    "signal_test = preds[:, 1][targs.flatten() == 1].numpy()\n",
    "background_test = preds[:, 1][targs.flatten() == 0].numpy()\n",
    "\n",
    "plt.hist(signal_test, histtype=\"step\", bins=20, range=(0, 1), label=\"Signal\")\n",
    "plt.hist(background_test, histtype=\"step\", bins=20, range=(0, 1), label=\"Background\")\n",
    "plt.xlabel(\"Probability\")\n",
    "plt.ylabel(\"Events/bin\")\n",
    "plt.yscale(\"log\")\n",
    "plt.xlim(0, 1)\n",
    "plt.legend(loc=\"lower right\", frameon=False)\n",
    "plt.show()"
   ]
  },
  {
   "cell_type": "code",
   "execution_count": 19,
   "id": "89e33853-5650-41c8-91b7-e7923ab4b31a",
   "metadata": {},
   "outputs": [
    {
     "data": {
      "image/png": "[encoded data removed]",
      "text/plain": [
       "<Figure size 432x288 with 1 Axes>"
      ]
     },
     "metadata": {
      "needs_background": "light"
     },
     "output_type": "display_data"
    }
   ],
   "source": [
    "# fpr = epsilon_B, tpr = epsilon_S\n",
    "fpr, tpr, thresholds = roc_curve(y_true=targs, y_score=preds[:, 1])\n",
    "\n",
    "plt.plot(fpr, tpr)\n",
    "plt.plot([0, 1], [0, 1], ls=\"--\", color=\"k\")\n",
    "plt.xlabel(r\"$\\epsilon_B$\")\n",
    "plt.ylabel(r\"$\\epsilon_S$\")\n",
    "plt.tight_layout()"
   ]
  },
  {
   "cell_type": "code",
   "execution_count": 20,
   "id": "4fee6a56-0106-4275-8677-73af8792a5d6",
   "metadata": {},
   "outputs": [
    {
     "name": "stdout",
     "output_type": "stream",
     "text": [
      "Accuracy: 0.8312\n",
      "AUC: 0.9075\n"
     ]
    }
   ],
   "source": [
    "acc_test = accuracy_score(targs, preds.argmax(dim=-1))\n",
    "auc_test = auc(fpr, tpr)\n",
    "print(f\"Accuracy: {acc_test:.4f}\")\n",
    "print(f\"AUC: {auc_test:.4f}\")"
   ]
  },
  {
   "cell_type": "markdown",
   "id": "e18bf438",
   "metadata": {},
   "source": [
    "We can see that after one training cycle with 3 epochs, we've reached a test accuracy of ~83%, not bad. Think about how you can improve on this result in your own experimentation."
   ]
  },
  {
   "cell_type": "code",
   "execution_count": 21,
   "id": "314c71b7-572e-4713-bb2b-2333f0376ab3",
   "metadata": {},
   "outputs": [
    {
     "name": "stdout",
     "output_type": "stream",
     "text": [
      "Backround rejection at signal efficiency 0.3: 41.274\n"
     ]
    }
   ],
   "source": [
    "background_eff = interp1d(tpr, fpr)\n",
    "background_eff_at_30 = background_eff(0.3)\n",
    "print(f\"Backround rejection at signal efficiency 0.3: {1/background_eff_at_30:0.3f}\")"
   ]
  },
  {
   "cell_type": "code",
   "execution_count": 22,
   "id": "3af9189d-f95c-46ef-88ea-e3a9ddf6ca87",
   "metadata": {},
   "outputs": [],
   "source": [
    "def compute_metrics(learn, test_df):\n",
    "    test_dl = learn.dls.test_dl(test_items=test_df)\n",
    "    preds, targs = learn.get_preds(dl=test_dl)\n",
    "    fpr, tpr, _ = roc_curve(y_true=targs, y_score=preds[:, 1])\n",
    "    acc_test = accuracy_score(targs, preds.argmax(dim=-1))\n",
    "    auc_test = auc(fpr, tpr)\n",
    "    background_eff = interp1d(tpr, fpr)\n",
    "    background_eff_at_30 = background_eff(0.3)\n",
    "\n",
    "    print(f\"Accuracy: {acc_test:.4f}\")\n",
    "    print(f\"AUC: {auc_test:.4f}\")\n",
    "    print(\n",
    "        f\"Backround rejection at signal efficiency 0.3: {1/background_eff_at_30:0.3f}\"\n",
    "    )\n",
    "    return fpr, tpr"
   ]
  },
  {
   "cell_type": "code",
   "execution_count": 23,
   "id": "2c7ce0b0-1718-49f9-820e-424682b6d0a1",
   "metadata": {},
   "outputs": [
    {
     "data": {
      "text/html": [
       "\n",
       "<style>\n",
       "    /* Turns off some styling */\n",
       "    progress {\n",
       "        /* gets rid of default border in Firefox and Opera. */\n",
       "        border: none;\n",
       "        /* Needs to be in here for Safari polyfill so background images work as expected. */\n",
       "        background-size: auto;\n",
       "    }\n",
       "    progress:not([value]), progress:not([value])::-webkit-progress-bar {\n",
       "        background: repeating-linear-gradient(45deg, #7e7e7e, #7e7e7e 10px, #5c5c5c 10px, #5c5c5c 20px);\n",
       "    }\n",
       "    .progress-bar-interrupted, .progress-bar-interrupted::-webkit-progress-bar {\n",
       "        background: #F44336;\n",
       "    }\n",
       "</style>\n"
      ],
      "text/plain": [
       "<IPython.core.display.HTML object>"
      ]
     },
     "metadata": {},
     "output_type": "display_data"
    },
    {
     "data": {
      "text/html": [],
      "text/plain": [
       "<IPython.core.display.HTML object>"
      ]
     },
     "metadata": {},
     "output_type": "display_data"
    },
    {
     "name": "stdout",
     "output_type": "stream",
     "text": [
      "Accuracy: 0.8312\n",
      "AUC: 0.9075\n",
      "Backround rejection at signal efficiency 0.3: 41.274\n"
     ]
    }
   ],
   "source": [
    "fpr_baseline, tpr_baseline = compute_metrics(learn, test_df)"
   ]
  },
  {
   "cell_type": "markdown",
   "id": "483a7cdf",
   "metadata": {},
   "source": [
    "This concludes our short exploration of the use of Deep Neural Networks in particle physics."
   ]
  }
 ],
 "metadata": {
  "kernelspec": {
   "display_name": "Python 3.8.13 ('deeplr')",
   "language": "python",
   "name": "python3"
  },
  "language_info": {
   "codemirror_mode": {
    "name": "ipython",
    "version": 3
   },
   "file_extension": ".py",
   "mimetype": "text/x-python",
   "name": "python",
   "nbconvert_exporter": "python",
   "pygments_lexer": "ipython3",
   "version": "3.8.13"
  },
  "vscode": {
   "interpreter": {
    "hash": "9e7cdc26c5a212bb4dc4cdbab80bf6df3ceb87a47e86b5b5f59b21563684544d"
   }
  }
 },
 "nbformat": 4,
 "nbformat_minor": 5
}
