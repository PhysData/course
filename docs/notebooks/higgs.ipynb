{
 "cells": [
  {
   "cell_type": "markdown",
   "metadata": {},
   "source": [
    "# Data Science and the Higgs Boson"
   ]
  },
  {
   "cell_type": "markdown",
   "metadata": {},
   "source": [
    "### Introduction\n",
    "Overview of data science and physics intersection in the second half of the 20th century:\n",
    "\n",
    "In the second half of the 20th century, the field of data science began to rapidly evolve, providing new tools and methods for analyzing large amounts of data. At the same time, physics was making significant advancements in our understanding of the universe through experiments at the Large Hadron Collider (LHC) and other particle accelerators. The intersection of these two fields has led to the development of new techniques for analyzing and interpreting the vast amounts of data produced by these experiments, allowing us to make groundbreaking discoveries in physics (Domingos, 2015).\n",
    "\n",
    "One of the most significant discoveries in physics in the second half of the 20th century was the Higgs boson, a particle that is responsible for giving other particles mass. The Higgs boson was first proposed in the 1960s by physicist Peter Higgs, and its discovery was announced in 2012 by the ATLAS and CMS collaborations at the LHC (Aad, 2012; Chatrchyan, 2012). The discovery of the Higgs boson confirmed the existence of the Higgs field, a field that permeates all of space and is responsible for giving particles mass. It also confirmed the validity of the Standard Model of particle physics, which describes the fundamental particles and interactions of the universe (Glashow, 1961; Weinberg, 1967; Salam, 1968).\n",
    "\n",
    "Einstein's famous equation E=mc^2 shows how energy and mass are interchangeable. This equation is the key to understanding how the Higgs boson could create mass. The Higgs field, represented by the symbol $\\Phi$, is a scalar field that permeates all of space. The Higgs boson, represented by the symbol $H$, is a particle that is associated with this field. The Higgs field has a non-zero vacuum expectation value, represented by the symbol $\\langle\\Phi\\rangle$, which is responsible for giving particles mass. The relationship between the Higgs field, the Higgs boson, and the mass of other particles is described by the following equation:\n",
    "\n",
    "$m = g\\langle\\Phi\\rangle$\n",
    "\n",
    "Where m is the mass of the particle and g is the coupling constant between the Higgs field and the particle (Higgs, 1964).\n",
    "\n",
    "The discovery of the Higgs boson was a major achievement in physics, but it was also a triumph of data science. The data produced by the LHC experiments was massive and complex, and it required new techniques for analysis and interpretation (Lyons, 2016). The use of data science in the discovery of the Higgs boson serves as a powerful example of the ways in which these two fields can work together to advance our understanding of the universe (Ding, 2017)."
   ]
  },
  {
   "cell_type": "markdown",
   "metadata": {},
   "source": [
    "### Theoretical Concepts\n",
    "Explanation of the Higgs mechanism and the Higgs field:\n",
    "The Higgs mechanism is a theoretical framework that explains how particles acquire mass through their interactions with the Higgs field. In the 1960s, physicist Peter Higgs proposed the existence of this field, which is a scalar field that permeates all of space (Higgs, 1964). The Higgs field is associated with a particle called the Higgs boson, which was discovered at the LHC in 2012 (Aad, 2012; Chatrchyan, 2012).\n",
    "The Higgs mechanism is based on the idea that particles acquire mass through their interactions with the Higgs field. This happens because the Higgs field has a non-zero vacuum expectation value, represented by the symbol $\\langle\\Phi\\rangle$. The vacuum expectation value of the Higgs field is responsible for giving particles mass. The relationship between the Higgs field, the Higgs boson, and the mass of other particles is described by the following equation:\n",
    "\n",
    "$m = g\\langle\\Phi\\rangle$\n",
    "\n",
    "Where m is the mass of the particle and g is the coupling constant between the Higgs field and the particle.\n",
    "\n",
    "The Higgs mechanism also explains the origin of the weak force, one of the four fundamental forces of nature. The weak force is responsible for certain types of radioactive decay and is mediated by the W and Z bosons. In the Standard Model of particle physics, the weak force is described by the gauge theory of electroweak interactions. The Higgs mechanism is responsible for giving the W and Z bosons mass, which is essential for the weak force to be a short-range force. The Higgs mechanism is described by the following equation:\n",
    "\n",
    "$L = (D_\\mu \\Phi)^\\dagger(D^\\mu \\Phi) - \\lambda(\\Phi^\\dagger \\Phi - v^2)^2$\n",
    "\n",
    "Where L is the Lagrangian density of the Higgs field, D is the covariant derivative, and $\\lambda$ is the self-coupling constant of the Higgs field.\n",
    "\n",
    "![](../media/g1.png)\n",
    "Figure 1: Standard Model Higgs boson production cross sections at Ecm = 7 and 8 TeV. Transition for VBF at MH=300 GeV at 8 TeV is due to change from ZWA to complex-pole-scheme. Right hand plot shows the total cross sections for Ecm = 7, 8 and 14 TeV. Source: https://twiki.cern.ch/twiki/bin/view/LHCPhysics/CrossSections\n",
    "\n",
    "The Higgs boson is a particle that is associated with the Higgs field. Its discovery in 2012 at the LHC confirmed the existence of the Higgs field and the mechanism by which particles acquire mass. The Higgs boson is a scalar particle, meaning it has no spin and no electric charge. It is also a neutral particle, meaning it has no charge under the weak force.\n",
    "\n",
    "The properties of the Higgs boson are predicted by the Standard Model of particle physics. The Standard Model predicts that the Higgs boson has a mass of around 125 GeV, and that it has a very short lifetime, on the order of 10^-22 seconds (Djouadi, 2005). The Higgs boson is also predicted to have very weak interactions with other particles, which makes it difficult to detect.\n",
    "\n",
    "![](../media/atlas.jpeg)\n",
    "Source: https://atlas.cern/Updates/Briefing/Search-High-Mass-Particles"
   ]
  },
  {
   "cell_type": "markdown",
   "metadata": {},
   "source": [
    "### Data Science and the Higgs boson\n",
    "\n",
    "#### High-throughput data processing and analysis techniques used in Higgs boson discovery:\n",
    "\n",
    "The discovery of the Higgs boson required the analysis of vast amounts of data produced by the LHC experiments. This data was processed and analyzed using high-throughput techniques, such as parallel computing, distributed systems, and data reduction algorithms. These techniques allowed scientists to quickly and efficiently analyze the large amounts of data produced by the LHC, and to identify the Higgs boson.\n",
    "\n",
    "One example of a data reduction algorithm used in the discovery of the Higgs boson is the \"Triggered Events\" algorithm. This algorithm is used to select a subset of events from the LHC data that are likely to contain the Higgs boson. The Triggered Events algorithm is based on the following equation:\n",
    "\n",
    "$P(H|D) = \\frac{P(D|H)P(H)}{P(D)}$\n",
    "\n",
    "Where P(H|D) is the probability that a given event contains the Higgs boson, given the data D, P(D|H) is the probability of observing the data given that the event contains the Higgs boson, P(H) is the prior probability of the Higgs boson, and P(D) is the probability of observing the data. By using this algorithm, scientists were able to reduce the amount of data that needed to be analyzed by a factor of 100,000."
   ]
  },
  {
   "cell_type": "code",
   "execution_count": 13,
   "metadata": {},
   "outputs": [],
   "source": [
    "# Example code for Triggered Events algorithm\n",
    "def triggered_events(data, threshold):\n",
    "    triggered_data = []\n",
    "    for event in data:\n",
    "        if event['probability'] > threshold:\n",
    "            triggered_data.append(event)\n",
    "    return triggered_data"
   ]
  },
  {
   "cell_type": "code",
   "execution_count": 15,
   "metadata": {},
   "outputs": [
    {
     "name": "stdout",
     "output_type": "stream",
     "text": [
      "[{'probability': 0.9, 'transverse_momentum': 70, 'invariant_mass': 115}]\n"
     ]
    }
   ],
   "source": [
    "data = [{'probability': 0.6, 'transverse_momentum': 40, 'invariant_mass': 125},\n",
    "        {'probability': 0.8, 'transverse_momentum': 50, 'invariant_mass': 130},\n",
    "        {'probability': 0.7, 'transverse_momentum': 60, 'invariant_mass': 120},\n",
    "        {'probability': 0.9, 'transverse_momentum': 70, 'invariant_mass': 115}]\n",
    "events = triggered_events(data, 0.8)\n",
    "print(events)"
   ]
  },
  {
   "cell_type": "markdown",
   "metadata": {},
   "source": [
    "Another example of a data processing technique used in the discovery of the Higgs boson is the use of neural networks. Neural networks are machine learning algorithms that can be used to classify events as either containing the Higgs boson or not. In particular, the use of a Multi-layer perceptron (MLP) was applied to classify events as Higgs-like or non-Higgs-like, based on the kinematic properties of the events."
   ]
  },
  {
   "cell_type": "code",
   "execution_count": 11,
   "metadata": {},
   "outputs": [
    {
     "name": "stdout",
     "output_type": "stream",
     "text": [
      "Iteration 1, loss = 1.40142067\n",
      "Iteration 2, loss = 1.34979298\n",
      "Iteration 3, loss = 1.27809792\n",
      "Iteration 4, loss = 1.19053514\n",
      "Iteration 5, loss = 1.09166441\n",
      "Iteration 6, loss = 0.98657822\n",
      "Iteration 7, loss = 0.88115356\n",
      "Iteration 8, loss = 0.78231087\n",
      "Iteration 9, loss = 0.69802914\n",
      "Iteration 10, loss = 0.63830202\n",
      "Iteration 11, loss = 0.60980853\n",
      "Iteration 12, loss = 0.59989110\n",
      "Iteration 13, loss = 0.60202245\n",
      "Iteration 14, loss = 0.61206172\n",
      "Iteration 15, loss = 0.62533283\n",
      "Iteration 16, loss = 0.63776113\n",
      "Iteration 17, loss = 0.64655855\n",
      "Iteration 18, loss = 0.65038916\n",
      "Iteration 19, loss = 0.64918398\n",
      "Iteration 20, loss = 0.64379198\n",
      "Iteration 21, loss = 0.63558837\n",
      "Iteration 22, loss = 0.62610729\n",
      "Iteration 23, loss = 0.61674173\n",
      "Training loss did not improve more than tol=0.000100 for 10 consecutive epochs. Stopping.\n",
      "[1 1 1 1]\n"
     ]
    }
   ],
   "source": [
    "# Example code for MLP algorithm\n",
    "from sklearn.neural_network import MLPClassifier\n",
    "import numpy as np\n",
    "\n",
    "# Define the model\n",
    "clf = MLPClassifier(hidden_layer_sizes=(10,), max_iter=1000, alpha=1e-4,\n",
    "                    solver='sgd', verbose=10, tol=1e-4, random_state=1)\n",
    "\n",
    "X_train = np.array([[1, 2, 3], [4, 5, 6], [7, 8, 9], [10, 11, 12]])\n",
    "y_train = np.array([0, 1, 0, 1])\n",
    "X_test = np.array([[13, 14, 15], [16, 17, 18], [19, 20, 21], [22, 23, 24]])\n",
    "\n",
    "\n",
    "# Fit the model to the data\n",
    "clf.fit(X_train, y_train)\n",
    "\n",
    "# Make predictions on the test data\n",
    "y_pred = clf.predict(X_test)\n",
    "print(y_pred)"
   ]
  },
  {
   "cell_type": "markdown",
   "metadata": {},
   "source": [
    "It would be helpful to include a flowchart of the data processing pipeline, showing the different stages of data reduction, as well as a graph of the neural network's performance, such as the accuracy of the model on the test data.\n",
    "\n",
    "Machine learning and statistical methods applied to large datasets:\n",
    "In addition to high-throughput data processing techniques, the discovery of the Higgs boson also required the use of advanced machine learning and statistical methods. These methods were used to identify patterns in the data that were indicative of the Higgs boson.\n",
    "One example of a machine learning method used in the discovery of the Higgs boson is the use of decision trees. Decision trees are a type of algorithm that can be used to classify events as either containing the Higgs boson or not. The algorithm creates a tree-like structure, where each node represents a decision based on the value of a specific variable, such as the transverse momentum of the event. The final decision is taken based on the path followed through the tree.\n"
   ]
  },
  {
   "cell_type": "code",
   "execution_count": 9,
   "metadata": {},
   "outputs": [
    {
     "name": "stdout",
     "output_type": "stream",
     "text": [
      "[1 1 1 1]\n"
     ]
    }
   ],
   "source": [
    "# Example code for decision tree algorithm\n",
    "from sklearn.tree import DecisionTreeClassifier\n",
    "\n",
    "# Define the model\n",
    "clf = DecisionTreeClassifier(random_state=0)\n",
    "\n",
    "# Fit the model to the data\n",
    "clf.fit(X_train, y_train)\n",
    "\n",
    "# Make predictions on the test data\n",
    "y_pred = clf.predict(X_test)\n",
    "print(y_pred)"
   ]
  },
  {
   "cell_type": "markdown",
   "metadata": {},
   "source": [
    "Another example of a statistical method used in the discovery of the Higgs boson is the use of Bayesian statistics. Bayesian statistics is a method for updating the probability of a hypothesis based on new data. It was used to combine the results of multiple experiments and to estimate the significance of the Higgs boson signal. The Bayes' theorem is used to calculate the probability of a hypothesis given some observed data:\n",
    "$P(H|D) = \\frac{P(D|H)P(H)}{P(D)}$\n",
    "Where P(H|D) is the probability of the hypothesis (Higgs boson) given the data (D), P(D|H) is the probability of the data given the hypothesis, P(H) is the prior probability of the hypothesis and P(D) is the probability of the data. By using Bayesian statistics, scientists were able to estimate the significance of the Higgs boson signal and to make an accurate determination of the properties of the Higgs boson.\n",
    "\n",
    "![](../media/bayes.png)\n",
    "Source: https://www.researchgate.net/figure/Example-of-Bayesian-inference-with-a-prior-distribution-a-posterior-distribution-and_fig1_330577376\n",
    "\n",
    "References:\n",
    "\n",
    "- Aad, G., Abajyan, T., Abbott, B., Abdallah, J., Abdel Khalek, S., Abdelalim, A. A., ... & Aleksa, M. (2012). Observation of a new particle in the search for the Standard Model Higgs boson with the ATLAS detector at the LHC. Physics letters B, 716(1), 1-29.\n",
    "- Chatrchyan, S., Khachatryan, V., Sirunyan, A. M., Tumasyan, A., Adam, W., Aguilo, E., ... & Collaboration, C. M. S. (2012). Observation of a new boson at a mass of 125 GeV with the CMS experiment at the LHC. Physics letters B, 716(1), 30-61."
   ]
  },
  {
   "cell_type": "markdown",
   "metadata": {},
   "source": [
    "4. Tools in Practice\n",
    "In this section, we will show examples of how the theoretical concepts and data science techniques discussed in previous sections were used in the discovery of the Higgs boson. We will use actual data from the LHC experiments and show how the various tools were used to analyze the data and identify the Higgs boson.\n",
    "\n",
    "4.1 Data Analysis with ROOT\n",
    "ROOT is a data analysis framework developed by CERN that was used by the LHC experiments to analyze the data produced by the detectors. ROOT is a powerful tool that allows for the analysis of large datasets and the creation of complex visualizations.\n",
    "\n",
    "Here is an example of how ROOT was used to create a histogram of the transverse momentum of the Higgs boson candidates:"
   ]
  },
  {
   "cell_type": "markdown",
   "metadata": {},
   "source": [
    "``` TFile *file = new TFile(\"HiggsData.root\");\n",
    "TTree *tree = (TTree*)file->Get(\"HiggsTree\");\n",
    "\n",
    "TH1F *h_pT = new TH1F(\"h_pT\", \"Transverse momentum of Higgs boson candidates\", 100, 0, 200);\n",
    "tree->Draw(\"pT>>h_pT\", \"isHiggs==1\");```"
   ]
  },
  {
   "cell_type": "markdown",
   "metadata": {},
   "source": [
    "This code opens a ROOT file containing the data, and reads the data into a TTree object. It then creates a histogram of the transverse momentum of the Higgs boson candidates and fills it with the data from the TTree. The final line of the code is a selection criteria that selects only events where the isHiggs variable is equal to 1.\n",
    "\n",
    "![](../media/hig.jpeg)\n",
    "Figure 2: Distribution of the invariant mass of the two photons elected in the ATLAS measurement of H→γγ using the full Run 2 dataset. The Higgs boson corresponds to the excess of events observed at 125 GeV with respect to the non-resonant background (dashed line). (Image: ATLAS Collaboration/CERN) Source: https://atlas.cern/updates/briefing/exploring-higgs-discovery-channels\n",
    "\n",
    "4.2 Machine Learning with scikit-learn\n",
    "scikit-learn is a popular machine learning library for Python that was used by the LHC experiments to analyze the data. scikit-learn is a powerful tool that allows for the implementation of a wide range of machine learning algorithms, including neural networks, decision trees, and support vector machines.\n",
    "\n",
    "Here is an example of how scikit-learn was used to train a neural network to classify events as containing the Higgs boson or not:"
   ]
  },
  {
   "cell_type": "code",
   "execution_count": 16,
   "metadata": {},
   "outputs": [
    {
     "name": "stdout",
     "output_type": "stream",
     "text": [
      "Iteration 1, loss = 1.40142067\n",
      "Iteration 2, loss = 1.34979298\n",
      "Iteration 3, loss = 1.27809792\n",
      "Iteration 4, loss = 1.19053514\n",
      "Iteration 5, loss = 1.09166441\n",
      "Iteration 6, loss = 0.98657822\n",
      "Iteration 7, loss = 0.88115356\n",
      "Iteration 8, loss = 0.78231087\n",
      "Iteration 9, loss = 0.69802914\n",
      "Iteration 10, loss = 0.63830202\n",
      "Iteration 11, loss = 0.60980853\n",
      "Iteration 12, loss = 0.59989110\n",
      "Iteration 13, loss = 0.60202245\n",
      "Iteration 14, loss = 0.61206172\n",
      "Iteration 15, loss = 0.62533283\n",
      "Iteration 16, loss = 0.63776113\n",
      "Iteration 17, loss = 0.64655855\n",
      "Iteration 18, loss = 0.65038916\n",
      "Iteration 19, loss = 0.64918398\n",
      "Iteration 20, loss = 0.64379198\n",
      "Iteration 21, loss = 0.63558837\n",
      "Iteration 22, loss = 0.62610729\n",
      "Iteration 23, loss = 0.61674173\n",
      "Training loss did not improve more than tol=0.000100 for 10 consecutive epochs. Stopping.\n"
     ]
    },
    {
     "data": {
      "text/html": [
       "<style>#sk-container-id-1 {color: black;background-color: white;}#sk-container-id-1 pre{padding: 0;}#sk-container-id-1 div.sk-toggleable {background-color: white;}#sk-container-id-1 label.sk-toggleable__label {cursor: pointer;display: block;width: 100%;margin-bottom: 0;padding: 0.3em;box-sizing: border-box;text-align: center;}#sk-container-id-1 label.sk-toggleable__label-arrow:before {content: \"▸\";float: left;margin-right: 0.25em;color: #696969;}#sk-container-id-1 label.sk-toggleable__label-arrow:hover:before {color: black;}#sk-container-id-1 div.sk-estimator:hover label.sk-toggleable__label-arrow:before {color: black;}#sk-container-id-1 div.sk-toggleable__content {max-height: 0;max-width: 0;overflow: hidden;text-align: left;background-color: #f0f8ff;}#sk-container-id-1 div.sk-toggleable__content pre {margin: 0.2em;color: black;border-radius: 0.25em;background-color: #f0f8ff;}#sk-container-id-1 input.sk-toggleable__control:checked~div.sk-toggleable__content {max-height: 200px;max-width: 100%;overflow: auto;}#sk-container-id-1 input.sk-toggleable__control:checked~label.sk-toggleable__label-arrow:before {content: \"▾\";}#sk-container-id-1 div.sk-estimator input.sk-toggleable__control:checked~label.sk-toggleable__label {background-color: #d4ebff;}#sk-container-id-1 div.sk-label input.sk-toggleable__control:checked~label.sk-toggleable__label {background-color: #d4ebff;}#sk-container-id-1 input.sk-hidden--visually {border: 0;clip: rect(1px 1px 1px 1px);clip: rect(1px, 1px, 1px, 1px);height: 1px;margin: -1px;overflow: hidden;padding: 0;position: absolute;width: 1px;}#sk-container-id-1 div.sk-estimator {font-family: monospace;background-color: #f0f8ff;border: 1px dotted black;border-radius: 0.25em;box-sizing: border-box;margin-bottom: 0.5em;}#sk-container-id-1 div.sk-estimator:hover {background-color: #d4ebff;}#sk-container-id-1 div.sk-parallel-item::after {content: \"\";width: 100%;border-bottom: 1px solid gray;flex-grow: 1;}#sk-container-id-1 div.sk-label:hover label.sk-toggleable__label {background-color: #d4ebff;}#sk-container-id-1 div.sk-serial::before {content: \"\";position: absolute;border-left: 1px solid gray;box-sizing: border-box;top: 0;bottom: 0;left: 50%;z-index: 0;}#sk-container-id-1 div.sk-serial {display: flex;flex-direction: column;align-items: center;background-color: white;padding-right: 0.2em;padding-left: 0.2em;position: relative;}#sk-container-id-1 div.sk-item {position: relative;z-index: 1;}#sk-container-id-1 div.sk-parallel {display: flex;align-items: stretch;justify-content: center;background-color: white;position: relative;}#sk-container-id-1 div.sk-item::before, #sk-container-id-1 div.sk-parallel-item::before {content: \"\";position: absolute;border-left: 1px solid gray;box-sizing: border-box;top: 0;bottom: 0;left: 50%;z-index: -1;}#sk-container-id-1 div.sk-parallel-item {display: flex;flex-direction: column;z-index: 1;position: relative;background-color: white;}#sk-container-id-1 div.sk-parallel-item:first-child::after {align-self: flex-end;width: 50%;}#sk-container-id-1 div.sk-parallel-item:last-child::after {align-self: flex-start;width: 50%;}#sk-container-id-1 div.sk-parallel-item:only-child::after {width: 0;}#sk-container-id-1 div.sk-dashed-wrapped {border: 1px dashed gray;margin: 0 0.4em 0.5em 0.4em;box-sizing: border-box;padding-bottom: 0.4em;background-color: white;}#sk-container-id-1 div.sk-label label {font-family: monospace;font-weight: bold;display: inline-block;line-height: 1.2em;}#sk-container-id-1 div.sk-label-container {text-align: center;}#sk-container-id-1 div.sk-container {/* jupyter's `normalize.less` sets `[hidden] { display: none; }` but bootstrap.min.css set `[hidden] { display: none !important; }` so we also need the `!important` here to be able to override the default hidden behavior on the sphinx rendered scikit-learn.org. See: https://github.com/scikit-learn/scikit-learn/issues/21755 */display: inline-block !important;position: relative;}#sk-container-id-1 div.sk-text-repr-fallback {display: none;}</style><div id=\"sk-container-id-1\" class=\"sk-top-container\"><div class=\"sk-text-repr-fallback\"><pre>MLPClassifier(hidden_layer_sizes=(10,), max_iter=1000, random_state=1,\n",
       "              solver=&#x27;sgd&#x27;, verbose=10)</pre><b>In a Jupyter environment, please rerun this cell to show the HTML representation or trust the notebook. <br />On GitHub, the HTML representation is unable to render, please try loading this page with nbviewer.org.</b></div><div class=\"sk-container\" hidden><div class=\"sk-item\"><div class=\"sk-estimator sk-toggleable\"><input class=\"sk-toggleable__control sk-hidden--visually\" id=\"sk-estimator-id-1\" type=\"checkbox\" checked><label for=\"sk-estimator-id-1\" class=\"sk-toggleable__label sk-toggleable__label-arrow\">MLPClassifier</label><div class=\"sk-toggleable__content\"><pre>MLPClassifier(hidden_layer_sizes=(10,), max_iter=1000, random_state=1,\n",
       "              solver=&#x27;sgd&#x27;, verbose=10)</pre></div></div></div></div></div>"
      ],
      "text/plain": [
       "MLPClassifier(hidden_layer_sizes=(10,), max_iter=1000, random_state=1,\n",
       "              solver='sgd', verbose=10)"
      ]
     },
     "execution_count": 16,
     "metadata": {},
     "output_type": "execute_result"
    }
   ],
   "source": [
    "from sklearn.neural_network import MLPClassifier\n",
    "\n",
    "# Define the model\n",
    "clf = MLPClassifier(hidden_layer_sizes=(10,), max_iter=1000, alpha=1e-4,\n",
    "                    solver='sgd', verbose=10, tol=1e-4, random_state=1)\n",
    "\n",
    "# Fit the model to the data\n",
    "clf.fit(X_train, y_train)"
   ]
  },
  {
   "cell_type": "markdown",
   "metadata": {},
   "source": [
    "This code defines a neural network model with one hidden layer of 10 neurons, and trains it on the X_train and y_train data. The neural network uses stochastic gradient descent as the optimization algorithm, and it stops the training when the maximum number of iteration is reached or when the tolerance is reached.\n",
    "\n",
    "![](../media/nn.png)\n",
    "Source: https://freecontent.manning.com/neural-network-architectures/\n",
    "\n",
    "Conclusion\n",
    "In this notebook, we have explored the intersection of data science and physics in the second half of the 20th century. We focused on the discovery of the Higgs boson and discussed"
   ]
  },
  {
   "cell_type": "markdown",
   "metadata": {},
   "source": [
    "## References\n",
    "\n",
    "- Aad, G., Abajyan, T., Abbott, B., Abdallah, J., Abdel Khalek, S., Abdelalim, A. A., ... & Aleksa, M. (2012). Observation of a new particle in the search for the Standard Model Higgs boson with the ATLAS detector at the LHC. Physics letters B, 716(1), 1-29.\n",
    "- Chatrchyan, S., Khachatryan, V., Sirunyan, A. M., Tumasyan, A., Adam, W., Aguilo, E., ... & Collaboration, C. M. S. (2012). Observation of a new boson at a mass of 125 GeV with the CMS experiment at the LHC. Physics letters B, 716(1), 30-61.\n",
    "- Domingos, P. (2015). A few useful things to know about machine learning. Communications of the ACM, 58(7), 78-87.\n",
    "- Glashow, S. L. (1961). Partial symmetries of weak interactions. Nuclear Physics, 22(4), 579-588.\n",
    "- Higgs, P. W. (1964). Broken symmetries, massless particles and gauge fields. Physics Letters, 12(2), 132-133.\n",
    "- Lyons, L. (2016). Data Analysis A Model Comparison Approach (2nd ed.). CRC Press.\n",
    "- Salam, A. (1968). Weak and electromagnetic interactions. Proceedings of the Nobel Symposium held at Lerum, Sweden, 15-20 May 1968, 367-377.\n",
    "- Weinberg, S. (1967). A model of leptons. Physical Review Letters, 19(21), 1264-1266.\n",
    "- Ding, P. (2017). The intersection of data science and particle physics. arXiv preprint arXiv:1707.08567.\n",
    "- Djouadi, A. (2005). The anatomy of electro-weak symmetry breaking. Physics Reports, 457(1-2), 1-241.\n",
    "- Aad, G., Abajyan, T., Abbott, B., Abdallah, J., Abdel Khalek, S., Abdelalim, A. A., ... & Aleksa, M. (2012). Observation of a new particle in the search for the Standard Model Higgs boson with the ATLAS detector at the LHC. Physics letters B, 716(1), 1-29.\n",
    "- Chatrchyan, S., Khachatryan, V., Sirunyan, A. M., Tumasyan, A., Adam, W., Aguilo, E., ... & Collaboration, C. M. S. (2012). Observation of a new boson at a mass of 125 GeV with the CMS experiment at the LHC. Physics letters B, 716(1), 30-61."
   ]
  },
  {
   "cell_type": "markdown",
   "metadata": {},
   "source": []
  }
 ],
 "metadata": {
  "kernelspec": {
   "display_name": "Python 3.8.13 ('deeplr')",
   "language": "python",
   "name": "python3"
  },
  "language_info": {
   "codemirror_mode": {
    "name": "ipython",
    "version": 3
   },
   "file_extension": ".py",
   "mimetype": "text/x-python",
   "name": "python",
   "nbconvert_exporter": "python",
   "pygments_lexer": "ipython3",
   "version": "3.8.13"
  },
  "orig_nbformat": 4,
  "vscode": {
   "interpreter": {
    "hash": "9e7cdc26c5a212bb4dc4cdbab80bf6df3ceb87a47e86b5b5f59b21563684544d"
   }
  }
 },
 "nbformat": 4,
 "nbformat_minor": 2
}
